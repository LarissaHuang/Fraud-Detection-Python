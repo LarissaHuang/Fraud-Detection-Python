{
  "cells": [
    {
      "cell_type": "markdown",
      "metadata": {
        "colab_type": "text",
        "id": "view-in-github"
      },
      "source": [
        "<a href=\"https://colab.research.google.com/github/LarissaHuang/Fraud-Detection-Python/blob/main/Fraud_Detection_Python_Final.ipynb\" target=\"_parent\"><img src=\"https://colab.research.google.com/assets/colab-badge.svg\" alt=\"Open In Colab\"/></a>"
      ]
    },
    {
      "cell_type": "markdown",
      "id": "p6SJG5MdSSC6",
      "metadata": {
        "id": "p6SJG5MdSSC6"
      },
      "source": [
        "## Table of Contents"
      ]
    },
    {
      "cell_type": "markdown",
      "id": "Vzuw0LfrSGmM",
      "metadata": {
        "colab_type": "toc",
        "id": "Vzuw0LfrSGmM"
      },
      "source": [
        ">>>[EDA](#scrollTo=6e8b12a1)\n",
        "\n",
        ">>>[Using SMOTE for unbalanced data](#scrollTo=43762398)\n",
        "\n",
        ">>[Plotting the resampled train data](#scrollTo=7f3c5acc)\n",
        "\n",
        ">>>[Compare resampled data with original data](#scrollTo=74fda9d3)\n",
        "\n",
        ">>>>[Findings from above:](#scrollTo=2c8991f2)\n",
        "\n",
        ">>>[Visualize two plots side by side](#scrollTo=56317421)\n",
        "\n",
        ">>>>[Findings from above:](#scrollTo=5741f2e8)\n",
        "\n",
        ">>[The traditional way to catch fraud](#scrollTo=9c7e506d)\n",
        "\n",
        ">>[Machine learning classification to catch fraud](#scrollTo=440842ee)\n",
        "\n",
        ">>>[Logistic Regression](#scrollTo=b3aef787)\n",
        "\n",
        ">>>[Findings from above:](#scrollTo=626f3137)\n",
        "\n",
        ">>[Random forests for fraud detection](#scrollTo=5af4dd1a)\n",
        "\n",
        ">>>[Baseline Accuracy](#scrollTo=f027c905)\n",
        "\n",
        ">>>[Random Forest Classifier](#scrollTo=1eeb2c1e)\n",
        "\n",
        ">>>[Random Forest Classifier Performance evaluation](#scrollTo=88049e62)\n",
        "\n",
        ">>>>[Findings from above:](#scrollTo=8396b6f7)\n",
        "\n",
        ">>>[Precision-Recall Curve](#scrollTo=4b21d896)\n",
        "\n",
        ">>[GridSearchCV to find best parameters](#scrollTo=db931bcb)\n",
        "\n",
        ">>[Optimized Random Forest Classifier](#scrollTo=114ddd85)\n",
        "\n",
        ">>>[Findings from above:](#scrollTo=142f458e)\n",
        "\n",
        ">>[Ensemble Techniques](#scrollTo=29308a44)\n",
        "\n",
        ">>>[Logistic Regression Standalone Model](#scrollTo=34aa8433)\n",
        "\n",
        ">>>>[Findings from above](#scrollTo=3287f995)\n",
        "\n",
        ">>[Combining 3 models using Voting Classifier](#scrollTo=cf8dca48)\n",
        "\n",
        ">>>>[Findings from above:](#scrollTo=a025ba62)\n",
        "\n",
        ">>>[Adjusting weights of each classifier](#scrollTo=5a2c2497)\n",
        "\n",
        ">>>>[Findings from above:](#scrollTo=ae2f6163)\n",
        "\n",
        ">>[Unsupervised Learning](#scrollTo=f8a27688)\n",
        "\n",
        ">>>[Findings from above:](#scrollTo=547e392f)\n",
        "\n",
        ">>>[Customer segmentation](#scrollTo=ab147961)\n",
        "\n",
        ">>>>[Findings from above:](#scrollTo=5d547e69)\n",
        "\n",
        ">>>[Clustering methods to detect fraud](#scrollTo=ca10d0c7)\n",
        "\n",
        ">>>>[Findings from above:](#scrollTo=1c21348d)\n",
        "\n",
        ">>>[Flagging fraud based on distance to centroid](#scrollTo=f97cba94)\n",
        "\n",
        ">>>>[Findings from above:](#scrollTo=e92063f5)\n",
        "\n",
        ">>>[DBSCAN](#scrollTo=0945cdaa)\n",
        "\n",
        ">>>>[Findings from above:](#scrollTo=4c1d88ff)\n",
        "\n",
        ">>>>[Findings from above:](#scrollTo=c4c5b256)\n",
        "\n",
        ">>>>[Findings from above:](#scrollTo=18ce93e0)\n",
        "\n",
        ">>>[Text Mining Techniques for Fraud Detection](#scrollTo=e8fdb75b)\n",
        "\n",
        ">>>[Using a list of terms](#scrollTo=afcb3bf8)\n",
        "\n",
        ">>>[Creating a flag](#scrollTo=d09d984a)\n",
        "\n",
        ">>>[Text Cleaning](#scrollTo=7256daf3)\n",
        "\n",
        ">>>[Topic modeling](#scrollTo=6a8e4935)\n",
        "\n",
        ">>>[LDA model](#scrollTo=1ede5cc1)\n",
        "\n",
        ">>>>[Findings from above:](#scrollTo=401902c5)\n",
        "\n",
        ">>>[Flagging fraud based on topics](#scrollTo=cdafafeb)\n",
        "\n",
        ">>>>[Findings from above:](#scrollTo=50982e01)\n",
        "\n",
        ">>>[Visualize topics](#scrollTo=ef28eb1f)\n",
        "\n",
        ">>>>[Findings from above:](#scrollTo=eff121db)\n",
        "\n",
        ">>>[Add original text to topic details in a dataframe](#scrollTo=7e366126)\n",
        "\n",
        ">>>[Create a flag for all content that has topic 0 as dominant topic](#scrollTo=363a0213)\n",
        "\n",
        ">>>[Conclusion](#scrollTo=716be847)\n",
        "\n",
        ">>>>[Working with imbalanced data](#scrollTo=716be847)\n",
        "\n",
        ">>>>[Fraud detection with labeled data](#scrollTo=716be847)\n",
        "\n",
        ">>>>[Fraud detection without labels](#scrollTo=716be847)\n",
        "\n",
        ">>>>[Text mining](#scrollTo=716be847)\n",
        "\n"
      ]
    },
    {
      "cell_type": "code",
      "execution_count": null,
      "id": "dbf779ad",
      "metadata": {
        "id": "dbf779ad"
      },
      "outputs": [],
      "source": [
        "# Imports\n",
        "import pandas as pd\n",
        "import numpy as np\n",
        "import matplotlib.pyplot as plt"
      ]
    },
    {
      "cell_type": "markdown",
      "id": "6e8b12a1",
      "metadata": {
        "id": "6e8b12a1"
      },
      "source": [
        "### EDA\n",
        "\n",
        "First we will perform exploratory data analysis on a creditcard dataset. The column names have been transformed into feature names as part of preprocessing."
      ]
    },
    {
      "cell_type": "code",
      "execution_count": null,
      "id": "5643fd7d-b520-4e5d-83b7-b2c8733ec076",
      "metadata": {
        "id": "5643fd7d-b520-4e5d-83b7-b2c8733ec076",
        "outputId": "bb224f0e-03cd-4814-e887-b0710c8ecbbb",
        "scrolled": true,
        "tags": []
      },
      "outputs": [
        {
          "name": "stdout",
          "output_type": "stream",
          "text": [
            "              V1        V2         V3        V4        V5        V6        V7   \n",
            "258647  1.725265 -1.337256  -1.012687 -0.361656 -1.431611 -1.098681 -0.842274  \\\n",
            "69263   0.683254 -1.681875   0.533349 -0.326064 -1.455603  0.101832 -0.520590   \n",
            "96552   1.067973 -0.656667   1.029738  0.253899 -1.172715  0.073232 -0.745771   \n",
            "281898  0.119513  0.729275  -1.678879 -1.551408  3.128914  3.210632  0.356276   \n",
            "86917   1.271253  0.275694   0.159568  1.003096 -0.128535 -0.608730  0.088777   \n",
            "...          ...       ...        ...       ...       ...       ...       ...   \n",
            "223366  1.118331  2.074439  -3.837518  5.448060  0.071816 -1.020509 -1.808574   \n",
            "239499 -2.150855  2.187917  -3.430516  0.119476 -0.173210  0.290700 -2.808988   \n",
            "125342 -7.139060  2.773082  -6.757845  4.446456 -5.464428 -1.713401 -6.485365   \n",
            "220725 -1.169203  1.863414  -2.515135  5.463681 -0.297971  1.364918  0.759219   \n",
            "63421  -8.461845  6.866198 -11.838269  4.194211 -6.923097 -3.221147 -7.553497   \n",
            "\n",
            "              V8        V9       V10  ...       V21       V22       V23   \n",
            "258647 -0.026594 -0.032409  0.215113  ...  0.414524  0.793434  0.028887  \\\n",
            "69263   0.114036 -0.601760  0.444011  ...  0.116898 -0.304605 -0.125547   \n",
            "96552   0.249803  1.383057 -0.483771  ... -0.189315 -0.426743  0.079539   \n",
            "281898  0.920374 -0.160589 -0.801748  ... -0.335825 -0.906171  0.108350   \n",
            "86917  -0.145336  0.156047  0.022707  ...  0.031958  0.123503 -0.174528   \n",
            "...          ...       ...       ...  ...       ...       ...       ...   \n",
            "223366  0.521744 -2.032638 -2.732792  ...  0.289861 -0.172718 -0.021910   \n",
            "239499 -2.679351 -0.556685 -4.485483  ... -0.073205  0.561496 -0.075034   \n",
            "125342  3.409395 -3.053493 -6.260706  ...  1.303250 -0.016118 -0.876670   \n",
            "220725 -0.118861 -2.293921 -0.423784  ... -0.393090 -0.708692  0.471309   \n",
            "63421   6.015618 -2.466143 -6.246243  ...  0.918244 -0.715366  0.210747   \n",
            "\n",
            "             V24       V25       V26       V27       V28  Amount  Class  \n",
            "258647  0.419421 -0.367529 -0.155634 -0.015768  0.010790  189.00      0  \n",
            "69263   0.244848  0.069163 -0.460712 -0.017068  0.063542  315.17      0  \n",
            "96552   0.129692  0.002778  0.970498 -0.035056  0.017313   59.98      0  \n",
            "281898  0.593062 -0.424303  0.164201  0.245881  0.071029    0.89      0  \n",
            "86917  -0.147535  0.735909 -0.262270  0.015577  0.015955    6.53      0  \n",
            "...          ...       ...       ...       ...       ...     ...    ...  \n",
            "223366 -0.376560  0.192817  0.114107  0.500996  0.259533    1.00      1  \n",
            "239499 -0.437619  0.353841 -0.521339  0.144465  0.026588   50.00      1  \n",
            "125342  0.382230 -1.054624 -0.614606 -0.766848  0.409424  106.90      1  \n",
            "220725 -0.078616 -0.544655  0.014777 -0.240930 -0.781055  324.59      1  \n",
            "63421  -0.060211  0.509535 -0.257284  1.170027  0.229301   99.99      1  \n",
            "\n",
            "[5050 rows x 30 columns]\n"
          ]
        }
      ],
      "source": [
        "\n",
        "df = pd.read_csv(\"data/creditcard_sampledata_1.csv\", index_col=0)\n",
        "\n",
        "# explore the features in dataframe\n",
        "print(df)"
      ]
    },
    {
      "cell_type": "code",
      "execution_count": null,
      "id": "ed2af431",
      "metadata": {
        "id": "ed2af431",
        "outputId": "c1e3cc61-8cd7-40ea-97e0-5360390a57bc"
      },
      "outputs": [
        {
          "name": "stdout",
          "output_type": "stream",
          "text": [
            "<class 'pandas.core.frame.DataFrame'>\n",
            "Index: 5050 entries, 258647 to 63421\n",
            "Data columns (total 30 columns):\n",
            " #   Column  Non-Null Count  Dtype  \n",
            "---  ------  --------------  -----  \n",
            " 0   V1      5050 non-null   float64\n",
            " 1   V2      5050 non-null   float64\n",
            " 2   V3      5050 non-null   float64\n",
            " 3   V4      5050 non-null   float64\n",
            " 4   V5      5050 non-null   float64\n",
            " 5   V6      5050 non-null   float64\n",
            " 6   V7      5050 non-null   float64\n",
            " 7   V8      5050 non-null   float64\n",
            " 8   V9      5050 non-null   float64\n",
            " 9   V10     5050 non-null   float64\n",
            " 10  V11     5050 non-null   float64\n",
            " 11  V12     5050 non-null   float64\n",
            " 12  V13     5050 non-null   float64\n",
            " 13  V14     5050 non-null   float64\n",
            " 14  V15     5050 non-null   float64\n",
            " 15  V16     5050 non-null   float64\n",
            " 16  V17     5050 non-null   float64\n",
            " 17  V18     5050 non-null   float64\n",
            " 18  V19     5050 non-null   float64\n",
            " 19  V20     5050 non-null   float64\n",
            " 20  V21     5050 non-null   float64\n",
            " 21  V22     5050 non-null   float64\n",
            " 22  V23     5050 non-null   float64\n",
            " 23  V24     5050 non-null   float64\n",
            " 24  V25     5050 non-null   float64\n",
            " 25  V26     5050 non-null   float64\n",
            " 26  V27     5050 non-null   float64\n",
            " 27  V28     5050 non-null   float64\n",
            " 28  Amount  5050 non-null   float64\n",
            " 29  Class   5050 non-null   int64  \n",
            "dtypes: float64(29), int64(1)\n",
            "memory usage: 1.2 MB\n",
            "None\n"
          ]
        }
      ],
      "source": [
        "print(df.info())"
      ]
    },
    {
      "cell_type": "code",
      "execution_count": null,
      "id": "279ed377-79d9-4557-91d4-89e8c429a39a",
      "metadata": {
        "id": "279ed377-79d9-4557-91d4-89e8c429a39a",
        "outputId": "946b28f5-b3f1-4ae6-ee5f-6b17cf7aead3",
        "scrolled": true,
        "tags": []
      },
      "outputs": [
        {
          "name": "stdout",
          "output_type": "stream",
          "text": [
            "Class\n",
            "0    5000\n",
            "1      50\n",
            "Name: count, dtype: int64\n"
          ]
        }
      ],
      "source": [
        "## Count the occurrences of fraud and no fraud and print them\n",
        "occ = df['Class'].value_counts()\n",
        "print(occ)"
      ]
    },
    {
      "cell_type": "code",
      "execution_count": null,
      "id": "93454cc5",
      "metadata": {
        "id": "93454cc5",
        "outputId": "476719e0-c865-4f4d-f5ab-4529479a9e13",
        "scrolled": true
      },
      "outputs": [
        {
          "name": "stdout",
          "output_type": "stream",
          "text": [
            "Class\n",
            "0    0.990099\n",
            "1    0.009901\n",
            "Name: count, dtype: float64\n"
          ]
        }
      ],
      "source": [
        "# Print the ratio of fraud cases\n",
        "print(occ/len(df.index))"
      ]
    },
    {
      "cell_type": "markdown",
      "id": "3azpz3_UYSFn",
      "metadata": {
        "id": "3azpz3_UYSFn"
      },
      "source": [
        "#### Findings from above:\n",
        "As you can see, there is much more non-fraud than fraud transactions."
      ]
    },
    {
      "cell_type": "code",
      "execution_count": null,
      "id": "9b5231ef",
      "metadata": {
        "id": "9b5231ef",
        "outputId": "407ee988-ab95-469e-ccce-985e6eb30eb6",
        "scrolled": false
      },
      "outputs": [
        {
          "data": {
            "image/png": "[encoded data removed]",
            "text/plain": [
              "<Figure size 640x480 with 1 Axes>"
            ]
          },
          "metadata": {},
          "output_type": "display_data"
        }
      ],
      "source": [
        "def prep_data(df):\n",
        "    X = df.iloc[:, 1:29]\n",
        "    X = np.array(X).astype(float)\n",
        "    y = df.iloc[:, 29]\n",
        "    y=np.array(y).astype(float)\n",
        "    return X,y\n",
        "\n",
        "X, y = prep_data(df)\n",
        "\n",
        "def plot_data(X, y):\n",
        "    #extract first and second feature for all data points labeled as class 0\n",
        "    plt.scatter(X[y == 0, 0], X[y == 0, 1], label=\"Class #0\", alpha=0.5, linewidth=0.15, c='b')\n",
        "    #extract first and second feature for all data points labeled as class 1\n",
        "    plt.scatter(X[y == 1, 0], X[y == 1, 1], label=\"Class #1\", alpha=0.5, linewidth=0.15, c='r')\n",
        "    plt.legend()\n",
        "    return plt.show()\n",
        "\n",
        "\n",
        "plot_data(X,y)"
      ]
    },
    {
      "cell_type": "markdown",
      "id": "43762398",
      "metadata": {
        "id": "43762398"
      },
      "source": [
        "### Using SMOTE for unbalanced data"
      ]
    },
    {
      "cell_type": "markdown",
      "id": "04c8560b",
      "metadata": {
        "id": "04c8560b"
      },
      "source": [
        "SMOTE (Synthetic Minority Oversampling Technique) can help us better train our models to recognize fraud cases when there are only very few cases of fraud. Instead of just copying datapoints of the minority class, it uses characteristics of the nearest neighbours of fraud cases to create new synthetic fraud cases, and thereby avoids duplication. SMOTE is more sophisticated than Random Under Sampling, which throws away data and is computationally efficient. SMOTE is also more realistic than Random Over Sampling, which trains model on many duplicates.\n",
        "\n",
        "However, SMOTE only works well if fraud cases are similar to each other. If fraud is spread out over data and not distinct, using nearest neighbours to create more fraud cases introduces noise in the data, as the nearest neighbours might not necessarily be fraud cases. It's important to only resample on the training set after doing a train-test split."
      ]
    },
    {
      "cell_type": "code",
      "execution_count": null,
      "id": "2d182b08",
      "metadata": {
        "id": "2d182b08"
      },
      "outputs": [],
      "source": [
        "#In order for imblearn to function as expected, we need to downgrade sklearn\n",
        "\n",
        "!pip uninstall scikit-learn --yes\n",
        "!pip uninstall imblearn --yes\n",
        "!pip install scikit-learn==1.2.2\n",
        "!pip install imblearn"
      ]
    },
    {
      "cell_type": "code",
      "execution_count": null,
      "id": "26ded6b7",
      "metadata": {
        "id": "26ded6b7",
        "outputId": "b1c52760-cf80-430c-fdc4-b3a7b3aaeb1a"
      },
      "outputs": [
        {
          "name": "stdout",
          "output_type": "stream",
          "text": [
            "              precision    recall  f1-score   support\n",
            "\n",
            "         0.0       1.00      1.00      1.00      1500\n",
            "         1.0       0.92      0.80      0.86        15\n",
            "\n",
            "    accuracy                           1.00      1515\n",
            "   macro avg       0.96      0.90      0.93      1515\n",
            "weighted avg       1.00      1.00      1.00      1515\n",
            "\n"
          ]
        },
        {
          "name": "stderr",
          "output_type": "stream",
          "text": [
            "/Users/larissahuang/anaconda3/lib/python3.11/site-packages/sklearn/linear_model/_logistic.py:458: ConvergenceWarning: lbfgs failed to converge (status=1):\n",
            "STOP: TOTAL NO. of ITERATIONS REACHED LIMIT.\n",
            "\n",
            "Increase the number of iterations (max_iter) or scale the data as shown in:\n",
            "    https://scikit-learn.org/stable/modules/preprocessing.html\n",
            "Please also refer to the documentation for alternative solver options:\n",
            "    https://scikit-learn.org/stable/modules/linear_model.html#logistic-regression\n",
            "  n_iter_i = _check_optimize_result(\n"
          ]
        }
      ],
      "source": [
        "import imblearn\n",
        "import numpy as np\n",
        "from sklearn.model_selection import train_test_split\n",
        "from sklearn.linear_model import LogisticRegression\n",
        "from sklearn.datasets import make_classification\n",
        "from sklearn.metrics import classification_report\n",
        "from imblearn.over_sampling import SMOTE\n",
        "\n",
        "# Define resampling method\n",
        "method = SMOTE()\n",
        "\n",
        "# split into train and test, setting stratify=y to preserve class ratio in test set\n",
        "X_train, X_test, y_train, y_test = train_test_split(X, y,\n",
        "train_size=0.7, random_state=0, stratify=y)\n",
        "\n",
        "# Apply resampling to the training data only\n",
        "X_resampled, y_resampled = method.fit_resample(X_train, y_train)\n",
        "\n",
        "# Continue fitting the model and obtain predictions\n",
        "model = LogisticRegression()\n",
        "\n",
        "model.fit(X_resampled, y_resampled)\n",
        "\n",
        "# Get performance metrics\n",
        "predicted = model.predict(X_test)\n",
        "\n",
        "print(classification_report(y_test, predicted))"
      ]
    },
    {
      "cell_type": "markdown",
      "id": "7f3c5acc",
      "metadata": {
        "id": "7f3c5acc"
      },
      "source": [
        "## Plotting the resampled train data"
      ]
    },
    {
      "cell_type": "code",
      "execution_count": null,
      "id": "4f4cd3d6",
      "metadata": {
        "id": "4f4cd3d6",
        "outputId": "c5821870-3421-4340-9d5a-0fad021e8955",
        "scrolled": false
      },
      "outputs": [
        {
          "data": {
            "image/png": "[encoded data removed]",
            "text/plain": [
              "<Figure size 640x480 with 1 Axes>"
            ]
          },
          "metadata": {},
          "output_type": "display_data"
        }
      ],
      "source": [
        "plot_data(X_resampled, y_resampled)"
      ]
    },
    {
      "cell_type": "markdown",
      "id": "74fda9d3",
      "metadata": {
        "id": "74fda9d3"
      },
      "source": [
        "### Compare resampled data with original data"
      ]
    },
    {
      "cell_type": "code",
      "execution_count": null,
      "id": "6a7bd533",
      "metadata": {
        "id": "6a7bd533",
        "outputId": "f64a76c5-3de8-49f5-aa4d-e1f4a08bc187",
        "scrolled": false
      },
      "outputs": [
        {
          "name": "stdout",
          "output_type": "stream",
          "text": [
            "0.0    5000\n",
            "1.0      50\n",
            "Name: count, dtype: int64\n",
            "0.0    3500\n",
            "1.0    3500\n",
            "Name: count, dtype: int64\n"
          ]
        }
      ],
      "source": [
        "print(pd.value_counts(pd.Series(y)))\n",
        "print(pd.value_counts(pd.Series(y_resampled)))"
      ]
    },
    {
      "cell_type": "markdown",
      "id": "2c8991f2",
      "metadata": {
        "id": "2c8991f2"
      },
      "source": [
        "#### Findings from above:\n",
        "With the resampled data, we have the same number of records in the 0 and 1 classes"
      ]
    },
    {
      "cell_type": "markdown",
      "id": "56317421",
      "metadata": {
        "id": "56317421"
      },
      "source": [
        "### Visualize two plots side by side"
      ]
    },
    {
      "cell_type": "code",
      "execution_count": null,
      "id": "ee28fe76",
      "metadata": {
        "id": "ee28fe76"
      },
      "outputs": [],
      "source": [
        "def compare_plot(X, y, X_resampled, y_resampled, method):\n",
        "    # Start a plot figure\n",
        "    f, (ax1, ax2) = plt.subplots(1, 2)\n",
        "\n",
        "    # sub-plot number 1, this is the normal data\n",
        "    c0 = ax1.scatter(X[y == 0, 0], X[y == 0, 1], label=\"Class #0\",alpha=0.5)\n",
        "    c1 = ax1.scatter(X[y == 1, 0], X[y == 1, 1], label=\"Class #1\",alpha=0.5, c='r')\n",
        "    ax1.set_title('Original dataset')\n",
        "    # sub-plot number 2, this is the oversampled data\n",
        "    ax2.scatter(X_resampled[y_resampled == 0, 0], X_resampled[y_resampled == 0, 1], label=\"Class #0\", alpha=.5)\n",
        "    ax2.scatter(X_resampled[y_resampled == 1, 0], X_resampled[y_resampled == 1, 1], label=\"Class #1\", alpha=.5,c='r')\n",
        "    ax2.set_title(method)\n",
        "    # some settings and ready to go\n",
        "    plt.figlegend((c0, c1), ('Class #0', 'Class #1'), loc='lower center',\n",
        "                  ncol=2, labelspacing=0.)\n",
        "    #plt.tight_layout(pad=3)\n",
        "    return plt.show()"
      ]
    },
    {
      "cell_type": "code",
      "execution_count": null,
      "id": "d32e352c",
      "metadata": {
        "id": "d32e352c",
        "outputId": "e6264de3-9a3e-47ba-e644-eb7cd4aa8704"
      },
      "outputs": [
        {
          "data": {
            "image/png": "[encoded data removed]",
            "text/plain": [
              "<Figure size 640x480 with 2 Axes>"
            ]
          },
          "metadata": {},
          "output_type": "display_data"
        }
      ],
      "source": [
        "compare_plot(X, y, X_resampled, y_resampled, method='SMOTE')"
      ]
    },
    {
      "cell_type": "markdown",
      "id": "5741f2e8",
      "metadata": {
        "id": "5741f2e8"
      },
      "source": [
        "#### Findings from above:\n",
        "As you can see, the resampled plot has the same quantity of red points as blue, and the red points follow the distribution of the red points in the original data."
      ]
    },
    {
      "cell_type": "markdown",
      "id": "9c7e506d",
      "metadata": {
        "id": "9c7e506d"
      },
      "source": [
        "## The traditional way to catch fraud"
      ]
    },
    {
      "cell_type": "markdown",
      "id": "211a0250",
      "metadata": {
        "id": "211a0250"
      },
      "source": [
        "Traditionally, fraud analysts use rules based systems to split fraud and non-fraud."
      ]
    },
    {
      "cell_type": "code",
      "execution_count": null,
      "id": "192f131c",
      "metadata": {
        "id": "192f131c",
        "outputId": "03a63fba-4faf-448b-f447-fcee4d80e2d0"
      },
      "outputs": [
        {
          "name": "stdout",
          "output_type": "stream",
          "text": [
            "Flagged Fraud     0   1\n",
            "Actual Fraud           \n",
            "0              4984  16\n",
            "1                28  22\n"
          ]
        }
      ],
      "source": [
        "# Get the mean for each group\n",
        "df.groupby('Class').mean()\n",
        "\n",
        "# Implement a rule for stating which cases are flagged as fraud\n",
        "df['flag_as_fraud'] = np.where(np.logical_and(df['V1'] < -3, df['V3'] < -5), 1, 0)\n",
        "\n",
        "# Create a crosstab of flagged fraud cases versus the actual fraud cases\n",
        "print(pd.crosstab(df.Class, df.flag_as_fraud, rownames=['Actual Fraud'], colnames=['Flagged Fraud']))"
      ]
    },
    {
      "cell_type": "markdown",
      "id": "e1146cb2",
      "metadata": {
        "id": "e1146cb2"
      },
      "source": [
        "With this rule, we detect 22 out of 50 fraud cases, but can't detect the other 28, and get 16 false positives. This is not a great result because rules-based systems have their limitations:\n",
        "\n",
        "1. Fixed thresholds per rule to determine fraud\n",
        "2. Limited to yes/no outcomes\n",
        "3. Fail to capture interaction between\n"
      ]
    },
    {
      "cell_type": "markdown",
      "id": "440842ee",
      "metadata": {
        "id": "440842ee"
      },
      "source": [
        "## Machine learning classification to catch fraud"
      ]
    },
    {
      "cell_type": "markdown",
      "id": "ed979ea0",
      "metadata": {
        "id": "ed979ea0"
      },
      "source": [
        "Machine learning models don't have these limitations. These are reasons to use machine learning.\n",
        "\n",
        "1. Machine learning models adapt to the data, and thus can change over time\n",
        "2. Uses all the data combined rather than a threshold per feature\n",
        "3. Can give a score, rather than a yes/no\n",
        "4. Will typically have a better performance and can be combined with\n",
        "\n",
        "However, machine learning models are not always the best. Some simple rules are quite capable of catching fraud. Therefore, we want to explore whether we can combine models with rules, to improve overall performance."
      ]
    },
    {
      "cell_type": "markdown",
      "id": "b3aef787",
      "metadata": {
        "id": "b3aef787"
      },
      "source": [
        "### Logistic Regression"
      ]
    },
    {
      "cell_type": "code",
      "execution_count": null,
      "id": "d49b86fa",
      "metadata": {
        "id": "d49b86fa",
        "outputId": "bce84f3c-620f-424a-cec9-96f72794f0a8"
      },
      "outputs": [
        {
          "name": "stdout",
          "output_type": "stream",
          "text": [
            "Logistic Regression Classification report:\n",
            "               precision    recall  f1-score   support\n",
            "\n",
            "         0.0       1.00      1.00      1.00      1500\n",
            "         1.0       0.91      0.67      0.77        15\n",
            "\n",
            "    accuracy                           1.00      1515\n",
            "   macro avg       0.95      0.83      0.88      1515\n",
            "weighted avg       1.00      1.00      1.00      1515\n",
            "\n"
          ]
        },
        {
          "name": "stderr",
          "output_type": "stream",
          "text": [
            "/Users/larissahuang/anaconda3/lib/python3.11/site-packages/sklearn/linear_model/_logistic.py:458: ConvergenceWarning: lbfgs failed to converge (status=1):\n",
            "STOP: TOTAL NO. of ITERATIONS REACHED LIMIT.\n",
            "\n",
            "Increase the number of iterations (max_iter) or scale the data as shown in:\n",
            "    https://scikit-learn.org/stable/modules/preprocessing.html\n",
            "Please also refer to the documentation for alternative solver options:\n",
            "    https://scikit-learn.org/stable/modules/linear_model.html#logistic-regression\n",
            "  n_iter_i = _check_optimize_result(\n"
          ]
        },
        {
          "data": {
            "image/png": "[encoded data removed]",
            "text/plain": [
              "<Figure size 800x600 with 2 Axes>"
            ]
          },
          "metadata": {},
          "output_type": "display_data"
        }
      ],
      "source": [
        "# Fit a logistic regression model to our data\n",
        "model = LogisticRegression()\n",
        "\n",
        "#using X_train and y_train defined earlier in train-test split\n",
        "model.fit(X_train, y_train)\n",
        "\n",
        "# Obtain model predictions\n",
        "predicted = model.predict(X_test)\n",
        "\n",
        "from sklearn.metrics import confusion_matrix\n",
        "import seaborn as sns\n",
        "\n",
        "# Print the classifcation report and confusion matrix\n",
        "print('Logistic Regression Classification report:\\n', classification_report(y_test, predicted))\n",
        "conf_mat = confusion_matrix(y_true=y_test, y_pred=predicted)\n",
        "# print('Confusion matrix:\\n', conf_mat)\n",
        "\n",
        "# Plotting the confusion matrix\n",
        "fig, ax = plt.subplots(figsize=(8, 6))\n",
        "sns.heatmap(conf_mat, annot=True, fmt='d', cmap='Blues', ax=ax)  # 'd' means integer formatting\n",
        "ax.set_xlabel('Predicted labels')\n",
        "ax.set_ylabel('True labels')\n",
        "ax.set_title('Confusion Matrix')\n",
        "ax.xaxis.set_ticklabels(['Class 0', 'Class 1'])\n",
        "ax.yaxis.set_ticklabels(['Class 0', 'Class 1'])\n",
        "plt.show()"
      ]
    },
    {
      "cell_type": "markdown",
      "id": "626f3137",
      "metadata": {
        "id": "626f3137"
      },
      "source": [
        "### Findings from above:\n",
        "This is a great improvement on the rules-based method of fraud detection. Note that we have fewer records to look at now because the confusion matrix is based on the test set only.\n",
        "\n",
        "The model caught 10 cases of fraud, out of 15 cases. It misclassified 5 fraud cases as non-fraud (false negatives) and misclassified 1 non-fraud cases as fraud (false positive).\n",
        "\n",
        "Precision:\n",
        "True Positives(10) / True Positives(10) + False Positives(1) => 11/12 = 91%\n",
        "\n",
        "Recall:\n",
        "True Positives(10) / True Positives(10) + False Negatives(5) => 10/15 = 67%\n",
        "\n",
        "It seems like this model is more heavily weighted toward precision than recall.\n",
        "\n"
      ]
    },
    {
      "cell_type": "markdown",
      "id": "5af4dd1a",
      "metadata": {
        "id": "5af4dd1a"
      },
      "source": [
        "## Random forests for fraud detection\n",
        "Random forests are a collection of decision trees on random subsets of features. Final predictions are combined results of these trees. Random forests can handle complex data and are not prone to overfit. They are interpretable by looking at feature importance, and can be adjusted to work well on highly imbalanced data. For the next segment, we will work from a new dataset."
      ]
    },
    {
      "cell_type": "code",
      "execution_count": null,
      "id": "8d969ea6",
      "metadata": {
        "id": "8d969ea6"
      },
      "outputs": [],
      "source": [
        "df = pd.read_csv(\"data/creditcard_sampledata_2.csv\", index_col=0)\n",
        "\n",
        "def prep_data(df):\n",
        "    X = df.iloc[:, 1:29]\n",
        "    X = np.array(X).astype(float)\n",
        "    y = df.iloc[:, 29]\n",
        "    y=np.array(y).astype(float)\n",
        "    return X,y\n",
        "\n",
        "X, y = prep_data(df)\n",
        "\n",
        "# split into train and test, setting stratify=y to preserve class ratio in test set\n",
        "X_train, X_test, y_train, y_test = train_test_split(X, y,\n",
        "train_size=0.7, random_state=0, stratify=y)\n"
      ]
    },
    {
      "cell_type": "markdown",
      "id": "ed481de4",
      "metadata": {
        "id": "ed481de4"
      },
      "source": [
        "First, let's determine what the baseline accuracy is, if we were to consistently predict the most frequent class. This helps identify the level of accuracy my model needs to surpass."
      ]
    },
    {
      "cell_type": "markdown",
      "id": "f027c905",
      "metadata": {
        "id": "f027c905"
      },
      "source": [
        "### Baseline Accuracy"
      ]
    },
    {
      "cell_type": "code",
      "execution_count": null,
      "id": "075e3e2a",
      "metadata": {
        "id": "075e3e2a",
        "outputId": "8cd714e7-595a-4526-fa66-6094945f2229"
      },
      "outputs": [
        {
          "name": "stdout",
          "output_type": "stream",
          "text": [
            "baseline accuracy: 95.8904109589041\n"
          ]
        }
      ],
      "source": [
        "# Count the total number of observations from the length of y\n",
        "total_obs = len(y)\n",
        "\n",
        "# Count the total number of non-fraudulent observations\n",
        "non_fraud = [i for i in y if i == 0]\n",
        "count_non_fraud = non_fraud.count(0)\n",
        "\n",
        "# Calculate the percentage of non fraud observations in the dataset\n",
        "percentage = (float(len(non_fraud))/float(total_obs)) * 100\n",
        "\n",
        "# Print the percentage: this is our \"baseline accuracy\" by predicting all transactions as non-fraud\n",
        "print(f'baseline accuracy:', percentage)"
      ]
    },
    {
      "cell_type": "markdown",
      "id": "2947532e",
      "metadata": {
        "id": "2947532e"
      },
      "source": [
        "Let's now create a first random forest classifier for fraud detection. Hopefully we can do better than the baseline accuracy we've just calculated, which was roughly 99%."
      ]
    },
    {
      "cell_type": "markdown",
      "id": "1eeb2c1e",
      "metadata": {
        "id": "1eeb2c1e"
      },
      "source": [
        "### Random Forest Classifier"
      ]
    },
    {
      "cell_type": "code",
      "execution_count": null,
      "id": "0aab19b3",
      "metadata": {
        "id": "0aab19b3",
        "outputId": "33b9f536-b57b-45b4-80c2-c7580c816996"
      },
      "outputs": [
        {
          "name": "stdout",
          "output_type": "stream",
          "text": [
            "random forest accuracy: 0.9908675799086758\n"
          ]
        }
      ],
      "source": [
        "from sklearn.metrics import accuracy_score\n",
        "\n",
        "# Define the model as the random forest\n",
        "model = RandomForestClassifier(random_state=5)\n",
        "\n",
        "model.fit(X_train, y_train)\n",
        "\n",
        "predicted = model.predict(X_test)\n",
        "\n",
        "# Print the accuracy performance metric\n",
        "print(f'random forest accuracy:', accuracy_score(y_test, predicted))"
      ]
    },
    {
      "cell_type": "markdown",
      "id": "b30da319",
      "metadata": {
        "id": "b30da319"
      },
      "source": [
        "The RandomForestClassifier demonstrates an improvement on the baseline accuracy. However, accuracy is not a reliable performance metric when working with highly imbalanced data, as is the case in fraud detection.\n",
        "\n",
        "A credit card company might care more for recall which is the the predicted fraud cases out of all the actual fraud cases (true positives relative to the true positives plus false negatives)"
      ]
    },
    {
      "cell_type": "markdown",
      "id": "88049e62",
      "metadata": {
        "id": "88049e62"
      },
      "source": [
        "### Random Forest Classifier Performance evaluation"
      ]
    },
    {
      "cell_type": "code",
      "execution_count": null,
      "id": "752981f7",
      "metadata": {
        "id": "752981f7",
        "outputId": "213580a4-36a1-46ba-d6d4-8e16e079d4db"
      },
      "outputs": [
        {
          "name": "stdout",
          "output_type": "stream",
          "text": [
            "roc-auc score: 0.9604074074074075\n",
            "confusion matrix: \n",
            " [[2098    2]\n",
            " [  18   72]]\n",
            "classification report: \n",
            "               precision    recall  f1-score   support\n",
            "\n",
            "         0.0       0.99      1.00      1.00      2100\n",
            "         1.0       0.97      0.80      0.88        90\n",
            "\n",
            "    accuracy                           0.99      2190\n",
            "   macro avg       0.98      0.90      0.94      2190\n",
            "weighted avg       0.99      0.99      0.99      2190\n",
            "\n"
          ]
        }
      ],
      "source": [
        "# Import the packages to get the different performance metrics\n",
        "from sklearn.metrics import classification_report, confusion_matrix, roc_auc_score\n",
        "\n",
        "# Obtain the predictions from our random forest model\n",
        "predicted = model.predict(X_test)\n",
        "\n",
        "# Predict probabilities\n",
        "probs = model.predict_proba(X_test)\n",
        "\n",
        "# Print the ROC curve, classification report and confusion matrix\n",
        "print(f\"roc-auc score:\", roc_auc_score(y_test, probs[:,1]))\n",
        "\n",
        "print(f\"confusion matrix: \\n\", confusion_matrix(y_test, predicted))\n",
        "\n",
        "print(\"classification report: \\n\", classification_report(y_test, predicted))"
      ]
    },
    {
      "cell_type": "markdown",
      "id": "8396b6f7",
      "metadata": {
        "id": "8396b6f7"
      },
      "source": [
        "#### Findings from above:\n",
        "\n",
        "The model caught 72 cases of fraud, out of 90 cases. It  misclassified 18 fraud cases as non-fraud (false negative). It also misclassified 2 non-fraud cases as fraud (2 false positives).\n",
        "\n",
        "Precision:\n",
        "True Positives(72) / True Positives(72) + False Positives(2) => 72/74 = 97%\n",
        "\n",
        "Recall:\n",
        "True Positives(72) / True Positives(72) + False Negatives(18) => 72/80 = 80%\n",
        "\n",
        "One can say this model optimized for total precision over recall.\n",
        "    \n"
      ]
    },
    {
      "cell_type": "markdown",
      "id": "4b21d896",
      "metadata": {
        "id": "4b21d896"
      },
      "source": [
        "### Precision-Recall Curve\n",
        "As Precision increases, Recall falls and vice-versa. A balance between these two needs to be achieved, otherwise we might end up with many false positives, or not enough actual fraud cases caught. To achieve this and to compare performance, we use the precision-recall curve."
      ]
    },
    {
      "cell_type": "code",
      "execution_count": null,
      "id": "7a00651c",
      "metadata": {
        "id": "7a00651c",
        "scrolled": false
      },
      "outputs": [],
      "source": [
        "def plot_pr_curve(recall, precision, average_precision):\n",
        "  plt.step(recall, precision, color='b', alpha=0.2, where='post')\n",
        "  plt.fill_between(recall, precision, step='post', alpha=0.2, color='b')\n",
        "  plt.xlabel('Recall')\n",
        "  plt.ylabel('Precision')\n",
        "  plt.ylim([0.0, 1.05])\n",
        "  plt.xlim([0.0, 1.0])\n",
        "  plt.title('2-class Precision-Recall curve: AP={0:0.2f}'.format(average_precision))\n",
        "  plt.show()"
      ]
    },
    {
      "cell_type": "code",
      "execution_count": null,
      "id": "b570d7ba",
      "metadata": {
        "id": "b570d7ba",
        "outputId": "d0e252f6-4751-41a3-e40d-446e0472af4b",
        "scrolled": false
      },
      "outputs": [
        {
          "data": {
            "image/png": "[encoded data removed]",
            "text/plain": [
              "<Figure size 640x480 with 1 Axes>"
            ]
          },
          "metadata": {},
          "output_type": "display_data"
        }
      ],
      "source": [
        "\n",
        "from sklearn.metrics import average_precision_score, precision_recall_curve\n",
        "\n",
        "# Calculate average precision\n",
        "average_precision = average_precision_score(y_test, predicted)\n",
        "\n",
        "# Obtain precision and recall\n",
        "precision, recall, _ = precision_recall_curve(y_test, predicted)\n",
        "\n",
        "# Plot the recall precision tradeoff\n",
        "plot_pr_curve(recall, precision, average_precision)\n"
      ]
    },
    {
      "cell_type": "markdown",
      "id": "db931bcb",
      "metadata": {
        "id": "db931bcb"
      },
      "source": [
        "## GridSearchCV to find best parameters\n",
        "Performing a grid search cross-validation can help us find the best combination of parameters for our model's performance. We can specify scoring='recall' to prioritize recall score."
      ]
    },
    {
      "cell_type": "code",
      "execution_count": null,
      "id": "e9c35dd5",
      "metadata": {
        "id": "e9c35dd5",
        "outputId": "59a36780-2704-460e-947e-d05a3ef29852"
      },
      "outputs": [
        {
          "data": {
            "text/plain": [
              "{'criterion': 'gini',\n",
              " 'max_depth': 8,\n",
              " 'max_features': 'log2',\n",
              " 'n_estimators': 30}"
            ]
          },
          "execution_count": 267,
          "metadata": {},
          "output_type": "execute_result"
        }
      ],
      "source": [
        "# Define the parameter sets to test\n",
        "param_grid = {'n_estimators': [1, 30], 'max_features': ['log2'],  'max_depth': [4, 8], 'criterion': ['gini', 'entropy']\n",
        "}\n",
        "\n",
        "# Define the model to use\n",
        "model = RandomForestClassifier(random_state=5)\n",
        "\n",
        "# Combine the parameter sets with the defined model\n",
        "CV_model = GridSearchCV(estimator=model, param_grid=param_grid, cv=5, scoring='recall', n_jobs=-1)\n",
        "\n",
        "# Fit the model to our training data and obtain best parameters\n",
        "CV_model.fit(X_train, y_train)\n",
        "CV_model.best_params_\n"
      ]
    },
    {
      "cell_type": "markdown",
      "id": "8c2843ad",
      "metadata": {
        "id": "8c2843ad"
      },
      "source": [
        "Let's pass these settings onto our previous model and see what the improvement is."
      ]
    },
    {
      "cell_type": "markdown",
      "id": "114ddd85",
      "metadata": {
        "id": "114ddd85"
      },
      "source": [
        "## Optimized Random Forest Classifier"
      ]
    },
    {
      "cell_type": "code",
      "execution_count": null,
      "id": "9f17b635",
      "metadata": {
        "id": "9f17b635",
        "outputId": "06e40d60-2385-4d26-c4fd-f53fb2f33aa8"
      },
      "outputs": [
        {
          "name": "stdout",
          "output_type": "stream",
          "text": [
            "              precision    recall  f1-score   support\n",
            "\n",
            "         0.0       0.99      1.00      1.00      2100\n",
            "         1.0       0.95      0.81      0.87        90\n",
            "\n",
            "    accuracy                           0.99      2190\n",
            "   macro avg       0.97      0.90      0.93      2190\n",
            "weighted avg       0.99      0.99      0.99      2190\n",
            "\n",
            "[[2096    4]\n",
            " [  17   73]]\n"
          ]
        }
      ],
      "source": [
        "# Input the optimal parameters in the model\n",
        "model = RandomForestClassifier(class_weight='balanced', criterion='gini',\n",
        "            max_depth=8, max_features='log2', min_samples_leaf=10, n_estimators=30, n_jobs=-1, random_state=5)\n",
        "\n",
        "def get_model_results(X_train, y_train, X_test, y_test, model):\n",
        "  model.fit(X_train, y_train)\n",
        "  predicted = model.predict(X_test)\n",
        "  probs = model.predict_proba(X_test)\n",
        "  print (classification_report(y_test, predicted))\n",
        "  print (confusion_matrix(y_test, predicted))\n",
        "\n",
        "# Get results from the model\n",
        "get_model_results(X_train, y_train, X_test, y_test, model)"
      ]
    },
    {
      "cell_type": "markdown",
      "id": "142f458e",
      "metadata": {
        "id": "142f458e"
      },
      "source": [
        "### Findings from above:\n",
        "\n",
        "The optimized parameters worked. This model is now optimized for recall. The number of false positives is now 4, but the false negatives has dropped to 17, which is a slight improvement from our model before optimization.\n",
        "\n",
        "That is how the Precision-Recall trade-off works. To decide which final model is best, I need to weight the effect of not catching fraud, versus the effect of false alarms. Ultimately, this final decision is made by a fraud analyst and the fraud team together."
      ]
    },
    {
      "cell_type": "markdown",
      "id": "29308a44",
      "metadata": {
        "id": "29308a44"
      },
      "source": [
        "## Ensemble Techniques"
      ]
    },
    {
      "cell_type": "markdown",
      "id": "c3b18b4f",
      "metadata": {
        "id": "c3b18b4f"
      },
      "source": [
        "Now I'll combine three algorithms into one model with the VotingClassifier. This allows us to benefit from the different aspects from all models, and hopefully improve overall performance and detect more fraud.\n",
        "\n",
        "In order to understand how the Voting Classifier can potentially improve my original model, I will check the standalone results of the Logistic Regression model first."
      ]
    },
    {
      "cell_type": "markdown",
      "id": "34aa8433",
      "metadata": {
        "id": "34aa8433"
      },
      "source": [
        "### Logistic Regression Standalone Model"
      ]
    },
    {
      "cell_type": "code",
      "execution_count": null,
      "id": "69a90f10",
      "metadata": {
        "id": "69a90f10",
        "outputId": "ed3de6b4-8403-4923-8a9d-84acbaa0a51f",
        "scrolled": true
      },
      "outputs": [
        {
          "name": "stdout",
          "output_type": "stream",
          "text": [
            "              precision    recall  f1-score   support\n",
            "\n",
            "         0.0       0.99      0.98      0.99      2100\n",
            "         1.0       0.64      0.88      0.74        90\n",
            "\n",
            "    accuracy                           0.97      2190\n",
            "   macro avg       0.82      0.93      0.86      2190\n",
            "weighted avg       0.98      0.97      0.98      2190\n",
            "\n",
            "[[2055   45]\n",
            " [  11   79]]\n"
          ]
        }
      ],
      "source": [
        "# Define the Logistic Regression model with weights\n",
        "model = LogisticRegression(class_weight='balanced', random_state=5)\n",
        "\n",
        "# Get the model results\n",
        "get_model_results(X_train, y_train, X_test, y_test, model)"
      ]
    },
    {
      "cell_type": "markdown",
      "id": "3287f995",
      "metadata": {
        "id": "3287f995"
      },
      "source": [
        "#### Findings from above\n",
        "The Logistic Regression standalone model had higher recall than precision for the fraud class, which is good, because we wanted to optimize for recall since the potential cost of not catching all true fraud cases are quite high compared to the cost of locking a card due to false alarms."
      ]
    },
    {
      "cell_type": "markdown",
      "id": "cf8dca48",
      "metadata": {
        "id": "cf8dca48"
      },
      "source": [
        "## Combining 3 models using Voting Classifier"
      ]
    },
    {
      "cell_type": "code",
      "execution_count": null,
      "id": "08ad74c4",
      "metadata": {
        "id": "08ad74c4",
        "outputId": "e750c07a-f350-4f82-9f66-b42f4812066d"
      },
      "outputs": [
        {
          "name": "stdout",
          "output_type": "stream",
          "text": [
            "              precision    recall  f1-score   support\n",
            "\n",
            "         0.0       0.99      1.00      1.00      2100\n",
            "         1.0       0.97      0.80      0.88        90\n",
            "\n",
            "    accuracy                           0.99      2190\n",
            "   macro avg       0.98      0.90      0.94      2190\n",
            "weighted avg       0.99      0.99      0.99      2190\n",
            "\n",
            "[[2098    2]\n",
            " [  18   72]]\n"
          ]
        }
      ],
      "source": [
        "# Import packages\n",
        "from sklearn.tree import DecisionTreeClassifier\n",
        "from sklearn.ensemble import VotingClassifier\n",
        "\n",
        "# Define the three classifiers to use in the ensemble, using different class weights optimized for each classifier\n",
        "clf1 = LogisticRegression(class_weight={0:1, 1:15}, random_state=5)\n",
        "clf2 = RandomForestClassifier(class_weight={0:1, 1:12}, criterion='gini',\n",
        "            max_depth=2, max_features='log2', min_samples_leaf=10, n_estimators=30, n_jobs=-1, random_state=5)\n",
        "clf3 = DecisionTreeClassifier(random_state=5, class_weight=\"balanced\")\n",
        "\n",
        "# Combine the classifiers in the ensemble model\n",
        "ensemble_model = VotingClassifier(estimators=[('lr', clf1), ('rf',clf2), ('dt', clf3)], voting='hard')\n",
        "\n",
        "def get_model_results(X_train, y_train, X_test, y_test, model):\n",
        "  model.fit(X_train, y_train)\n",
        "  predicted = model.predict(X_test)\n",
        "  print (classification_report(y_test, predicted))\n",
        "  print (confusion_matrix(y_test, predicted))\n",
        "\n",
        "# Get the results\n",
        "get_model_results(X_train, y_train, X_test, y_test, ensemble_model)"
      ]
    },
    {
      "cell_type": "markdown",
      "id": "a025ba62",
      "metadata": {
        "id": "a025ba62"
      },
      "source": [
        "#### Findings from above:\n",
        "This combined model did a good job at improving precision, but we still have a lower recall score."
      ]
    },
    {
      "cell_type": "markdown",
      "id": "5a2c2497",
      "metadata": {
        "id": "5a2c2497"
      },
      "source": [
        "### Adjusting weights of each classifier"
      ]
    },
    {
      "cell_type": "code",
      "execution_count": null,
      "id": "9de7355e",
      "metadata": {
        "id": "9de7355e",
        "outputId": "87ca2d87-7e21-4739-a415-18854d555725"
      },
      "outputs": [
        {
          "name": "stderr",
          "output_type": "stream",
          "text": [
            "/Users/larissahuang/anaconda3/lib/python3.11/site-packages/sklearn/linear_model/_logistic.py:458: ConvergenceWarning: lbfgs failed to converge (status=1):\n",
            "STOP: TOTAL NO. of ITERATIONS REACHED LIMIT.\n",
            "\n",
            "Increase the number of iterations (max_iter) or scale the data as shown in:\n",
            "    https://scikit-learn.org/stable/modules/preprocessing.html\n",
            "Please also refer to the documentation for alternative solver options:\n",
            "    https://scikit-learn.org/stable/modules/linear_model.html#logistic-regression\n",
            "  n_iter_i = _check_optimize_result(\n"
          ]
        },
        {
          "name": "stdout",
          "output_type": "stream",
          "text": [
            "              precision    recall  f1-score   support\n",
            "\n",
            "         0.0       0.99      0.99      0.99      2100\n",
            "         1.0       0.85      0.84      0.85        90\n",
            "\n",
            "    accuracy                           0.99      2190\n",
            "   macro avg       0.92      0.92      0.92      2190\n",
            "weighted avg       0.99      0.99      0.99      2190\n",
            "\n",
            "[[2087   13]\n",
            " [  14   76]]\n"
          ]
        }
      ],
      "source": [
        "ensemble_model = VotingClassifier(estimators=[('lr', clf1), ('rf', clf2), ('gnb', clf3)], voting='soft', weights=[15, 10, 1], flatten_transform=True)\n",
        "\n",
        "# Get results\n",
        "get_model_results(X_train, y_train, X_test, y_test, ensemble_model)"
      ]
    },
    {
      "cell_type": "markdown",
      "id": "ae2f6163",
      "metadata": {
        "id": "ae2f6163"
      },
      "source": [
        "#### Findings from above:\n",
        "As you can see, weighting the Logistic Regression Classifier higher than the Random Forest results in a higher recall score. Weighting the Random Forest Classifier higher much higher results in a higher precision at the cost of recall."
      ]
    },
    {
      "cell_type": "markdown",
      "id": "f8a27688",
      "metadata": {
        "id": "f8a27688"
      },
      "source": [
        "## Unsupervised Learning\n",
        "\n",
        "Not having labels is the reality for many cases of fraud detection. Therefore, we need to understand if our data is homogenous, or whether different types of clients display very different vehavior. What is normal for one group does not mean it's normal for another. Therefore we need to use customer segmentation. For this exploration, we will use a new dataset."
      ]
    },
    {
      "cell_type": "code",
      "execution_count": null,
      "id": "5b0584c7",
      "metadata": {
        "id": "5b0584c7",
        "outputId": "1ef18e69-90bb-419d-d3f5-333b5e3f6b5d"
      },
      "outputs": [
        {
          "name": "stdout",
          "output_type": "stream",
          "text": [
            "       age gender           category    amount  fraud\n",
            "171915   3      F  es_transportation   49.7100      0\n",
            "426989   4      F          es_health   39.2900      0\n",
            "310539   3      F  es_transportation   18.7600      0\n",
            "215216   4      M  es_transportation   13.9500      0\n",
            "569244   2      M  es_transportation   49.8700      0\n",
            "...     ..    ...                ...       ...    ...\n",
            "260136   5      M   es_hotelservices  236.1474      1\n",
            "56643    5      F   es_hotelservices  139.6000      1\n",
            "495817   1      F          es_travel  236.1474      1\n",
            "333170   1      M   es_hotelservices  236.1474      1\n",
            "579286   4      F          es_health  236.1474      1\n",
            "\n",
            "[7200 rows x 5 columns]\n"
          ]
        }
      ],
      "source": [
        "\n",
        "df = pd.read_csv(\"data/banksim.csv\", index_col=0)\n",
        "\n",
        "# explore the features in the dataframe\n",
        "print(df)"
      ]
    },
    {
      "cell_type": "code",
      "execution_count": null,
      "id": "65707a21",
      "metadata": {
        "id": "65707a21",
        "outputId": "3cac46bd-6fd0-408c-87f7-bec4407a3694",
        "scrolled": true
      },
      "outputs": [
        {
          "data": {
            "text/html": [
              "<div>\n",
              "<style scoped>\n",
              "    .dataframe tbody tr th:only-of-type {\n",
              "        vertical-align: middle;\n",
              "    }\n",
              "\n",
              "    .dataframe tbody tr th {\n",
              "        vertical-align: top;\n",
              "    }\n",
              "\n",
              "    .dataframe thead th {\n",
              "        text-align: right;\n",
              "    }\n",
              "</style>\n",
              "<table border=\"1\" class=\"dataframe\">\n",
              "  <thead>\n",
              "    <tr style=\"text-align: right;\">\n",
              "      <th></th>\n",
              "      <th>age</th>\n",
              "      <th>gender</th>\n",
              "      <th>category</th>\n",
              "      <th>amount</th>\n",
              "      <th>fraud</th>\n",
              "    </tr>\n",
              "  </thead>\n",
              "  <tbody>\n",
              "    <tr>\n",
              "      <th>171915</th>\n",
              "      <td>3</td>\n",
              "      <td>F</td>\n",
              "      <td>es_transportation</td>\n",
              "      <td>49.71</td>\n",
              "      <td>0</td>\n",
              "    </tr>\n",
              "    <tr>\n",
              "      <th>426989</th>\n",
              "      <td>4</td>\n",
              "      <td>F</td>\n",
              "      <td>es_health</td>\n",
              "      <td>39.29</td>\n",
              "      <td>0</td>\n",
              "    </tr>\n",
              "    <tr>\n",
              "      <th>310539</th>\n",
              "      <td>3</td>\n",
              "      <td>F</td>\n",
              "      <td>es_transportation</td>\n",
              "      <td>18.76</td>\n",
              "      <td>0</td>\n",
              "    </tr>\n",
              "    <tr>\n",
              "      <th>215216</th>\n",
              "      <td>4</td>\n",
              "      <td>M</td>\n",
              "      <td>es_transportation</td>\n",
              "      <td>13.95</td>\n",
              "      <td>0</td>\n",
              "    </tr>\n",
              "    <tr>\n",
              "      <th>569244</th>\n",
              "      <td>2</td>\n",
              "      <td>M</td>\n",
              "      <td>es_transportation</td>\n",
              "      <td>49.87</td>\n",
              "      <td>0</td>\n",
              "    </tr>\n",
              "  </tbody>\n",
              "</table>\n",
              "</div>"
            ],
            "text/plain": [
              "       age gender           category  amount  fraud\n",
              "171915   3      F  es_transportation   49.71      0\n",
              "426989   4      F          es_health   39.29      0\n",
              "310539   3      F  es_transportation   18.76      0\n",
              "215216   4      M  es_transportation   13.95      0\n",
              "569244   2      M  es_transportation   49.87      0"
            ]
          },
          "execution_count": 381,
          "metadata": {},
          "output_type": "execute_result"
        }
      ],
      "source": [
        "# Get the dataframe shape\n",
        "df.shape\n",
        "\n",
        "# Display the first 5 rows\n",
        "df.head(5)"
      ]
    },
    {
      "cell_type": "code",
      "execution_count": null,
      "id": "38d9bb81",
      "metadata": {
        "id": "38d9bb81",
        "outputId": "e7c11de0-c3eb-4c99-b300-31199f645cee",
        "scrolled": true
      },
      "outputs": [
        {
          "name": "stdout",
          "output_type": "stream",
          "text": [
            "['es_transportation' 'es_health' 'es_hyper' 'es_food'\n",
            " 'es_wellnessandbeauty' 'es_fashion' 'es_hotelservices' 'es_sportsandtoys'\n",
            " 'es_barsandrestaurants' 'es_home' 'es_tech' 'es_contents'\n",
            " 'es_otherservices' 'es_travel' 'es_leisure']\n"
          ]
        }
      ],
      "source": [
        "# print unique categories\n",
        "print(df['category'].unique())"
      ]
    },
    {
      "cell_type": "code",
      "execution_count": null,
      "id": "dfae9f22",
      "metadata": {
        "id": "dfae9f22",
        "outputId": "527850d0-cf14-4c43-b159-a8d6a2f7bd2a",
        "scrolled": true
      },
      "outputs": [
        {
          "name": "stdout",
          "output_type": "stream",
          "text": [
            "<class 'pandas.core.frame.DataFrame'>\n",
            "Index: 7200 entries, 171915 to 579286\n",
            "Data columns (total 5 columns):\n",
            " #   Column    Non-Null Count  Dtype  \n",
            "---  ------    --------------  -----  \n",
            " 0   age       7200 non-null   object \n",
            " 1   gender    7200 non-null   object \n",
            " 2   category  7200 non-null   object \n",
            " 3   amount    7200 non-null   float64\n",
            " 4   fraud     7200 non-null   int64  \n",
            "dtypes: float64(1), int64(1), object(3)\n",
            "memory usage: 337.5+ KB\n"
          ]
        }
      ],
      "source": [
        "df.info()"
      ]
    },
    {
      "cell_type": "code",
      "execution_count": null,
      "id": "2c320a86",
      "metadata": {
        "id": "2c320a86",
        "outputId": "0edbd904-1a14-499e-d520-8bca442209c5",
        "scrolled": true
      },
      "outputs": [
        {
          "name": "stdout",
          "output_type": "stream",
          "text": [
            "                           amount     fraud\n",
            "category                                   \n",
            "es_travel              231.818656  0.944444\n",
            "es_leisure             229.757600  1.000000\n",
            "es_hotelservices       172.756245  0.548387\n",
            "es_sportsandtoys       157.251737  0.657895\n",
            "es_otherservices       149.648960  0.600000\n",
            "es_tech                132.852862  0.179487\n",
            "es_health              126.604704  0.242798\n",
            "es_home                120.688317  0.208333\n",
            "es_wellnessandbeauty    66.167078  0.060606\n",
            "es_fashion              59.780769  0.020619\n",
            "es_contents             55.170000  0.000000\n",
            "es_hyper                46.788180  0.125000\n",
            "es_barsandrestaurants   43.841793  0.022472\n",
            "es_food                 35.216050  0.000000\n",
            "es_transportation       27.422014  0.000000\n"
          ]
        }
      ],
      "source": [
        "# Groupby categories and take the mean, then sort by higest amount\n",
        "print(df.groupby('category').mean(numeric_only=True).sort_values(by='amount', ascending=False))"
      ]
    },
    {
      "cell_type": "markdown",
      "id": "547e392f",
      "metadata": {
        "id": "547e392f"
      },
      "source": [
        "### Findings from above:\n",
        "We can see that the majority of fraud is observed in travel, leisure and sports categories"
      ]
    },
    {
      "cell_type": "markdown",
      "id": "ab147961",
      "metadata": {
        "id": "ab147961"
      },
      "source": [
        "### Customer segmentation"
      ]
    },
    {
      "cell_type": "code",
      "execution_count": null,
      "id": "ba01c017",
      "metadata": {
        "id": "ba01c017",
        "outputId": "7f2e03d2-91aa-457d-a503-51cfff1c6c0b"
      },
      "outputs": [
        {
          "name": "stdout",
          "output_type": "stream",
          "text": [
            "        amount     fraud\n",
            "age                     \n",
            "0    49.468935  0.050000\n",
            "1    35.622829  0.026648\n",
            "2    37.228665  0.028718\n",
            "3    37.279338  0.023283\n",
            "4    36.197985  0.035966\n",
            "5    37.547521  0.023990\n",
            "6    36.700852  0.022293\n",
            "U    39.117000  0.000000\n"
          ]
        }
      ],
      "source": [
        "# Group by age category and get the mean\n",
        "print(df.groupby('age').mean(numeric_only=True))"
      ]
    },
    {
      "cell_type": "code",
      "execution_count": null,
      "id": "62509cf2",
      "metadata": {
        "id": "62509cf2",
        "outputId": "736c340f-9918-4cd8-864a-f858e2b980e2",
        "scrolled": true
      },
      "outputs": [
        {
          "name": "stdout",
          "output_type": "stream",
          "text": [
            "age\n",
            "2    2333\n",
            "3    1718\n",
            "4    1279\n",
            "5     792\n",
            "1     713\n",
            "6     314\n",
            "0      40\n",
            "U      11\n",
            "Name: count, dtype: int64\n"
          ]
        }
      ],
      "source": [
        "print(df['age'].value_counts())"
      ]
    },
    {
      "cell_type": "markdown",
      "id": "4f04fde3",
      "metadata": {
        "id": "4f04fde3"
      },
      "source": [
        "We can see that fraud is more prevalent across certain age categories"
      ]
    },
    {
      "cell_type": "markdown",
      "id": "bdcf0e15",
      "metadata": {
        "id": "bdcf0e15"
      },
      "source": [
        "Let's investigate the average amounts spend in normal transactions versus fraud transactions. This gives an idea of how fraudulent transactions differ structurally from normal transactions."
      ]
    },
    {
      "cell_type": "code",
      "execution_count": null,
      "id": "2656e56e",
      "metadata": {
        "id": "2656e56e",
        "outputId": "1c49073f-d1a8-4076-a09e-426588723542"
      },
      "outputs": [
        {
          "data": {
            "image/png": "[encoded data removed]",
            "text/plain": [
              "<Figure size 640x480 with 1 Axes>"
            ]
          },
          "metadata": {},
          "output_type": "display_data"
        }
      ],
      "source": [
        "# Create two dataframes with fraud and non-fraud data\n",
        "df_fraud = df.loc[df['fraud'] == 1]\n",
        "df_non_fraud = df.loc[df['fraud'] == 0]\n",
        "\n",
        "# Plot histograms of the amounts in fraud and non-fraud data\n",
        "plt.hist(df_fraud.amount, alpha=0.5, label='fraud')\n",
        "plt.hist(df_non_fraud.amount, alpha=0.5, label='nonfraud')\n",
        "plt.title(\"Distribution of fraud and nonfraud transactions by amount\")\n",
        "plt.xlabel(\"transaction amount\")\n",
        "plt.ylabel(\"number of transactions\")\n",
        "plt.legend()\n",
        "plt.show()"
      ]
    },
    {
      "cell_type": "markdown",
      "id": "5d547e69",
      "metadata": {
        "id": "5d547e69"
      },
      "source": [
        "#### Findings from above:\n",
        "Fraudulent transactions tend to be on the larger side relative to normal transactions."
      ]
    },
    {
      "cell_type": "markdown",
      "id": "ca10d0c7",
      "metadata": {
        "id": "ca10d0c7"
      },
      "source": [
        "### Clustering methods to detect fraud\n",
        "Next we'll load a new dataset to look at clustering methods to detect fraud."
      ]
    },
    {
      "cell_type": "code",
      "execution_count": null,
      "id": "34e17a97",
      "metadata": {
        "id": "34e17a97"
      },
      "outputs": [],
      "source": [
        "df = pd.read_csv(\"data/banksim_adj.csv\", index_col=0)"
      ]
    },
    {
      "cell_type": "code",
      "execution_count": null,
      "id": "35e790cd",
      "metadata": {
        "id": "35e790cd"
      },
      "outputs": [],
      "source": [
        "from sklearn.preprocessing import MinMaxScaler\n",
        "from sklearn.cluster import KMeans\n",
        "\n",
        "#transform and scale data\n",
        "X = df.values.astype(float)\n",
        "scaler = MinMaxScaler()\n",
        "X_scaled = scaler.fit_transform(X)\n",
        "\n",
        "y = df[\"fraud\"]"
      ]
    },
    {
      "cell_type": "code",
      "execution_count": null,
      "id": "77034510",
      "metadata": {
        "id": "77034510",
        "outputId": "3f040f9b-bf98-4b68-dee9-6c4491a105b5"
      },
      "outputs": [
        {
          "name": "stderr",
          "output_type": "stream",
          "text": [
            "/Users/larissahuang/anaconda3/lib/python3.11/site-packages/sklearn/cluster/_kmeans.py:870: FutureWarning: The default value of `n_init` will change from 3 to 'auto' in 1.4. Set the value of `n_init` explicitly to suppress the warning\n",
            "  warnings.warn(\n",
            "/Users/larissahuang/anaconda3/lib/python3.11/site-packages/sklearn/cluster/_kmeans.py:870: FutureWarning: The default value of `n_init` will change from 3 to 'auto' in 1.4. Set the value of `n_init` explicitly to suppress the warning\n",
            "  warnings.warn(\n",
            "/Users/larissahuang/anaconda3/lib/python3.11/site-packages/sklearn/cluster/_kmeans.py:870: FutureWarning: The default value of `n_init` will change from 3 to 'auto' in 1.4. Set the value of `n_init` explicitly to suppress the warning\n",
            "  warnings.warn(\n",
            "/Users/larissahuang/anaconda3/lib/python3.11/site-packages/sklearn/cluster/_kmeans.py:870: FutureWarning: The default value of `n_init` will change from 3 to 'auto' in 1.4. Set the value of `n_init` explicitly to suppress the warning\n",
            "  warnings.warn(\n"
          ]
        },
        {
          "data": {
            "image/png": "[encoded data removed]",
            "text/plain": [
              "<Figure size 640x480 with 1 Axes>"
            ]
          },
          "metadata": {},
          "output_type": "display_data"
        }
      ],
      "source": [
        "# Import MiniBatchKmeans as an efficient way to implement K-means on a large dataset\n",
        "from sklearn.cluster import MiniBatchKMeans\n",
        "\n",
        "# Define the range of clusters to try\n",
        "clustno = range(1, 5)\n",
        "\n",
        "# Run MiniBatch Kmeans over the number of clusters\n",
        "kmeans = [MiniBatchKMeans(n_clusters=i, random_state=0) for i in clustno]\n",
        "\n",
        "# Obtain the score for each model\n",
        "score = [kmeans[i].fit(X_scaled).score(X_scaled) for i in range(len(kmeans))]\n",
        "\n",
        "# Plot the models and their respective score\n",
        "plt.plot(clustno, score)\n",
        "plt.xlabel('Number of Clusters')\n",
        "plt.ylabel('Score')\n",
        "plt.title('Elbow Curve')\n",
        "plt.show()"
      ]
    },
    {
      "cell_type": "markdown",
      "id": "1c21348d",
      "metadata": {
        "id": "1c21348d"
      },
      "source": [
        "#### Findings from above:\n",
        "Now you can see that the optimal number of clusters should probably be at around 3 clusters, as that is where the elbow is in the curve."
      ]
    },
    {
      "cell_type": "markdown",
      "id": "f97cba94",
      "metadata": {
        "id": "f97cba94"
      },
      "source": [
        "### Flagging fraud based on distance to centroid"
      ]
    },
    {
      "cell_type": "markdown",
      "id": "d0643dd3",
      "metadata": {
        "id": "d0643dd3"
      },
      "source": [
        "I'm going to use the K-means algorithm to predict fraud, and compare those predictions to the actual labels that are saved, to check results.\n",
        "\n",
        "The fraudulent transactions are typically flagged as the observations that are furthest aways from the cluster centroid. In the code below, I am doing the following steps:\n",
        "\n",
        "-split the scaled data and labels 'y' into train and test set\n",
        "\n",
        "-define minibatch k-means with 3 clusters and fit to the training data\n",
        "\n",
        "-get cluster predictions from test data and obtain the cluster centroids\n",
        "\n",
        "-defined the boundary between fraud and nonfraud to be at 95% of distance distribution and higher (in other words, if they are in the top 5th percentile in distance from the cluster centroid). If I were to lower the threshold for cases flagged as fraud, I would flag more cases overall but also get more false positives."
      ]
    },
    {
      "cell_type": "code",
      "execution_count": null,
      "id": "41488691",
      "metadata": {
        "id": "41488691",
        "outputId": "90cc47a3-29f9-4b5e-f74b-ef1f2ce08ca9"
      },
      "outputs": [
        {
          "name": "stdout",
          "output_type": "stream",
          "text": [
            "ROC AUC score: 0.9701335611374876\n"
          ]
        },
        {
          "name": "stderr",
          "output_type": "stream",
          "text": [
            "/Users/larissahuang/anaconda3/lib/python3.11/site-packages/sklearn/cluster/_kmeans.py:870: FutureWarning: The default value of `n_init` will change from 3 to 'auto' in 1.4. Set the value of `n_init` explicitly to suppress the warning\n",
            "  warnings.warn(\n"
          ]
        }
      ],
      "source": [
        "# Split the data into training and test set\n",
        "X_train, X_test, y_train, y_test = train_test_split(X_scaled, y, test_size=0.3, random_state=0)\n",
        "\n",
        "# Define K-means model\n",
        "kmeans = MiniBatchKMeans(n_clusters=3, random_state=42).fit(X_train)\n",
        "\n",
        "# Obtain predictions and calculate distance from cluster centroid\n",
        "X_test_clusters = kmeans.predict(X_test)\n",
        "X_test_clusters_centers = kmeans.cluster_centers_\n",
        "dist = [np.linalg.norm(x-y) for x, y in zip(X_test, X_test_clusters_centers[X_test_clusters])]\n",
        "\n",
        "# Create fraud predictions based on outliers on clusters\n",
        "km_y_pred = np.array(dist)\n",
        "km_y_pred[dist >= np.percentile(dist, 95)] = 1\n",
        "km_y_pred[dist < np.percentile(dist, 95)] = 0\n",
        "\n"
      ]
    },
    {
      "cell_type": "code",
      "execution_count": null,
      "id": "4da9a258",
      "metadata": {
        "id": "4da9a258",
        "outputId": "e58c1037-09ae-435c-c1b8-bb6d3138d021",
        "scrolled": false
      },
      "outputs": [
        {
          "name": "stdout",
          "output_type": "stream",
          "text": [
            "ROC AUC score: 0.9701335611374876\n"
          ]
        },
        {
          "data": {
            "image/png": "[encoded data removed]",
            "text/plain": [
              "<Figure size 800x600 with 2 Axes>"
            ]
          },
          "metadata": {},
          "output_type": "display_data"
        }
      ],
      "source": [
        "print(f\"ROC AUC score:\", roc_auc_score(y_test, km_y_pred))\n",
        "\n",
        "# Create a confusion matrix\n",
        "km_cm = confusion_matrix(y_test, km_y_pred)\n",
        "\n",
        "# Plotting the confusion matrix\n",
        "fig, ax = plt.subplots(figsize=(8, 6))\n",
        "sns.heatmap(km_cm, annot=True, fmt='d', cmap='rocket', ax=ax)  # 'd' means integer formatting\n",
        "ax.set_xlabel('Predicted labels')\n",
        "ax.set_ylabel('True labels')\n",
        "ax.set_title('Confusion Matrix')\n",
        "ax.xaxis.set_ticklabels(['Normal', 'Fraud'])\n",
        "ax.yaxis.set_ticklabels(['Normal', 'Fraud'])\n",
        "plt.show()\n",
        "\n"
      ]
    },
    {
      "cell_type": "markdown",
      "id": "e92063f5",
      "metadata": {
        "id": "e92063f5"
      },
      "source": [
        "#### Findings from above:\n",
        "The model caught almost all cases of fraud but also misclassified quite a lot (53) of non fraud cases as fraud. This can definitely be improved."
      ]
    },
    {
      "cell_type": "markdown",
      "id": "0945cdaa",
      "metadata": {
        "id": "0945cdaa"
      },
      "source": [
        "### DBSCAN\n",
        "A different way of clustering is finding the smallest cluster. DBSCAN stands for Density-Based Spatial Clustering of Applications with Noise. DBSCAN finds core samples of high density and expands clusters from them. This works well on data which contains clusters of similar density. This is a type of algorithm you can use to identify fraud as very small clusters. Some attributes of DBSCAN that differ from K-Means are:\n",
        "\n",
        "- No need to predefine amount of clusters\n",
        "\n",
        "- Adjust maximum distance between points within clusters\n",
        "\n",
        "- Assign minimum amount of samples in clusters\n",
        "\n",
        "- Better performance on weirdly shaped data\n",
        "\n",
        "- Higher computational costs\n",
        "\n",
        "homogeneity score: evaluates the quality of a clustering algorithm. A score of 1 means that each cluster contains only data points which are members of a single class.\n",
        "\n",
        "silhouette score: how similar a point is to its own cluster compared to others. A score close to 1 indicates that the sample is far away from the neighboring clusters."
      ]
    },
    {
      "cell_type": "code",
      "execution_count": null,
      "id": "badc4eb9",
      "metadata": {
        "id": "badc4eb9",
        "outputId": "0e8c21b7-191e-4300-adff-9c4c8b6f272d"
      },
      "outputs": [
        {
          "name": "stdout",
          "output_type": "stream",
          "text": [
            "Estimated number of clusters: 26\n",
            "Homogeneity: 0.922\n",
            "Silhouette Coefficient: 0.707\n"
          ]
        }
      ],
      "source": [
        "# Import DBSCAN\n",
        "from sklearn.cluster import DBSCAN\n",
        "from sklearn.metrics import homogeneity_score, silhouette_score\n",
        "\n",
        "# Initialize and fit the DBSCAN model\n",
        "db = DBSCAN(eps=0.9, min_samples=10, n_jobs=-1).fit(X_scaled)\n",
        "\n",
        "# Obtain the predicted labels and calculate number of clusters\n",
        "pred_labels = db.labels_\n",
        "\n",
        "# Get the length of unique labels for cluster IDs with set(pred_labels)\n",
        "# Calculates the total number of clusters excluding any clusters labeled as noise or outliers (-1)\n",
        "n_clusters = len(set(pred_labels)) - (1 if -1 in y else 0)\n",
        "\n",
        "# Print performance metrics for DBSCAN\n",
        "print('Estimated number of clusters: %d' % n_clusters)\n",
        "print(\"Homogeneity: %0.3f\" % homogeneity_score(y, pred_labels))\n",
        "print(\"Silhouette Coefficient: %0.3f\" % silhouette_score(X_scaled, pred_labels))"
      ]
    },
    {
      "cell_type": "markdown",
      "id": "4c1d88ff",
      "metadata": {
        "id": "4c1d88ff"
      },
      "source": [
        "#### Findings from above:\n",
        "The number of clusters is much higher than with K-means. Now let's have a look at those clusters and decide which one to flag as fraud."
      ]
    },
    {
      "cell_type": "code",
      "execution_count": null,
      "id": "a487e1c7",
      "metadata": {
        "id": "a487e1c7",
        "outputId": "0042fadc-b779-49d5-8fac-c8c971a5d33c"
      },
      "outputs": [
        {
          "name": "stdout",
          "output_type": "stream",
          "text": [
            "The smallest clusters are clusters:\n",
            "[21 18 24 15]\n",
            "Their counts are:\n",
            "[10 10 11 11]\n"
          ]
        }
      ],
      "source": [
        "# Count observations in each cluster number\n",
        "counts = np.bincount(pred_labels[pred_labels >= 0])\n",
        "\n",
        "# Count observations in each cluster number\n",
        "counts = np.bincount(pred_labels[pred_labels>=0])\n",
        "\n",
        "# Sort the sample counts of the clusters and take the top 4 smallest clusters\n",
        "smallest_clusters = np.argsort(counts)[:4]\n",
        "\n",
        "# Print the results\n",
        "print(\"The smallest clusters are clusters:\")\n",
        "print(smallest_clusters)\n",
        "\n",
        "# Print the counts of the smallest clusters only\n",
        "print(\"Their counts are:\")\n",
        "print(counts[smallest_clusters])"
      ]
    },
    {
      "cell_type": "markdown",
      "id": "c4c5b256",
      "metadata": {
        "id": "c4c5b256"
      },
      "source": [
        "#### Findings from above:\n",
        "Now we know which smallest clusters can be flagged as fraud. Next I'll check the results with the actual labels. In a real-world scenario, we won't have reliable labels so these flagged cases can be checked against historically known cases of fraud. For now, I will use the fraud labels (y) to check the model results."
      ]
    },
    {
      "cell_type": "code",
      "execution_count": null,
      "id": "d04bde02",
      "metadata": {
        "id": "d04bde02",
        "outputId": "a9b406c8-dc18-4966-8b56-03e81ef708ed"
      },
      "outputs": [
        {
          "name": "stdout",
          "output_type": "stream",
          "text": [
            "Flagged Fraud     0   1\n",
            "Actual Fraud           \n",
            "0              6968  21\n",
            "1               179  21\n"
          ]
        }
      ],
      "source": [
        "# Create a dataframe of the predicted cluster numbers and fraud labels\n",
        "df = pd.DataFrame({'clusternr':pred_labels,'fraud':y})\n",
        "\n",
        "# Create a condition flagging fraud for the smallest clusters\n",
        "df['predicted_fraud'] = np.where((df['clusternr']==21)|(df['clusternr']==18)|(df['clusternr']==24)|(df['clusternr']==15),1 , 0)\n",
        "\n",
        "# Run a crosstab on the results\n",
        "print(pd.crosstab(df['fraud'], df['predicted_fraud'], rownames=['Actual Fraud'], colnames=['Flagged Fraud']))"
      ]
    },
    {
      "cell_type": "markdown",
      "id": "18ce93e0",
      "metadata": {
        "id": "18ce93e0"
      },
      "source": [
        "#### Findings from above:\n",
        "The good: all of our flagged cases are actually fraud!\n",
        "\n",
        "The bad: the model failed to catch  158 cases of fraud.\n",
        "\n",
        "The reasoning: Since I'm only taking the 4 smallest clusters, by definition I flag less cases of fraud, but that means I also have fewer false positives (21 at upper right quadrant).  Increasing the amount of smallest clusters flagged could improve how many fraud cases I catch, but at the cost of more false positives.\n",
        "\n",
        "In the next section I'll try to further improve fraud detection models by including text analysis."
      ]
    },
    {
      "cell_type": "markdown",
      "id": "e8fdb75b",
      "metadata": {
        "id": "e8fdb75b"
      },
      "source": [
        "## Text Mining Techniques for Fraud Detection\n",
        "\n",
        "To demonstrate text mining techniques, I will be using a data set of cleaned internal emails from Enron."
      ]
    },
    {
      "cell_type": "code",
      "execution_count": null,
      "id": "8b83fe6c",
      "metadata": {
        "id": "8b83fe6c",
        "outputId": "da3e684e-ff9b-42df-bca9-e5a5c1eb352b"
      },
      "outputs": [
        {
          "data": {
            "text/html": [
              "<div>\n",
              "<style scoped>\n",
              "    .dataframe tbody tr th:only-of-type {\n",
              "        vertical-align: middle;\n",
              "    }\n",
              "\n",
              "    .dataframe tbody tr th {\n",
              "        vertical-align: top;\n",
              "    }\n",
              "\n",
              "    .dataframe thead th {\n",
              "        text-align: right;\n",
              "    }\n",
              "</style>\n",
              "<table border=\"1\" class=\"dataframe\">\n",
              "  <thead>\n",
              "    <tr style=\"text-align: right;\">\n",
              "      <th></th>\n",
              "      <th>From</th>\n",
              "      <th>To</th>\n",
              "      <th>Date</th>\n",
              "      <th>content</th>\n",
              "      <th>clean_content</th>\n",
              "    </tr>\n",
              "    <tr>\n",
              "      <th>Message-ID</th>\n",
              "      <th></th>\n",
              "      <th></th>\n",
              "      <th></th>\n",
              "      <th></th>\n",
              "      <th></th>\n",
              "    </tr>\n",
              "  </thead>\n",
              "  <tbody>\n",
              "    <tr>\n",
              "      <th>&lt;8345058.1075840404046.JavaMail.evans@thyme&gt;</th>\n",
              "      <td>('advdfeedback@investools.com')</td>\n",
              "      <td>('advdfeedback@investools.com')</td>\n",
              "      <td>2002-01-29 23:20:55</td>\n",
              "      <td>INVESTools Advisory\\nA Free Digest of Trusted ...</td>\n",
              "      <td>investools advisory free digest trusted invest...</td>\n",
              "    </tr>\n",
              "    <tr>\n",
              "      <th>&lt;1512159.1075863666797.JavaMail.evans@thyme&gt;</th>\n",
              "      <td>('richard.sanders@enron.com')</td>\n",
              "      <td>('richard.sanders@enron.com')</td>\n",
              "      <td>2000-09-20 19:07:00</td>\n",
              "      <td>----- Forwarded by Richard B Sanders/HOU/ECT o...</td>\n",
              "      <td>forwarded richard b sanders hou ect pm justin ...</td>\n",
              "    </tr>\n",
              "    <tr>\n",
              "      <th>&lt;26118676.1075862176383.JavaMail.evans@thyme&gt;</th>\n",
              "      <td>('m..love@enron.com')</td>\n",
              "      <td>('m..love@enron.com')</td>\n",
              "      <td>2001-10-30 16:15:17</td>\n",
              "      <td>hey you are not wearing your target purple shi...</td>\n",
              "      <td>hey wearing target purple shirt today mine wan...</td>\n",
              "    </tr>\n",
              "    <tr>\n",
              "      <th>&lt;10369289.1075860831062.JavaMail.evans@thyme&gt;</th>\n",
              "      <td>('leslie.milosevich@kp.org')</td>\n",
              "      <td>('leslie.milosevich@kp.org')</td>\n",
              "      <td>2002-01-30 17:54:18</td>\n",
              "      <td>Leslie Milosevich\\n1042 Santa Clara Avenue\\nAl...</td>\n",
              "      <td>leslie milosevich santa clara avenue alameda c...</td>\n",
              "    </tr>\n",
              "    <tr>\n",
              "      <th>&lt;26728895.1075860815046.JavaMail.evans@thyme&gt;</th>\n",
              "      <td>('rtwait@graphicaljazz.com')</td>\n",
              "      <td>('rtwait@graphicaljazz.com')</td>\n",
              "      <td>2002-01-30 19:36:01</td>\n",
              "      <td>Rini Twait\\n1010 E 5th Ave\\nLongmont, CO 80501...</td>\n",
              "      <td>rini twait e th ave longmont co rtwait graphic...</td>\n",
              "    </tr>\n",
              "  </tbody>\n",
              "</table>\n",
              "</div>"
            ],
            "text/plain": [
              "                                                                          From   \n",
              "Message-ID                                                                       \n",
              "<8345058.1075840404046.JavaMail.evans@thyme>   ('advdfeedback@investools.com')  \\\n",
              "<1512159.1075863666797.JavaMail.evans@thyme>     ('richard.sanders@enron.com')   \n",
              "<26118676.1075862176383.JavaMail.evans@thyme>            ('m..love@enron.com')   \n",
              "<10369289.1075860831062.JavaMail.evans@thyme>     ('leslie.milosevich@kp.org')   \n",
              "<26728895.1075860815046.JavaMail.evans@thyme>     ('rtwait@graphicaljazz.com')   \n",
              "\n",
              "                                                                            To   \n",
              "Message-ID                                                                       \n",
              "<8345058.1075840404046.JavaMail.evans@thyme>   ('advdfeedback@investools.com')  \\\n",
              "<1512159.1075863666797.JavaMail.evans@thyme>     ('richard.sanders@enron.com')   \n",
              "<26118676.1075862176383.JavaMail.evans@thyme>            ('m..love@enron.com')   \n",
              "<10369289.1075860831062.JavaMail.evans@thyme>     ('leslie.milosevich@kp.org')   \n",
              "<26728895.1075860815046.JavaMail.evans@thyme>     ('rtwait@graphicaljazz.com')   \n",
              "\n",
              "                                                              Date   \n",
              "Message-ID                                                           \n",
              "<8345058.1075840404046.JavaMail.evans@thyme>   2002-01-29 23:20:55  \\\n",
              "<1512159.1075863666797.JavaMail.evans@thyme>   2000-09-20 19:07:00   \n",
              "<26118676.1075862176383.JavaMail.evans@thyme>  2001-10-30 16:15:17   \n",
              "<10369289.1075860831062.JavaMail.evans@thyme>  2002-01-30 17:54:18   \n",
              "<26728895.1075860815046.JavaMail.evans@thyme>  2002-01-30 19:36:01   \n",
              "\n",
              "                                                                                         content   \n",
              "Message-ID                                                                                         \n",
              "<8345058.1075840404046.JavaMail.evans@thyme>   INVESTools Advisory\\nA Free Digest of Trusted ...  \\\n",
              "<1512159.1075863666797.JavaMail.evans@thyme>   ----- Forwarded by Richard B Sanders/HOU/ECT o...   \n",
              "<26118676.1075862176383.JavaMail.evans@thyme>  hey you are not wearing your target purple shi...   \n",
              "<10369289.1075860831062.JavaMail.evans@thyme>  Leslie Milosevich\\n1042 Santa Clara Avenue\\nAl...   \n",
              "<26728895.1075860815046.JavaMail.evans@thyme>  Rini Twait\\n1010 E 5th Ave\\nLongmont, CO 80501...   \n",
              "\n",
              "                                                                                   clean_content  \n",
              "Message-ID                                                                                        \n",
              "<8345058.1075840404046.JavaMail.evans@thyme>   investools advisory free digest trusted invest...  \n",
              "<1512159.1075863666797.JavaMail.evans@thyme>   forwarded richard b sanders hou ect pm justin ...  \n",
              "<26118676.1075862176383.JavaMail.evans@thyme>  hey wearing target purple shirt today mine wan...  \n",
              "<10369289.1075860831062.JavaMail.evans@thyme>  leslie milosevich santa clara avenue alameda c...  \n",
              "<26728895.1075860815046.JavaMail.evans@thyme>  rini twait e th ave longmont co rtwait graphic...  "
            ]
          },
          "execution_count": 444,
          "metadata": {},
          "output_type": "execute_result"
        }
      ],
      "source": [
        "df = pd.read_csv(\"data/enron_emails_clean.csv\", index_col=0)\n",
        "\n",
        "df.head()"
      ]
    },
    {
      "cell_type": "code",
      "execution_count": null,
      "id": "6865b793",
      "metadata": {
        "id": "6865b793",
        "outputId": "a824328b-6a10-4dba-f67b-5f81a8cbb688"
      },
      "outputs": [
        {
          "name": "stdout",
          "output_type": "stream",
          "text": [
            "                                                                    From   \n",
            "Message-ID                                                                 \n",
            "<6336501.1075841154311.JavaMail.evans@thyme>  ('sarah.palmer@enron.com')  \\\n",
            "\n",
            "                                                                      To   \n",
            "Message-ID                                                                 \n",
            "<6336501.1075841154311.JavaMail.evans@thyme>  ('sarah.palmer@enron.com')  \\\n",
            "\n",
            "                                                             Date   \n",
            "Message-ID                                                          \n",
            "<6336501.1075841154311.JavaMail.evans@thyme>  2002-02-01 14:53:35  \\\n",
            "\n",
            "                                                                                        content   \n",
            "Message-ID                                                                                        \n",
            "<6336501.1075841154311.JavaMail.evans@thyme>  \\nJoint Venture: A 1997 Enron Meeting Belies O...  \\\n",
            "\n",
            "                                                                                  clean_content  \n",
            "Message-ID                                                                                       \n",
            "<6336501.1075841154311.JavaMail.evans@thyme>  joint venture enron meeting belies officers cl...  \n"
          ]
        }
      ],
      "source": [
        "# Find all cleaned emails that contain 'sell enron stock'\n",
        "mask = df['clean_content'].str.contains('sell enron stock', na=False)\n",
        "\n",
        "# Select the data from df using the mask\n",
        "print(df.loc[mask])"
      ]
    },
    {
      "cell_type": "markdown",
      "id": "afcb3bf8",
      "metadata": {
        "id": "afcb3bf8"
      },
      "source": [
        "### Using a list of terms\n",
        "By joining the search terms with |, I can search a multitude of terms in the dataset."
      ]
    },
    {
      "cell_type": "code",
      "execution_count": null,
      "id": "20dd9967",
      "metadata": {
        "id": "20dd9967",
        "outputId": "0e3f026a-a037-4b56-e328-9f975f0a1daf"
      },
      "outputs": [
        {
          "name": "stdout",
          "output_type": "stream",
          "text": [
            "                                                                            From   \n",
            "Message-ID                                                                         \n",
            "<8345058.1075840404046.JavaMail.evans@thyme>     ('advdfeedback@investools.com')  \\\n",
            "<1512159.1075863666797.JavaMail.evans@thyme>       ('richard.sanders@enron.com')   \n",
            "<26118676.1075862176383.JavaMail.evans@thyme>              ('m..love@enron.com')   \n",
            "<10369289.1075860831062.JavaMail.evans@thyme>       ('leslie.milosevich@kp.org')   \n",
            "<26728895.1075860815046.JavaMail.evans@thyme>       ('rtwait@graphicaljazz.com')   \n",
            "...                                                                          ...   \n",
            "<15875618.1075860830584.JavaMail.evans@thyme>             ('bandersn@loyno.edu')   \n",
            "<30798399.1075841348382.JavaMail.evans@thyme>       ('chairman.enron@enron.com')   \n",
            "<957052.1075861359136.JavaMail.evans@thyme>           ('chairman.ken@enron.com')   \n",
            "<18936682.1075861158419.JavaMail.evans@thyme>      ('resources.human@enron.com')   \n",
            "<5472336.1075841501893.JavaMail.evans@thyme>   ('announcements.enron@enron.com')   \n",
            "\n",
            "                                                                              To   \n",
            "Message-ID                                                                         \n",
            "<8345058.1075840404046.JavaMail.evans@thyme>     ('advdfeedback@investools.com')  \\\n",
            "<1512159.1075863666797.JavaMail.evans@thyme>       ('richard.sanders@enron.com')   \n",
            "<26118676.1075862176383.JavaMail.evans@thyme>              ('m..love@enron.com')   \n",
            "<10369289.1075860831062.JavaMail.evans@thyme>       ('leslie.milosevich@kp.org')   \n",
            "<26728895.1075860815046.JavaMail.evans@thyme>       ('rtwait@graphicaljazz.com')   \n",
            "...                                                                          ...   \n",
            "<15875618.1075860830584.JavaMail.evans@thyme>             ('bandersn@loyno.edu')   \n",
            "<30798399.1075841348382.JavaMail.evans@thyme>       ('chairman.enron@enron.com')   \n",
            "<957052.1075861359136.JavaMail.evans@thyme>           ('chairman.ken@enron.com')   \n",
            "<18936682.1075861158419.JavaMail.evans@thyme>      ('resources.human@enron.com')   \n",
            "<5472336.1075841501893.JavaMail.evans@thyme>   ('announcements.enron@enron.com')   \n",
            "\n",
            "                                                              Date   \n",
            "Message-ID                                                           \n",
            "<8345058.1075840404046.JavaMail.evans@thyme>   2002-01-29 23:20:55  \\\n",
            "<1512159.1075863666797.JavaMail.evans@thyme>   2000-09-20 19:07:00   \n",
            "<26118676.1075862176383.JavaMail.evans@thyme>  2001-10-30 16:15:17   \n",
            "<10369289.1075860831062.JavaMail.evans@thyme>  2002-01-30 17:54:18   \n",
            "<26728895.1075860815046.JavaMail.evans@thyme>  2002-01-30 19:36:01   \n",
            "...                                                            ...   \n",
            "<15875618.1075860830584.JavaMail.evans@thyme>  2002-01-30 17:54:12   \n",
            "<30798399.1075841348382.JavaMail.evans@thyme>  2002-01-16 14:45:55   \n",
            "<957052.1075861359136.JavaMail.evans@thyme>    2001-11-09 23:48:54   \n",
            "<18936682.1075861158419.JavaMail.evans@thyme>  2001-11-25 23:15:46   \n",
            "<5472336.1075841501893.JavaMail.evans@thyme>   2002-01-23 20:51:34   \n",
            "\n",
            "                                                                                         content   \n",
            "Message-ID                                                                                         \n",
            "<8345058.1075840404046.JavaMail.evans@thyme>   INVESTools Advisory\\nA Free Digest of Trusted ...  \\\n",
            "<1512159.1075863666797.JavaMail.evans@thyme>   ----- Forwarded by Richard B Sanders/HOU/ECT o...   \n",
            "<26118676.1075862176383.JavaMail.evans@thyme>  hey you are not wearing your target purple shi...   \n",
            "<10369289.1075860831062.JavaMail.evans@thyme>  Leslie Milosevich\\n1042 Santa Clara Avenue\\nAl...   \n",
            "<26728895.1075860815046.JavaMail.evans@thyme>  Rini Twait\\n1010 E 5th Ave\\nLongmont, CO 80501...   \n",
            "...                                                                                          ...   \n",
            "<15875618.1075860830584.JavaMail.evans@thyme>  Blanca Anderson\\n1310 Cadiz\\nNew orleans, LA 7...   \n",
            "<30798399.1075841348382.JavaMail.evans@thyme>  \\nEnron announced today that its common stock ...   \n",
            "<957052.1075861359136.JavaMail.evans@thyme>    \\nToday, we announced plans to merge with Dyne...   \n",
            "<18936682.1075861158419.JavaMail.evans@thyme>  We've updated the Merger Q&A document on our E...   \n",
            "<5472336.1075841501893.JavaMail.evans@thyme>   \\nPLEASE READ THIS IMPORTANT INFORMATION CONCE...   \n",
            "\n",
            "                                                                                   clean_content  \n",
            "Message-ID                                                                                        \n",
            "<8345058.1075840404046.JavaMail.evans@thyme>   investools advisory free digest trusted invest...  \n",
            "<1512159.1075863666797.JavaMail.evans@thyme>   forwarded richard b sanders hou ect pm justin ...  \n",
            "<26118676.1075862176383.JavaMail.evans@thyme>  hey wearing target purple shirt today mine wan...  \n",
            "<10369289.1075860831062.JavaMail.evans@thyme>  leslie milosevich santa clara avenue alameda c...  \n",
            "<26728895.1075860815046.JavaMail.evans@thyme>  rini twait e th ave longmont co rtwait graphic...  \n",
            "...                                                                                          ...  \n",
            "<15875618.1075860830584.JavaMail.evans@thyme>  blanca anderson cadiz new orleans la bandersn ...  \n",
            "<30798399.1075841348382.JavaMail.evans@thyme>  enron announced today common stock traded coun...  \n",
            "<957052.1075861359136.JavaMail.evans@thyme>    today announced plans merge dynegy major playe...  \n",
            "<18936682.1075861158419.JavaMail.evans@thyme>  updated merger q document enron updates site h...  \n",
            "<5472336.1075841501893.JavaMail.evans@thyme>   please read important information concerning e...  \n",
            "\n",
            "[314 rows x 5 columns]\n"
          ]
        }
      ],
      "source": [
        "# Create a list of terms to search for\n",
        "searchfor = ['enron stock', 'sell stock', 'stock bonus', 'sell enron stock']\n",
        "\n",
        "# Filter cleaned emails on searchfor list and select from df\n",
        "filtered_emails = df.loc[df['clean_content'].str.contains('|'.join(searchfor), na=False)]\n",
        "print(filtered_emails)"
      ]
    },
    {
      "cell_type": "markdown",
      "id": "d09d984a",
      "metadata": {
        "id": "d09d984a"
      },
      "source": [
        "### Creating a flag\n",
        "I will create an actual flag variable that gives a 1 when the emails get a hit on the search terms of interest, and 0 otherwise. This is the last step in order to actually use the text data content as a feature in a machine learning model, or as an actual flag on top of model results."
      ]
    },
    {
      "cell_type": "code",
      "execution_count": null,
      "id": "d87496aa",
      "metadata": {
        "id": "d87496aa",
        "outputId": "1cbae1a8-43a0-4075-f617-1ffc42ecf641"
      },
      "outputs": [
        {
          "name": "stdout",
          "output_type": "stream",
          "text": [
            "flag\n",
            "0    1776\n",
            "1     314\n",
            "Name: count, dtype: int64\n"
          ]
        }
      ],
      "source": [
        "# Create flag variable where the emails match the searchfor terms\n",
        "df['flag'] = np.where((df['clean_content'].str.contains('|'.join(searchfor)) == True), 1, 0)\n",
        "\n",
        "\n",
        "# Count the values of the flag variable\n",
        "count = df['flag'].value_counts()\n",
        "print(count)"
      ]
    },
    {
      "cell_type": "markdown",
      "id": "7256daf3",
      "metadata": {
        "id": "7256daf3"
      },
      "source": [
        "### Text Cleaning\n",
        "\n",
        "Whenever working with text data, the following text cleaning steps need to be applied:\n",
        "1. Tokenization - split strings into words\n",
        "2. Remove all stopwords - common words that don't convey significant meaning\n",
        "3. Lemmatization - convert words to root form with lexical knowledge (more sophisticated than stemming)\n",
        "4. Stemming - reduce words to base form by excluding prefix or suffix\n",
        "\n",
        "First we need to import nltk, and the stopwords and WordLemmatizer packages from nltk."
      ]
    },
    {
      "cell_type": "code",
      "execution_count": null,
      "id": "ba407b6a",
      "metadata": {
        "id": "ba407b6a"
      },
      "outputs": [],
      "source": [
        "# Install and import parent libraries\n",
        "!pip install nltk\n",
        "import nltk\n",
        "nltk.download('wordnet')\n",
        "\n",
        "# Import nltk packages and string\n",
        "from nltk.corpus import stopwords\n",
        "import string\n",
        "\n",
        "# Import the lemmatizer from nltk\n",
        "from nltk.stem.wordnet import WordNetLemmatizer\n",
        "lemma = WordNetLemmatizer()"
      ]
    },
    {
      "cell_type": "markdown",
      "id": "7233d404",
      "metadata": {
        "id": "7233d404"
      },
      "source": [
        "The function `clean()` takes in two parameters: text and stop. text is the string that needs to be cleaned and stop is a list of stopwords.\n",
        "\n",
        "Inside the function, the `rstrip()` method is used to remove trailing whitespaces.\n",
        "\n",
        "Next, new string `stop_free` that contains only the words from text that are not in stop and are not digits is created using list comprehension.\n",
        "\n",
        "Then, a new string `punc_free` that contains only the characters from `stop_free that` are not in `exclude` (a list of punctuation characters) is created using list comprehension.\n",
        "\n",
        "Finally, the words in `punc_free` are lemmatized using the lemmatize method of the lemma object. The lemmatized words are joined together into a string `normalized` with spaces in between the words."
      ]
    },
    {
      "cell_type": "code",
      "execution_count": null,
      "id": "7dad39ac",
      "metadata": {
        "id": "7dad39ac",
        "outputId": "22a330a1-3558-4253-dce7-a30055e73703"
      },
      "outputs": [
        {
          "name": "stdout",
          "output_type": "stream",
          "text": [
            "length of text_clean: 2090\n",
            "words from first email: [['investools', 'advisory', 'free', 'digest', 'trusted', 'investment', 'advice', 'unsubscribe', 'free', 'newsletter', 'please', 'see', 'issue', 'fried', 'sell', 'stock', 'gain', 'month', 'km', 'rowe', 'january', 'index', 'confirms', 'bull', 'market', 'aloy', 'small', 'cap', 'advisor', 'earns', 'lbix', 'compounding', 'return', 'pine', 'tree', 'pcl', 'undervalued', 'high', 'yield', 'bank', 'put', 'customer', 'first', 'aso', 'word', 'sponsor', 'top', 'wall', 'street', 'watcher', 'ben', 'zacks', 'year', 'year', 'gain', 'moving', 'best', 'brightest', 'wall', 'street', 'big', 'money', 'machine', 'earned', 'ben', 'zacks', 'five', 'year', 'average', 'annual', 'gain', 'start', 'outperforming', 'long', 'term', 'get', 'zacks', 'latest', 'stock', 'buylist', 'free', 'day', 'trial', 'investools', 'c', 'go', 'zaks', 'mtxtu', 'zakstb', 'investools', 'advisory', 'john', 'brobst', 'investools', 'fried', 'sell', 'stock', 'lock', 'month', 'km', 'david', 'fried', 'know', 'stock', 'undervalued', 'company', 'management', 'buy', 'back', 'share', 'open', 'market', 'latest', 'triumph', 'pocketing', 'impressive', 'gain', 'three', 'short', 'month', 'selling', 'four', 'buyback', 'stock', 'include', 'gain', 'auto', 'retailer', 'automation', 'incorporated', 'gain', 'digital', 'phone', 'system', 'purveyor', 'inter', 'tel', 'intl', 'fried', 'recent', 'move', 'buy', 'kmart', 'corporation', 'km', 'beleaguered', 'discount', 'retailer', 'declared', 'bankruptcy', 'think', 'k', 'mart', 'go', 'business', 'fried', 'say', 'take', 'recovery', 'possibility', 'bought', 'share', 'another', 'fried', 'pick', 'c', 'cor', 'net', 'corporation', 'ccbl', 'provides', 'range', 'technology', 'service', 'broadband', 'network', 'today', 'telecom', 'spending', 'slowdown', 'hit', 'company', 'hard', 'net', 'sale', 'fell', 'million', 'last', 'quarter', 'caused', 'net', 'loss', 'million', 'v', 'million', 'gain', 'last', 'year', 'fried', 'cite', 'buyback', 'plan', 'million', 'restructuring', 'charge', 'proof', 'management', 'see', 'rosier', 'future', 'david', 'fried', 'advice', 'see', 'buyback', 'index', 'portfolio', 'january', 'buyback', 'letter', 'david', 'fried', 'provides', 'wealth', 'building', 'opportunity', 'company', 'repurchasing', 'stock', 'free', 'day', 'trial', 'go', 'investools', 'c', 'go', 'back', 'mtxtu', 'back', 'rowe', 'january', 'index', 'confirms', 'bull', 'market', 'aloy', 'rowe', 'say', 'january', 'index', 'confirms', 'see', 'bull', 'market', 'first', 'five', 'trading', 'day', 'provided', 'gain', 'nasdaq', 'p', 'dow', 'industrials', 'rowe', 'say', 'five', 'day', 'index', 'correctly', 'predicted', 'market', 'direction', 'year', 'since', 'four', 'exception', 'include', 'three', 'war', 'year', 'fed', 'fund', 'rate', 'doubled', 'year', 'rowe', 'maintains', 'sure', 'recommendation', 'seven', 'company', 'say', 'leading', 'market', 'one', 'alloy', 'incorporated', 'aloy', 'medium', 'company', 'direct', 'marketer', 'provides', 'content', 'community', 'commerce', 'generation', 'roughly', 'million', 'people', 'year', 'age', 'rowe', 'like', 'market', 'account', 'billion', 'disposable', 'income', 'grow', 'faster', 'overall', 'population', 'q', 'saw', 'earnings', 'increase', 'sale', 'another', 'rowe', 'pick', 'new', 'century', 'financial', 'corporation', 'ncen', 'financier', 'make', 'buy', 'sell', 'service', 'sub', 'prime', 'mortgage', 'loan', 'secured', 'first', 'mortgage', 'single', 'family', 'home', 'borrower', 'typically', 'plenty', 'equity', 'property', 'secure', 'loan', 'suffer', 'weak', 'credit', 'profile', 'high', 'debt', 'income', 'ratio', 'q', 'earnings', 'grew', 'hike', 'sale', 'rowe', 'advice', 'see', 'investment', 'opportunity', 'february', 'wall', 'street', 'digest', 'momentum', 'investor', 'donald', 'rowe', 'target', 'stock', 'mutual', 'fund', 'capable', 'generating', 'annual', 'return', 'free', 'day', 'trial', 'go', 'investools', 'c', 'go', 'wall', 'mtxtu', 'wall', 'small', 'cap', 'advisor', 'earns', 'lbix', 'major', 'index', 'suffered', 'terrible', 'year', 'richard', 'geist', 'recommendation', 'earned', 'healthy', 'list', 'many', 'reason', 'selection', 'see', 'growth', 'going', 'forward', 'include', 'extremely', 'bullish', 'monetary', 'condition', 'high', 'productivity', 'inflation', 'sight', 'yield', 'curve', 'continues', 'steepen', 'also', 'investor', 'sentiment', 'poll', 'becoming', 'bearish', 'always', 'contrary', 'indicator', 'say', 'geist', 'latest', 'recommendation', 'buy', 'share', 'leading', 'brand', 'lbix', 'company', 'canada', 'largest', 'independent', 'food', 'brand', 'management', 'company', 'expanding', 'u', 'geist', 'particularly', 'like', 'firm', 'save', 'money', 'integrated', 'distribution', 'system', 'system', 'make', 'product', 'raw', 'material', 'provides', 'packaging', 'warehousing', 'distribution', 'recent', 'financial', 'result', 'show', 'leading', 'brand', 'roll', 'fy', 'saw', 'revenue', 'grow', 'million', 'net', 'income', 'million', 'per', 'share', 'last', 'year', 'loss', 'geist', 'predicts', 'company', 'see', 'revenue', 'reach', 'million', 'million', 'yield', 'forward', 'pe', 'think', 'lbix', 'significantly', 'undervalued', 'geist', 'say', 'range', 'leading', 'brand', 'strong', 'buy', 'richard', 'geist', 'advice', 'see', 'highlighted', 'stock', 'february', 'richard', 'geist', 'strategic', 'investing', 'richard', 'geist', 'integrates', 'psychological', 'aspect', 'investing', 'methodology', 'selecting', 'small', 'company', 'stock', 'free', 'day', 'trial', 'go', 'investools', 'c', 'go', 'stin', 'mtxtu', 'stin', 'compounding', 'return', 'pine', 'tree', 'pcl', 'growing', 'tree', 'usually', 'noisy', 'business', 'catch', 'attention', 'investment', 'medium', 'good', 'business', 'say', 'dick', 'young', 'timber', 'business', 'le', 'volatile', 'capital', 'intensive', 'manufacturing', 'young', 'see', 'demand', 'timber', 'increasing', 'population', 'increase', 'note', 'average', 'return', 'timber', 'investment', 'outperformed', 'p', 'average', 'annual', 'return', 'young', 'favorite', 'timber', 'play', 'plum', 'creek', 'timber', 'pcl', 'one', 'largest', 'private', 'timberland', 'owner', 'u', 'reit', 'primary', 'goal', 'profit', 'acquiring', 'managing', 'land', 'young', 'say', 'plum', 'creek', 'timber', 'yield', 'status', 'reit', 'make', 'ideal', 'tax', 'deferred', 'account', 'another', 'young', 'timber', 'selection', 'deltic', 'timber', 'corporation', 'del', 'company', 'grows', 'harvest', 'timber', 'acre', 'arkansas', 'louisiana', 'main', 'company', 'goal', 'expand', 'timber', 'holding', 'sustainable', 'harvest', 'level', 'young', 'say', 'share', 'good', 'portfolio', 'counterweight', 'value', 'investor', 'appreciate', 'intrinsic', 'worth', 'underlying', 'real', 'natural', 'resource', 'dick', 'young', 'advice', 'see', 'investment', 'commentary', 'february', 'richard', 'young', 'intelligence', 'report', 'richard', 'young', 'us', 'buy', 'hold', 'strategy', 'mentor', 'warren', 'buffett', 'uncover', 'low', 'risk', 'high', 'reward', 'opportunity', 'free', 'day', 'trial', 'go', 'investools', 'c', 'go', 'inte', 'mtxtu', 'inte', 'undervalued', 'high', 'yield', 'bank', 'put', 'customer', 'first', 'aso', 'amsouth', 'bancorp', 'aso', 'giving', 'investor', 'healthy', 'yield', 'risk', 'involved', 'say', 'jodie', 'wei', 'investment', 'quality', 'trend', 'billion', 'asset', 'amsouth', 'one', 'largest', 'financial', 'institution', 'south', 'office', 'credit', 'bank', 'success', 'putting', 'customer', 'first', 'wei', 'like', 'amsouth', 'us', 'new', 'technology', 'save', 'money', 'streamlining', 'operation', 'note', 'amsouth', 'ranked', 'number', 'six', 'eweek', 'fast', 'track', 'list', 'company', 'deploy', 'cutting', 'edge', 'technology', 'throughout', 'operation', 'number', 'merrill', 'lynch', 'financial', 'service', 'firm', 'placed', 'higher', 'also', 'amsouth', 'internet', 'banking', 'group', 'quadrupled', 'customer', 'base', 'last', 'year', 'wei', 'say', 'aso', 'share', 'undervalued', 'stock', 'selling', 'near', 'yield', 'wei', 'see', 'upside', 'potential', 'dividend', 'risen', 'annually', 'past', 'year', 'buyback', 'plan', 'million', 'share', 'authorized', 'september', 'stock', 'pe', 'reasonable', 'x', 'priced', 'yield', 'aso', 'undervalued', 'buy', 'considered', 'wei', 'say', 'jodie', 'wei', 'advice', 'see', 'investment', 'spotlight', 'january', 'income', 'digest', 'digest', 'excerpt', 'investment', 'publication', 'highlight', 'weather', 'income', 'oriented', 'opportunity', 'uncovered', 'top', 'mind', 'wall', 'street', 'free', 'day', 'trial', 'go', 'investools', 'c', 'go', 'indi', 'mtxtu', 'indi', 'word', 'sponsor', 'new', 'report', 'top', 'pick', 'despite', 'slumping', 'economy', 'shaky', 'stock', 'market', 'frank', 'curzio', 'bull', 'eye', 'pick', 'gained', 'whopping', 'curzio', 'selected', 'stock', 'incredible', 'potential', 'get', 'red', 'hot', 'pick', 'today', 'click', 'investools', 'c', 'go', 'fxcp', 'fxcp', 'mtxtu', 'disclaimer', 'investools', 'advisory', 'published', 'solely', 'informational', 'purpose', 'solicit', 'offer', 'buy', 'sell', 'stock', 'mutual', 'fund', 'security', 'attempt', 'claim', 'complete', 'description', 'security', 'market', 'development', 'referred', 'material', 'expression', 'opinion', 'change', 'without', 'notice', 'information', 'obtained', 'internal', 'external', 'source', 'investools', 'considers', 'reliable', 'investools', 'independently', 'verified', 'information', 'investools', 'guarantee', 'accurate', 'complete', 'investools', 'undertake', 'advise', 'anyone', 'investools', 'employee', 'officer', 'director', 'may', 'time', 'time', 'position', 'security', 'mentioned', 'may', 'sell', 'buy', 'security', 'remove', 'free', 'email', 'list', 'removed', 'email', 'distribution', 'list', 'free', 'investools', 'advisory', 'update', 'simply', 'click', 'link', 'hit', 'send', 'email', 'launched', 'copy', 'paste', 'email', 'address', 'new', 'outgoing', 'email', 'message', 'hit', 'send', 'email', 'launched', 'mailto', 'bonnie', 'investools', 'important', 'automated', 'system', 'cancel', 'paid', 'newsletter', 'service', 'subscription', 'investools', 'tried', 'unsubscribing', 'past', 'believe', 'received', 'message', 'error', 'please', 'send', 'email', 'mailto', 'itfeedback', 'investools', 'voice', 'concern', 'removed', 'list', 'paid', 'subscription', 'information', 'question', 'investools', 'service', 'paid', 'subscription', 'contact', 'investools', 'customer', 'service', 'center', 'investools', 'cgi', 'bin', 'help', 'pl', 'info', 'pr', 'faq', 'html']]\n"
          ]
        }
      ],
      "source": [
        "\n",
        "# Define stopwords to exclude\n",
        "stop = set(stopwords.words('english'))\n",
        "stop.update((\"to\",\"cc\",\"subject\",\"http\",\"from\",\"sent\", \"ect\", \"u\", \"fwd\", \"www\", \"com\"))\n",
        "\n",
        "# Define punctuations to exclude and lemmatizer\n",
        "exclude = set(string.punctuation)\n",
        "\n",
        "\n",
        "#define normalized\n",
        "normalized = \"\"\n",
        "\n",
        "# Define word cleaning function\n",
        "def clean(text, stop):\n",
        "    text = text.rstrip()\n",
        "    # Remove stopwords\n",
        "    stop_free = \" \".join([word for word in text.lower().split() if ((word not in stop) and (not word.isdigit()))])\n",
        "    # Remove punctuations\n",
        "    punc_free = ''.join(word for word in stop_free if word not in exclude)\n",
        "    # Lemmatize all words\n",
        "    normalized = \" \".join(lemma.lemmatize(word) for word in punc_free.split())\n",
        "    return normalized\n",
        "\n",
        "# Clean the emails in df and print results\n",
        "text_clean=[]\n",
        "for text in df['clean_content']:\n",
        "    text_clean.append(clean(text, stop).split())\n",
        "\n",
        "# we have a length of 2090 because this dataframe has 2090 emails\n",
        "print(f\"length of text_clean:\",len(text_clean))\n",
        "\n",
        "\n",
        "#print words from first email\n",
        "print(f\"words from first email:\", (text_clean[:1]))"
      ]
    },
    {
      "cell_type": "markdown",
      "id": "6a8e4935",
      "metadata": {
        "id": "6a8e4935"
      },
      "source": [
        "### Topic modeling\n",
        "I first need to define my dictionary and corpus first, as those need to go into the model. Using corpora from gensim, I do the following:\n",
        "\n",
        "- Use the `dictionary` function from gensim's `corpora` package to create a dictionary from our text data, in this case, from the cleaned emails. The dictionary contains the number of times a word appears for each word.\n",
        "\n",
        "- Create a corpus that tells us how many words each email contains and how many times those words appear. This is done with the `doc2bow()` function which converts our text data into a bag-of-words format. That means, each row in our data is now a list of words with their associated word count.\n"
      ]
    },
    {
      "cell_type": "code",
      "execution_count": null,
      "id": "a857afa1",
      "metadata": {
        "id": "a857afa1"
      },
      "outputs": [],
      "source": [
        "import gensim\n",
        "from gensim import corpora\n",
        "\n",
        "# Define the dictionary\n",
        "dictionary = corpora.Dictionary(text_clean)\n",
        "\n",
        "# Define the corpus.\n",
        "corpus = [dictionary.doc2bow(text) for text in text_clean]\n"
      ]
    },
    {
      "cell_type": "markdown",
      "id": "1ede5cc1",
      "metadata": {
        "id": "1ede5cc1"
      },
      "source": [
        "### LDA model\n",
        "Latent Dirichlet Allocation, or LDA, is an example of topic model and is commonly used. It creates a \"topic per text item\" model and \"words per topic\" model. This helps us to discover topics in text data. We can use it to compare topics of fraud cases to non-fraud cases. I pass my dictionary and corpus into the LDA model, picking the number of topics I want.\n",
        "\n",
        "Each of the topics is represented by a vector that details which words are likely to occur, given a text record on that topic."
      ]
    },
    {
      "cell_type": "code",
      "execution_count": null,
      "id": "b3e9544c",
      "metadata": {
        "id": "b3e9544c",
        "outputId": "567d5c17-f2b2-4ed5-9b56-a0483eb6a2c4",
        "scrolled": false
      },
      "outputs": [
        {
          "name": "stdout",
          "output_type": "stream",
          "text": [
            "(0, '0.022*\"enron\" + 0.012*\"company\" + 0.007*\"stock\" + 0.007*\"energy\" + 0.006*\"employee\"')\n",
            "(1, '0.037*\"image\" + 0.037*\"td\" + 0.027*\"net\" + 0.025*\"money\" + 0.024*\"tr\"')\n",
            "(2, '0.008*\"pm\" + 0.007*\"please\" + 0.007*\"market\" + 0.006*\"outage\" + 0.006*\"conference\"')\n",
            "(3, '0.008*\"bakernet\" + 0.007*\"enron\" + 0.006*\"mailto\" + 0.005*\"u\" + 0.004*\"e\"')\n",
            "(4, '0.044*\"enron\" + 0.010*\"hou\" + 0.009*\"message\" + 0.009*\"pm\" + 0.008*\"original\"')\n"
          ]
        }
      ],
      "source": [
        "ldamodel = gensim.models.ldamodel.LdaModel(corpus, num_topics = 5, id2word=dictionary,passes=5)\n",
        "\n",
        "topics = ldamodel.print_topics(num_words=5)\n",
        "\n",
        "for topic in topics:\n",
        "    print(topic)"
      ]
    },
    {
      "cell_type": "markdown",
      "id": "401902c5",
      "metadata": {
        "id": "401902c5"
      },
      "source": [
        "#### Findings from above:\n",
        "It seems like Topic 0 is most associated with fraud, based on the frequency of the words 'enron', 'company', 'stock' and 'employee'. Deciding which topic is suspicious often required some subject area expertise or research."
      ]
    },
    {
      "cell_type": "markdown",
      "id": "cdafafeb",
      "metadata": {
        "id": "cdafafeb"
      },
      "source": [
        "### Flagging fraud based on topics\n"
      ]
    },
    {
      "cell_type": "markdown",
      "id": "e4f78f5e",
      "metadata": {
        "id": "e4f78f5e"
      },
      "source": [
        "The function get_topic_details gets the details of the topics for each line of text. With this function, I can append the results back to my original data."
      ]
    },
    {
      "cell_type": "code",
      "execution_count": null,
      "id": "6cb754b4",
      "metadata": {
        "id": "6cb754b4"
      },
      "outputs": [],
      "source": [
        "def get_topic_details(ldamodel, corpus):\n",
        "    # Initialize an empty DataFrame\n",
        "    topic_details_df = pd.DataFrame(columns=['Dominant_Topic', '% Score', 'Topic_Keywords'])\n",
        "\n",
        "    # List to hold each new row before concatenation\n",
        "    rows_list = []\n",
        "\n",
        "    # Iterate over each document in the corpus\n",
        "    for i, row_list in enumerate(ldamodel[corpus]):\n",
        "        # Sort the topics in the document by their contribution in descending order\n",
        "        row = sorted(row_list, key=lambda x: x[1], reverse=True)\n",
        "        # Get the dominant topic, percentage contribution and keywords for the first topic\n",
        "        topic_num, prop_topic = row[0]\n",
        "        wp = ldamodel.show_topic(topic_num)\n",
        "        topic_keywords = \", \".join([word for word, prop in wp])\n",
        "        # Create a dictionary for the new row and add to list\n",
        "        new_row = {'Dominant_Topic': int(topic_num),\n",
        "                   '% Score': round(prop_topic, 4),\n",
        "                   'Topic_Keywords': topic_keywords}\n",
        "        rows_list.append(new_row)\n",
        "\n",
        "    # Concatenate all rows into the DataFrame\n",
        "    topic_details_df = pd.concat([topic_details_df, pd.DataFrame(rows_list)], ignore_index=True)\n",
        "\n",
        "    # Return the DataFrame after all documents have been processed\n",
        "    return topic_details_df\n",
        "\n"
      ]
    },
    {
      "cell_type": "code",
      "execution_count": null,
      "id": "a88a7423",
      "metadata": {
        "id": "a88a7423",
        "outputId": "3a793e28-e805-4c90-a67a-f61a9355b9e4"
      },
      "outputs": [
        {
          "name": "stdout",
          "output_type": "stream",
          "text": [
            "     Dominant_Topic  % Score   \n",
            "0                 3   0.5921  \\\n",
            "1                 3   0.7847   \n",
            "2                 4   0.8974   \n",
            "3                 0   0.9935   \n",
            "4                 0   0.9934   \n",
            "...             ...      ...   \n",
            "2085              3   0.9087   \n",
            "2086              2   0.5992   \n",
            "2087              1   0.9993   \n",
            "2088              2   0.9981   \n",
            "2089              4   0.9884   \n",
            "\n",
            "                                         Topic_Keywords  \n",
            "0     bakernet, enron, mailto, u, e, see, email, dat...  \n",
            "1     bakernet, enron, mailto, u, e, see, email, dat...  \n",
            "2     enron, hou, message, pm, original, please, e, ...  \n",
            "3     enron, company, stock, energy, employee, said,...  \n",
            "4     enron, company, stock, energy, employee, said,...  \n",
            "...                                                 ...  \n",
            "2085  bakernet, enron, mailto, u, e, see, email, dat...  \n",
            "2086  pm, please, market, outage, conference, schedu...  \n",
            "2087  image, td, net, money, tr, width, class, heigh...  \n",
            "2088  pm, please, market, outage, conference, schedu...  \n",
            "2089  enron, hou, message, pm, original, please, e, ...  \n",
            "\n",
            "[2090 rows x 3 columns]\n"
          ]
        }
      ],
      "source": [
        "print(get_topic_details(ldamodel, corpus))"
      ]
    },
    {
      "cell_type": "markdown",
      "id": "50982e01",
      "metadata": {
        "id": "50982e01"
      },
      "source": [
        "#### Findings from above:\n",
        "The '% Score' column shows how much of the document is made up of the dominant topic compared to other topics. As you can see the % Score is very high for topic 0, at 99.35%."
      ]
    },
    {
      "cell_type": "markdown",
      "id": "ef28eb1f",
      "metadata": {
        "id": "ef28eb1f"
      },
      "source": [
        "### Visualize topics\n",
        "Interpretation of topics can be difficult, so this visualization tool called pyLDAvis is very helpful. Each bubble on the left side represents a topic. The larger the bubble, the more prevalent that topic is. You can click on each topic to get the details per topic in the right panel. The words are the most important keywords that form the selected topic."
      ]
    },
    {
      "cell_type": "code",
      "execution_count": null,
      "id": "7eeae455",
      "metadata": {
        "id": "7eeae455"
      },
      "outputs": [],
      "source": [
        "# first install the package\n",
        "!pip install pyLDAvis\n",
        "import pyLDAvis.gensim"
      ]
    },
    {
      "cell_type": "code",
      "execution_count": null,
      "id": "fb9c407c",
      "metadata": {
        "id": "fb9c407c",
        "outputId": "23908c8b-7927-450d-dcce-21be9b454caa"
      },
      "outputs": [
        {
          "data": {
            "text/html": [
              "\n",
              "<link rel=\"stylesheet\" type=\"text/css\" href=\"https://cdn.jsdelivr.net/gh/bmabey/pyLDAvis@3.4.0/pyLDAvis/js/ldavis.v1.0.0.css\">\n",
              "\n",
              "\n",
              "<div id=\"ldavis_el3293111935864487508181479\" style=\"background-color:white;\"></div>\n",
              "<script type=\"text/javascript\">\n",
              "\n",
              "var ldavis_el3293111935864487508181479_data = {\"mdsDat\": {\"x\": [-0.04596639344036346, 0.3285967783588626, -0.08922856618966843, -0.06549241900447506, -0.12790939972435614], \"y\": [0.12277857086883272, -0.01929524901455188, -0.190614367262068, 0.09806109999785673, -0.010930054590069585], \"topics\": [1, 2, 3, 4, 5], \"cluster\": [1, 1, 1, 1, 1], \"Freq\": [45.738231205326855, 3.4129543266259903, 4.66874614077781, 22.815758223864595, 23.364310103404744]}, \"tinfo\": {\"Term\": [\"enron\", \"image\", \"net\", \"money\", \"td\", \"hou\", \"pm\", \"tr\", \"message\", \"bakernet\", \"width\", \"please\", \"original\", \"class\", \"market\", \"thanks\", \"development\", \"click\", \"e\", \"gas\", \"right\", \"table\", \"height\", \"f\", \"stock\", \"company\", \"corp\", \"time\", \"br\", \"system\", \"aaaaaaaaaaaaaaaaaaaaaaaaaaaaaaaaaaaaaaaaaaaaaaaaaaaaaaaaaaaaaaaaaaaaaaaaaaaa\", \"div\", \"declared\", \"donate\", \"aggressively\", \"gt\", \"underhanded\", \"wiped\", \"devastated\", \"netted\", \"astronomical\", \"pocketbook\", \"afford\", \"urging\", \"repair\", \"financially\", \"hurt\", \"bankrupt\", \"crisis\", \"fx\", \"scientech\", \"relief\", \"retirement\", \"urge\", \"collapse\", \"profit\", \"edgar\", \"tyco\", \"dealing\", \"issuealert\", \"mr\", \"writing\", \"buying\", \"stock\", \"million\", \"lay\", \"company\", \"said\", \"california\", \"partnership\", \"consumer\", \"fund\", \"lost\", \"employee\", \"reported\", \"sold\", \"energy\", \"share\", \"bankruptcy\", \"ken\", \"investor\", \"worth\", \"year\", \"york\", \"made\", \"executive\", \"plan\", \"say\", \"state\", \"enron\", \"new\", \"pay\", \"last\", \"time\", \"one\", \"financial\", \"market\", \"power\", \"business\", \"would\", \"e\", \"price\", \"bill\", \"may\", \"td\", \"width\", \"img\", \"align\", \"bodydefault\", \"nbsp\", \"scoop\", \"href\", \"cellpadding\", \"cellspacing\", \"height\", \"script\", \"src\", \"coords\", \"rect\", \"stocklookup\", \"bgcolor\", \"valign\", \"colspan\", \"linkbarseperator\", \"ctr\", \"syncrasy\", \"tr\", \"ffffff\", \"ecar\", \"npcc\", \"std\", \"br\", \"underscore\", \"frcc\", \"font\", \"table\", \"mapp\", \"hp\", \"rk\", \"gif\", \"sp\", \"wscc\", \"image\", \"class\", \"sw\", \"border\", \"net\", \"money\", \"ne\", \"se\", \"clear\", \"click\", \"center\", \"right\", \"ancillary\", \"backout\", \"pager\", \"sfs\", \"pt\", \"agave\", \"detected\", \"raquel\", \"hanagriff\", \"locate\", \"interchange\", \"assign\", \"lokay\", \"brochure\", \"emailed\", \"hourahead\", \"pep\", \"wyndham\", \"revert\", \"impacted\", \"amazon\", \"euci\", \"parsing\", \"westdesk\", \"srrs\", \"itcapps\", \"emaillink\", \"audrey\", \"bwoertz\", \"asarco\", \"simulation\", \"server\", \"fri\", \"gift\", \"socal\", \"kowalke\", \"devon\", \"thru\", \"scheduled\", \"sat\", \"variance\", \"blair\", \"certificate\", \"outage\", \"exotica\", \"schedule\", \"darrell\", \"conference\", \"lynn\", \"preferred\", \"london\", \"hour\", \"feedback\", \"ct\", \"system\", \"id\", \"pdf\", \"log\", \"pm\", \"market\", \"please\", \"kim\", \"message\", \"gas\", \"management\", \"thanks\", \"file\", \"january\", \"data\", \"contact\", \"request\", \"time\", \"service\", \"e\", \"enron\", \"also\", \"adult\", \"enform\", \"cherry\", \"sample\", \"stsw\", \"stwbom\", \"dbcaps\", \"beth\", \"bakernet\", \"engine\", \"borland\", \"initialize\", \"siege\", \"enemy\", \"tower\", \"weapon\", \"alias\", \"archer\", \"monk\", \"labour\", \"implemented\", \"digital\", \"sight\", \"perimeter\", \"disregard\", \"solidarity\", \"devil\", \"soldier\", \"blood\", \"suck\", \"attempting\", \"venturewire\", \"error\", \"skadden\", \"discrimination\", \"attack\", \"matt\", \"alert\", \"database\", \"army\", \"mailto\", \"membership\", \"pv\", \"enter\", \"build\", \"win\", \"material\", \"date\", \"union\", \"mw\", \"u\", \"email\", \"see\", \"receive\", \"june\", \"available\", \"wolfe\", \"resource\", \"offer\", \"make\", \"team\", \"intended\", \"j\", \"option\", \"e\", \"may\", \"mail\", \"enron\", \"use\", \"click\", \"business\", \"new\", \"message\", \"also\", \"know\", \"get\", \"one\", \"please\", \"information\", \"whalley\", \"enronxgate\", \"barry\", \"laurel\", \"savita\", \"bergfelt\", \"pseg\", \"eei\", \"bradford\", \"kern\", \"wj\", \"neumin\", \"breese\", \"reliantenergy\", \"tagline\", \"greg\", \"gossett\", \"tycholiz\", \"pdx\", \"fran\", \"eix\", \"gregwhalley\", \"pcg\", \"bolt\", \"epenergy\", \"stephanie\", \"powersrc\", \"apse\", \"lavorato\", \"coral\", \"hou\", \"jerry\", \"ref\", \"williams\", \"eol\", \"harrison\", \"origination\", \"iii\", \"na\", \"stacey\", \"development\", \"forwarded\", \"attached\", \"curve\", \"original\", \"fw\", \"ben\", \"pm\", \"doc\", \"thanks\", \"message\", \"ee\", \"enron\", \"mike\", \"mark\", \"john\", \"let\", \"corp\", \"know\", \"desk\", \"please\", \"mail\", \"team\", \"credit\", \"friday\", \"e\", \"report\", \"like\", \"would\", \"question\", \"time\", \"call\", \"gas\", \"may\", \"bill\"], \"Freq\": [9720.0, 846.0, 746.0, 690.0, 557.0, 1107.0, 1253.0, 374.0, 1403.0, 835.0, 326.0, 1434.0, 1074.0, 318.0, 1105.0, 793.0, 752.0, 404.0, 1902.0, 863.0, 513.0, 222.0, 208.0, 446.0, 1433.0, 2830.0, 1116.0, 1399.0, 193.0, 387.0, 423.5706456619904, 284.8130931667425, 297.87019360867083, 294.90429933868023, 152.03987263871332, 141.60907371221373, 144.45062695909067, 148.1985954672005, 147.25275500351688, 150.0841051866707, 145.3664929844173, 145.33805840936418, 150.0360167838008, 153.8319561479635, 149.03574038912458, 149.92444134502261, 165.7855388257689, 158.93391117804345, 222.24877626328131, 101.23658497198878, 153.51209950399038, 164.27346358949964, 352.7011289253983, 169.2119227516945, 96.05470398363109, 304.68372433297867, 65.64319129669413, 65.98886122169934, 171.17541302961965, 60.12502649667557, 704.0293110272305, 171.03597899519207, 224.24596721366507, 1375.1431623340002, 1040.0861162749559, 518.9189814350466, 2523.6720476930473, 1140.1419669786778, 687.4975266722358, 246.15603565634578, 520.1863241981425, 699.6102559856942, 234.04676221930978, 1230.2368063650665, 260.368738857048, 216.75720055328765, 1372.2346779294744, 480.35295217980143, 387.4396457414114, 269.20099510862974, 358.4777556668259, 220.6322489253493, 922.0105265868361, 413.2315567621814, 650.5902240622565, 350.6304947236991, 571.0050575166322, 465.04877976372757, 555.0845166104855, 4427.650064801666, 979.3235334744277, 437.04809352181877, 541.0806941037454, 787.7471885679694, 605.8763552172259, 424.9677601111494, 642.5239733988983, 591.072368017217, 537.0277738880689, 585.2579382194144, 670.8291999345139, 444.16574137129186, 446.27091082785097, 452.1946121468167, 553.8165145153337, 323.9669513139554, 161.72922138903394, 165.9968393496943, 85.52494954202417, 121.46120875862982, 102.31577256476275, 145.92661062022225, 71.15265761630414, 71.23349354848695, 203.93906467784205, 165.7640290582046, 171.69152026173342, 34.86777940814411, 34.86777940814411, 34.86761099995206, 39.953559450811376, 44.826261028490514, 36.694987240835765, 28.535441927941047, 56.77369251597422, 56.77369251597422, 359.1299643167748, 22.68769726610274, 31.559305745762416, 31.559305745762416, 31.559305745762416, 182.83556748606242, 19.037188319924525, 28.407507838048943, 71.42630689436537, 196.47587320504786, 31.758223888602554, 64.43031483135101, 63.10446520339284, 154.93517179930856, 98.70469394079966, 91.85648708331502, 561.8795057981212, 233.90963209935612, 64.46013009835143, 119.51325926924808, 401.3829060687311, 376.4973678700281, 98.79564138151332, 105.97508610173145, 119.73879994044773, 103.25980573630916, 87.94967665710845, 78.107901913851, 47.63409291970787, 31.4566024646959, 46.63294618304761, 48.03367619411095, 64.3164786506434, 24.26262049440605, 24.8325483609917, 24.486121430343434, 36.046837886831334, 19.374319831644964, 18.91468219939635, 19.52120949611051, 19.04462739439087, 31.48701180007855, 18.54318652489748, 49.92056681558869, 35.76661941287557, 18.53693283739691, 18.697254971465078, 32.06059924971807, 110.90856708872377, 42.491546023903766, 23.56630862708944, 23.564427241440768, 13.768635302356802, 12.998605033975855, 12.998467049696774, 13.2830362279651, 12.178485272425549, 12.167582114651633, 46.75189103134121, 48.681285610228784, 91.7565603283528, 76.7990788744348, 19.955727990250075, 24.23571715957533, 73.46081441188144, 97.75644314557005, 116.67913203274293, 82.57316181763885, 32.44987569840552, 44.07200595785371, 38.60247951570856, 131.0546173950406, 39.309870920703645, 125.07534342980145, 48.385802475416874, 130.18881523820843, 61.16449536457472, 43.36728784828289, 75.505151095106, 80.55848575510002, 48.85166619831024, 63.60863129759571, 113.04255755745146, 72.93966578774554, 58.359286969510244, 46.60882893079101, 155.362667113573, 137.37111053999186, 141.4231736775428, 71.48795598494695, 123.86425901190573, 106.0631063450955, 82.72621637972104, 93.35578612425763, 74.52377330611638, 73.92004049101942, 72.04613239040816, 77.16485960005316, 76.31695940360251, 96.13441994703459, 84.77707072037136, 91.46355371138455, 80.38906985710882, 73.46154392876562, 176.3471831476238, 141.22932833977654, 141.01576327861352, 121.57374345081475, 110.33439982370324, 110.33439982370324, 86.82454080266162, 244.90263496125837, 825.7418094065104, 77.34347054893439, 63.032365681465805, 63.01870342808846, 57.83874508267323, 56.20203058257899, 61.31100384671259, 59.19697243173578, 50.07879625494881, 56.74001259335944, 59.49893168588744, 69.68845720895291, 46.111720578084956, 46.872819500136444, 33.38171956219954, 32.68196005327271, 32.62994967238984, 31.255307096576264, 31.22427091326025, 30.509178016959268, 34.715495582256274, 29.821538627230282, 67.73323629632466, 34.76888684754703, 239.49749570749537, 64.20538447465842, 41.73627252505564, 190.55847147464493, 127.1463948309658, 249.6999974394553, 178.25961716630593, 147.46678614199502, 581.5667334148063, 101.18016233435374, 87.98539843125997, 90.66076082394795, 168.37627270959456, 87.41637437353545, 195.48858649209643, 339.299283266776, 129.58126638244408, 147.76042490793105, 512.8516736454071, 352.8183703014383, 357.4061667128084, 199.75940689785588, 196.07813911165533, 260.25886703032586, 148.6255563190044, 160.11107850654278, 223.08489586184, 270.3274200429072, 297.53343460179104, 202.07671270675226, 245.07999798278544, 230.07760068530715, 397.95158328811607, 305.2301500645277, 278.3668059294088, 691.986730480914, 211.57799488639867, 196.59322365486557, 241.66344954893415, 275.85604730359165, 268.32227033735694, 234.04338343218402, 236.7235305453681, 221.97284707320435, 218.00926905047766, 224.05797666547858, 205.80290761114048, 216.15229488611726, 253.65890943153425, 190.34208716417183, 96.4090010615441, 94.04947937307618, 91.68881680958839, 93.6366987816756, 93.23871353790118, 88.94720406775446, 79.1239098703309, 351.6894241496123, 76.44224710848859, 77.48933019251675, 96.26413995704715, 76.43462125967154, 441.04686285609137, 72.85612264931288, 123.24660276651684, 86.48887059335485, 63.8145380016898, 61.1858598776125, 61.1858598776125, 61.76790428972457, 62.211944856669646, 61.81272866879482, 71.99891119161832, 62.60044282396304, 62.16860361512523, 63.40701744459137, 68.7749244821716, 1074.8240726061126, 83.53118212736246, 104.35580204009763, 279.2800561488707, 145.5843472042927, 93.08849632541617, 103.931672744552, 118.35926231033372, 291.21476174096676, 114.86311686259374, 673.0258083494653, 348.60123159055723, 271.5821520674158, 96.51696987066161, 861.1928953481201, 210.86492762033464, 138.5087844415728, 906.9506783135765, 279.88323076727187, 587.7216463951675, 943.3211014313079, 197.0105016553261, 4519.49909994428, 175.4131730962367, 408.92870911242846, 360.2787959623848, 439.11525336455077, 691.1297415700732, 598.6411893853702, 256.3017524196741, 729.9083476981727, 508.02285560692815, 442.96002619994226, 282.0980654847985, 261.74598399608374, 695.235834831069, 336.9625290246697, 339.90192746271197, 371.1059400851887, 300.90129504653447, 364.2659019634134, 282.48396946257304, 286.97166740390026, 285.23323807625087, 283.89947111354485], \"Total\": [9720.0, 846.0, 746.0, 690.0, 557.0, 1107.0, 1253.0, 374.0, 1403.0, 835.0, 326.0, 1434.0, 1074.0, 318.0, 1105.0, 793.0, 752.0, 404.0, 1902.0, 863.0, 513.0, 222.0, 208.0, 446.0, 1433.0, 2830.0, 1116.0, 1399.0, 193.0, 387.0, 424.55342192536386, 285.54116436014095, 298.75824735429535, 295.8247998828637, 152.83269151764114, 142.35638266990162, 145.22637195604182, 148.99930015932148, 148.0494742235519, 150.89621605324277, 146.15809487380974, 146.13820343998873, 150.8659372866841, 154.6986313677305, 149.89772072326465, 150.80209466659537, 166.89873537885163, 160.0244010151735, 223.89585038666021, 102.14562686564831, 154.92397854578013, 165.80157086891526, 356.0091666943408, 171.2529422352671, 97.21634627250786, 308.55168244406127, 66.52483448234956, 66.87793764914507, 173.6442941627743, 61.04825757221987, 717.9682506252141, 173.7620033275292, 229.2857632701636, 1433.1457630243203, 1090.717228849483, 537.4777013686898, 2830.3583806186493, 1240.167481777811, 736.781551460702, 253.00965177918818, 557.7760753820564, 763.5067851576624, 241.84341669155853, 1418.7744091513953, 272.83130609568707, 224.66379612955302, 1683.449881707106, 535.0220156394782, 424.2189220971222, 284.92653557383284, 391.16771745760303, 229.60990201419085, 1146.783721699985, 467.90677155431354, 800.7198723600667, 393.598888824339, 702.9979433162961, 553.9526614274491, 696.5668817632469, 9720.008243035638, 1468.7777141078534, 525.9407897866822, 760.4748954229782, 1399.512897426198, 970.3756903735419, 540.0633828637573, 1105.313295509496, 965.0800124826012, 867.790230305252, 1206.1875293943217, 1902.847045795811, 725.6417235247616, 780.0628529269798, 1065.7858095428485, 557.9066585287901, 326.62626869123187, 163.477567348041, 168.27789696729866, 86.74399872100362, 123.50095069497979, 104.12259901632991, 148.58717498520494, 72.58512047953134, 72.67736429921199, 208.45551419077123, 169.88999420450236, 176.0085485042218, 36.056876020287746, 36.056876020287746, 36.05846429019627, 41.3267348166515, 46.39347935653252, 38.00439231102834, 29.722770734766616, 59.137958090644155, 59.137958090644155, 374.5190676341508, 23.89543082598627, 33.39197318751556, 33.39197318751556, 33.39197318751556, 193.79986316621628, 20.21923050108748, 30.17372650623364, 76.75006439914186, 222.4555538352928, 33.85335167297233, 70.97052727546199, 70.19504899662381, 184.64827560058967, 114.38749310857405, 107.23837584024838, 846.0413778391344, 318.87938714470243, 73.75183192202189, 154.8938557706323, 746.5478900490837, 690.6467969381014, 138.25330319092768, 175.0539793239033, 218.8816111384788, 404.9259971082777, 250.50366951047937, 513.4376038972094, 49.1742877214291, 32.776071592355024, 48.59232167386057, 50.235681777774424, 67.3826021851437, 25.41951966666378, 26.01795523821815, 25.727339492975567, 37.9756757680566, 20.53798058708444, 20.052004031478607, 20.725983003666542, 20.24106502312893, 33.48310721520297, 19.739630220503976, 53.14625352769463, 38.128111625427955, 19.774755681384143, 19.981360346837125, 34.33875693075795, 119.37382289476501, 45.86244607617621, 25.552727803578662, 25.55844520573015, 14.95886974279782, 14.141375187176454, 14.14244213212705, 14.495947456720241, 13.310842499230148, 13.30515816294146, 51.52146861655318, 54.07002374496064, 104.1945702878887, 87.8735128260732, 21.969974453865625, 26.8646003735249, 89.33954867591295, 126.31679082261954, 154.34287103090838, 106.23214184322066, 37.184956668649406, 53.03434157376448, 45.739323473950655, 196.30486619847176, 48.25355026099366, 209.91199468128875, 66.25009829443206, 272.8383676917035, 97.00686507362691, 62.107895198642154, 147.7204897543512, 165.73255913231827, 75.41765850713116, 126.1598067109582, 387.8251349502041, 185.43937350631225, 115.908956191621, 71.23048319935012, 1253.4647590290256, 1105.313295509496, 1434.2933076113427, 235.28225391496193, 1403.6498925483934, 863.3916498937687, 410.33587238418085, 793.4077144676058, 317.04518540751866, 307.9354243377162, 281.6532029111354, 405.25935155396326, 417.190547612872, 1399.512897426198, 775.9177181204334, 1902.847045795811, 9720.008243035638, 850.7563564112857, 177.23836763097995, 142.0741609201497, 141.92007084026312, 122.62978536428537, 111.36892256780966, 111.36892256780966, 87.66144335237568, 247.6632891679048, 835.339343903066, 78.24639251321199, 63.873848852024096, 63.865069622886494, 58.685878345276926, 57.04323482015945, 62.23231849557098, 60.0941663793119, 50.914527042920525, 57.76307282448948, 60.699653211012205, 71.14948006873468, 47.082340542552714, 47.983777599898886, 34.249469899347964, 33.53343550454083, 33.494438554688934, 32.102260877524365, 32.07420180866458, 31.361760514778897, 35.69406515127227, 30.66236750374208, 69.88321876592454, 35.76303008477967, 253.32041348494553, 66.66266440061945, 43.03299922586976, 203.9921900312683, 134.62968396715425, 273.37332992905726, 194.9928930455775, 160.91668174184275, 715.7421036015058, 110.22839296294933, 95.08249297184751, 99.28597055657349, 205.95728826032243, 96.53774182898039, 264.3763224633251, 530.2972275233728, 160.18664382186657, 189.8340248300936, 948.756658676185, 618.3493168005242, 657.4212279976261, 312.1639002591663, 318.81249275009804, 505.3988447887365, 213.6782947390319, 240.41951290279388, 426.4254377362394, 613.3094828050173, 769.546415605377, 380.36153227999466, 556.6318947898636, 549.3957318235869, 1902.847045795811, 1065.7858095428485, 921.0048015363992, 9720.008243035638, 489.1743814715952, 404.9259971082777, 867.790230305252, 1468.7777141078534, 1403.6498925483934, 850.7563564112857, 992.1882890497013, 718.3457310062659, 970.3756903735419, 1434.2933076113427, 748.7029189858874, 217.31324095415312, 255.40040028495153, 192.31822496674027, 97.43337661023402, 95.07044372993904, 92.69981510135369, 94.67100365935744, 94.28723378458223, 90.02692306611748, 80.140942827494, 356.2953125006166, 77.44999731480965, 78.52342659688846, 97.5559596110325, 77.46177629883586, 447.2214317327034, 73.89575393164127, 125.01089343439847, 87.81899109893199, 64.82659600743672, 62.195592036811775, 62.195592036811775, 62.793394664124776, 63.25135104740995, 62.85904011227202, 73.2199434144569, 63.66511876530766, 63.256590490566865, 64.52086391157562, 70.04936000919352, 1107.8759535445377, 85.10649553322074, 106.69580635985595, 290.0747309226322, 150.0803085217276, 95.37517109441237, 106.76817931145935, 122.57032823528397, 313.6364330797178, 119.142095599889, 752.9861782077118, 385.8807934775865, 297.5536849036217, 99.48938659317058, 1074.6154484691651, 233.59667616492132, 147.84733447889172, 1253.4647590290256, 329.7821976821686, 793.4077144676058, 1403.6498925483934, 227.11055941715816, 9720.008243035638, 200.96792067664362, 567.0964946014026, 489.2019964495362, 626.7504922071055, 1116.0827418942422, 992.1882890497013, 334.6680607002078, 1434.2933076113427, 921.0048015363992, 769.546415605377, 405.29158587905476, 368.6167095887189, 1902.847045795811, 670.0950770707577, 749.8265410340432, 1206.1875293943217, 641.2922620137217, 1399.512897426198, 561.5812983054195, 863.3916498937687, 1065.7858095428485, 780.0628529269798], \"Category\": [\"Default\", \"Default\", \"Default\", \"Default\", \"Default\", \"Default\", \"Default\", \"Default\", \"Default\", \"Default\", \"Default\", \"Default\", \"Default\", \"Default\", \"Default\", \"Default\", \"Default\", \"Default\", \"Default\", \"Default\", \"Default\", \"Default\", \"Default\", \"Default\", \"Default\", \"Default\", \"Default\", \"Default\", \"Default\", \"Default\", \"Topic1\", \"Topic1\", \"Topic1\", \"Topic1\", \"Topic1\", \"Topic1\", \"Topic1\", \"Topic1\", \"Topic1\", \"Topic1\", \"Topic1\", \"Topic1\", \"Topic1\", \"Topic1\", \"Topic1\", \"Topic1\", \"Topic1\", \"Topic1\", \"Topic1\", \"Topic1\", \"Topic1\", \"Topic1\", \"Topic1\", \"Topic1\", \"Topic1\", \"Topic1\", \"Topic1\", \"Topic1\", \"Topic1\", \"Topic1\", \"Topic1\", \"Topic1\", \"Topic1\", \"Topic1\", \"Topic1\", \"Topic1\", \"Topic1\", \"Topic1\", \"Topic1\", \"Topic1\", \"Topic1\", \"Topic1\", \"Topic1\", \"Topic1\", \"Topic1\", \"Topic1\", \"Topic1\", \"Topic1\", \"Topic1\", \"Topic1\", \"Topic1\", \"Topic1\", \"Topic1\", \"Topic1\", \"Topic1\", \"Topic1\", \"Topic1\", \"Topic1\", \"Topic1\", \"Topic1\", \"Topic1\", \"Topic1\", \"Topic1\", \"Topic1\", \"Topic1\", \"Topic1\", \"Topic1\", \"Topic1\", \"Topic1\", \"Topic1\", \"Topic1\", \"Topic1\", \"Topic1\", \"Topic1\", \"Topic2\", \"Topic2\", \"Topic2\", \"Topic2\", \"Topic2\", \"Topic2\", \"Topic2\", \"Topic2\", \"Topic2\", \"Topic2\", \"Topic2\", \"Topic2\", \"Topic2\", \"Topic2\", \"Topic2\", \"Topic2\", \"Topic2\", \"Topic2\", \"Topic2\", \"Topic2\", \"Topic2\", \"Topic2\", \"Topic2\", \"Topic2\", \"Topic2\", \"Topic2\", \"Topic2\", \"Topic2\", \"Topic2\", \"Topic2\", \"Topic2\", \"Topic2\", \"Topic2\", \"Topic2\", \"Topic2\", \"Topic2\", \"Topic2\", \"Topic2\", \"Topic2\", \"Topic2\", \"Topic2\", \"Topic2\", \"Topic2\", \"Topic2\", \"Topic2\", \"Topic2\", \"Topic2\", \"Topic2\", \"Topic2\", \"Topic2\", \"Topic3\", \"Topic3\", \"Topic3\", \"Topic3\", \"Topic3\", \"Topic3\", \"Topic3\", \"Topic3\", \"Topic3\", \"Topic3\", \"Topic3\", \"Topic3\", \"Topic3\", \"Topic3\", \"Topic3\", \"Topic3\", \"Topic3\", \"Topic3\", \"Topic3\", \"Topic3\", \"Topic3\", \"Topic3\", \"Topic3\", \"Topic3\", \"Topic3\", \"Topic3\", \"Topic3\", \"Topic3\", \"Topic3\", \"Topic3\", \"Topic3\", \"Topic3\", \"Topic3\", \"Topic3\", \"Topic3\", \"Topic3\", \"Topic3\", \"Topic3\", \"Topic3\", \"Topic3\", \"Topic3\", \"Topic3\", \"Topic3\", \"Topic3\", \"Topic3\", \"Topic3\", \"Topic3\", \"Topic3\", \"Topic3\", \"Topic3\", \"Topic3\", \"Topic3\", \"Topic3\", \"Topic3\", \"Topic3\", \"Topic3\", \"Topic3\", \"Topic3\", \"Topic3\", \"Topic3\", \"Topic3\", \"Topic3\", \"Topic3\", \"Topic3\", \"Topic3\", \"Topic3\", \"Topic3\", \"Topic3\", \"Topic3\", \"Topic3\", \"Topic3\", \"Topic3\", \"Topic3\", \"Topic3\", \"Topic3\", \"Topic3\", \"Topic4\", \"Topic4\", \"Topic4\", \"Topic4\", \"Topic4\", \"Topic4\", \"Topic4\", \"Topic4\", \"Topic4\", \"Topic4\", \"Topic4\", \"Topic4\", \"Topic4\", \"Topic4\", \"Topic4\", \"Topic4\", \"Topic4\", \"Topic4\", \"Topic4\", \"Topic4\", \"Topic4\", \"Topic4\", \"Topic4\", \"Topic4\", \"Topic4\", \"Topic4\", \"Topic4\", \"Topic4\", \"Topic4\", \"Topic4\", \"Topic4\", \"Topic4\", \"Topic4\", \"Topic4\", \"Topic4\", \"Topic4\", \"Topic4\", \"Topic4\", \"Topic4\", \"Topic4\", \"Topic4\", \"Topic4\", \"Topic4\", \"Topic4\", \"Topic4\", \"Topic4\", \"Topic4\", \"Topic4\", \"Topic4\", \"Topic4\", \"Topic4\", \"Topic4\", \"Topic4\", \"Topic4\", \"Topic4\", \"Topic4\", \"Topic4\", \"Topic4\", \"Topic4\", \"Topic4\", \"Topic4\", \"Topic4\", \"Topic4\", \"Topic4\", \"Topic4\", \"Topic4\", \"Topic4\", \"Topic4\", \"Topic4\", \"Topic4\", \"Topic4\", \"Topic4\", \"Topic4\", \"Topic4\", \"Topic4\", \"Topic4\", \"Topic4\", \"Topic4\", \"Topic4\", \"Topic5\", \"Topic5\", \"Topic5\", \"Topic5\", \"Topic5\", \"Topic5\", \"Topic5\", \"Topic5\", \"Topic5\", \"Topic5\", \"Topic5\", \"Topic5\", \"Topic5\", \"Topic5\", \"Topic5\", \"Topic5\", \"Topic5\", \"Topic5\", \"Topic5\", \"Topic5\", \"Topic5\", \"Topic5\", \"Topic5\", \"Topic5\", \"Topic5\", \"Topic5\", \"Topic5\", \"Topic5\", \"Topic5\", \"Topic5\", \"Topic5\", \"Topic5\", \"Topic5\", \"Topic5\", \"Topic5\", \"Topic5\", \"Topic5\", \"Topic5\", \"Topic5\", \"Topic5\", \"Topic5\", \"Topic5\", \"Topic5\", \"Topic5\", \"Topic5\", \"Topic5\", \"Topic5\", \"Topic5\", \"Topic5\", \"Topic5\", \"Topic5\", \"Topic5\", \"Topic5\", \"Topic5\", \"Topic5\", \"Topic5\", \"Topic5\", \"Topic5\", \"Topic5\", \"Topic5\", \"Topic5\", \"Topic5\", \"Topic5\", \"Topic5\", \"Topic5\", \"Topic5\", \"Topic5\", \"Topic5\", \"Topic5\", \"Topic5\", \"Topic5\", \"Topic5\", \"Topic5\", \"Topic5\", \"Topic5\"], \"logprob\": [30.0, 29.0, 28.0, 27.0, 26.0, 25.0, 24.0, 23.0, 22.0, 21.0, 20.0, 19.0, 18.0, 17.0, 16.0, 15.0, 14.0, 13.0, 12.0, 11.0, 10.0, 9.0, 8.0, 7.0, 6.0, 5.0, 4.0, 3.0, 2.0, 1.0, -6.167, -6.5639, -6.5191, -6.5291, -7.1916, -7.2627, -7.2428, -7.2172, -7.2236, -7.2045, -7.2365, -7.2367, -7.2049, -7.1799, -7.2116, -7.2056, -7.1051, -7.1473, -6.8119, -7.5983, -7.182, -7.1142, -6.3501, -7.0846, -7.6508, -6.4965, -8.0315, -8.0263, -7.0731, -8.1193, -5.6589, -7.0739, -6.803, -4.9894, -5.2687, -5.964, -4.3823, -5.1768, -5.6827, -6.7098, -5.9616, -5.6652, -6.7602, -5.1008, -6.6536, -6.837, -4.9915, -6.0412, -6.2562, -6.6203, -6.3339, -6.8192, -5.3892, -6.1917, -5.7379, -6.356, -5.8683, -6.0736, -5.8966, -3.8201, -5.3289, -6.1357, -5.9222, -5.5466, -5.8091, -6.1637, -5.7503, -5.8338, -5.9297, -5.8437, -5.7072, -6.1195, -6.1148, -6.1016, -3.3036, -3.8397, -4.5345, -4.5084, -5.1716, -4.8208, -4.9923, -4.6373, -5.3556, -5.3544, -4.3026, -4.5098, -4.4747, -6.0688, -6.0688, -6.0688, -5.9327, -5.8176, -6.0177, -6.2692, -5.5813, -5.5813, -3.7367, -6.4986, -6.1685, -6.1685, -6.1685, -4.4118, -6.674, -6.2737, -5.3517, -4.3398, -6.1622, -5.4548, -5.4756, -4.5774, -5.0283, -5.1002, -3.2891, -4.1655, -5.4543, -4.837, -3.6255, -3.6895, -5.0273, -4.9572, -4.8351, -4.9831, -5.1436, -5.2623, -6.0702, -6.4851, -6.0914, -6.0618, -5.7699, -6.7448, -6.7215, -6.7356, -6.3489, -6.9698, -6.9938, -6.9622, -6.9869, -6.4841, -7.0136, -6.0233, -6.3567, -7.0139, -7.0053, -6.4661, -5.225, -6.1844, -6.7739, -6.774, -7.3113, -7.3689, -7.3689, -7.3472, -7.434, -7.4349, -6.0888, -6.0484, -5.4146, -5.5925, -6.9402, -6.7459, -5.6369, -5.3512, -5.1743, -5.52, -6.454, -6.1479, -6.2804, -5.0581, -6.2622, -5.1048, -6.0545, -5.0647, -5.8201, -6.164, -5.6095, -5.5447, -6.0449, -5.781, -5.2059, -5.6441, -5.8671, -6.0919, -4.8879, -5.011, -4.9819, -5.6642, -5.1145, -5.2697, -5.5182, -5.3973, -5.6226, -5.6307, -5.6564, -5.5878, -5.5988, -5.368, -5.4937, -5.4178, -5.5468, -5.6369, -6.3478, -6.5699, -6.5714, -6.7197, -6.8167, -6.8167, -7.0564, -6.0194, -4.804, -7.172, -7.3766, -7.3768, -7.4626, -7.4913, -7.4043, -7.4394, -7.6067, -7.4818, -7.4343, -7.2762, -7.6892, -7.6728, -8.0123, -8.0334, -8.035, -8.0781, -8.0791, -8.1022, -7.9731, -8.125, -7.3047, -7.9715, -6.0417, -7.3582, -7.7889, -6.2703, -6.6749, -6.0, -6.337, -6.5267, -5.1545, -6.9034, -7.0431, -7.0131, -6.3941, -7.0496, -6.2448, -5.6934, -6.656, -6.5247, -5.2803, -5.6543, -5.6414, -6.2231, -6.2417, -5.9586, -6.5188, -6.4444, -6.1127, -5.9206, -5.8247, -6.2116, -6.0187, -6.0818, -5.5339, -5.7992, -5.8913, -4.9807, -6.1657, -6.2391, -6.0327, -5.9004, -5.9281, -6.0648, -6.0534, -6.1177, -6.1357, -6.1084, -6.1933, -6.168, -6.008, -6.2952, -6.9754, -7.0002, -7.0256, -7.0046, -7.0089, -7.056, -7.173, -5.6813, -7.2075, -7.1939, -6.9769, -7.2076, -5.4549, -7.2555, -6.7298, -7.084, -7.388, -7.4301, -7.4301, -7.4206, -7.4135, -7.4199, -7.2674, -7.4072, -7.4142, -7.3944, -7.3132, -4.5641, -7.1188, -6.8962, -5.9118, -6.5633, -7.0105, -6.9003, -6.7703, -5.87, -6.8003, -5.0322, -5.6901, -5.9398, -6.9743, -4.7857, -6.1928, -6.6131, -4.7339, -5.9096, -5.1678, -4.6946, -6.2608, -3.1279, -6.3769, -5.5305, -5.6571, -5.4593, -5.0057, -5.1494, -5.9977, -4.9511, -5.3135, -5.4505, -5.9018, -5.9766, -4.9998, -5.724, -5.7154, -5.6275, -5.8372, -5.6461, -5.9004, -5.8846, -5.8907, -5.8954], \"loglift\": [30.0, 29.0, 28.0, 27.0, 26.0, 25.0, 24.0, 23.0, 22.0, 21.0, 20.0, 19.0, 18.0, 17.0, 16.0, 15.0, 14.0, 13.0, 12.0, 11.0, 10.0, 9.0, 8.0, 7.0, 6.0, 5.0, 4.0, 3.0, 2.0, 1.0, 0.7799, 0.7797, 0.7793, 0.7791, 0.777, 0.777, 0.7769, 0.7768, 0.7768, 0.7768, 0.7768, 0.7767, 0.7767, 0.7766, 0.7765, 0.7764, 0.7755, 0.7754, 0.7749, 0.7733, 0.7731, 0.773, 0.7729, 0.7702, 0.7702, 0.7696, 0.7689, 0.7689, 0.7679, 0.767, 0.7626, 0.7664, 0.76, 0.7409, 0.7347, 0.7471, 0.6675, 0.6981, 0.713, 0.7548, 0.7125, 0.6948, 0.7495, 0.6396, 0.7355, 0.7464, 0.5778, 0.6744, 0.6915, 0.7255, 0.695, 0.7424, 0.5641, 0.658, 0.5746, 0.6666, 0.5743, 0.6073, 0.5552, -0.0041, 0.3769, 0.5971, 0.4419, 0.2075, 0.3112, 0.5426, 0.2398, 0.292, 0.3023, 0.0591, -0.2604, 0.2914, 0.2238, -0.0751, 3.3702, 3.3694, 3.3668, 3.3639, 3.3634, 3.3609, 3.3601, 3.3595, 3.3577, 3.3575, 3.3557, 3.353, 3.3528, 3.3441, 3.3441, 3.344, 3.3438, 3.3432, 3.3425, 3.3368, 3.3368, 3.3368, 3.3356, 3.3257, 3.3211, 3.3211, 3.3211, 3.3194, 3.3174, 3.3173, 3.3057, 3.2534, 3.3137, 3.2809, 3.2711, 3.2021, 3.2301, 3.2228, 2.9683, 3.0677, 3.2429, 3.1183, 2.757, 2.7709, 3.0416, 2.8757, 2.7744, 2.0111, 2.3309, 1.4946, 3.0325, 3.0232, 3.0231, 3.0195, 3.0177, 3.0177, 3.0176, 3.0148, 3.0122, 3.006, 3.0059, 3.0044, 3.0034, 3.0028, 3.0018, 3.0017, 3.0003, 2.9996, 2.9979, 2.9956, 2.9907, 2.9879, 2.9834, 2.9831, 2.9814, 2.98, 2.9799, 2.9769, 2.9754, 2.9749, 2.9671, 2.9593, 2.9372, 2.9296, 2.9681, 2.9613, 2.8686, 2.808, 2.7845, 2.8123, 2.9281, 2.8792, 2.8946, 2.6602, 2.8593, 2.5465, 2.75, 2.3244, 2.6031, 2.7051, 2.3932, 2.3429, 2.63, 2.3795, 1.8315, 2.1312, 2.3781, 2.6401, 0.9764, 0.9791, 0.7476, 1.873, 0.6366, 0.9674, 1.4628, 0.9244, 1.6164, 1.6374, 1.7009, 1.4057, 1.3656, 0.3861, 0.8503, 0.0291, -1.7308, 0.6149, 1.4727, 1.4718, 1.4713, 1.4691, 1.4684, 1.4684, 1.4681, 1.4665, 1.4662, 1.4661, 1.4645, 1.4644, 1.4632, 1.4629, 1.4628, 1.4627, 1.4612, 1.4598, 1.4577, 1.457, 1.4569, 1.4543, 1.4521, 1.452, 1.4516, 1.451, 1.4509, 1.4502, 1.4499, 1.4499, 1.4465, 1.4495, 1.4216, 1.4402, 1.4471, 1.4096, 1.4205, 1.3871, 1.388, 1.3904, 1.2701, 1.3921, 1.4001, 1.3868, 1.2763, 1.3785, 1.1758, 1.0312, 1.2657, 1.2272, 0.8626, 0.9166, 0.8683, 1.0313, 0.9916, 0.814, 1.1147, 1.0712, 0.8298, 0.6585, 0.5274, 0.8452, 0.6574, 0.6073, -0.0871, 0.2273, 0.2812, -1.1647, 0.6396, 0.7552, 0.1993, -0.1946, -0.1769, 0.1871, 0.0447, 0.3033, -0.0154, -0.3788, 0.1863, 1.4486, 1.4471, 1.4436, 1.4434, 1.4432, 1.443, 1.443, 1.4428, 1.4419, 1.4412, 1.4409, 1.4409, 1.4407, 1.4406, 1.4406, 1.4401, 1.4398, 1.4397, 1.4387, 1.4382, 1.4376, 1.4376, 1.4375, 1.4374, 1.4372, 1.4371, 1.4371, 1.4366, 1.4365, 1.4356, 1.4237, 1.4353, 1.4318, 1.416, 1.4235, 1.4297, 1.427, 1.419, 1.3798, 1.4174, 1.3417, 1.3524, 1.3626, 1.4236, 1.2326, 1.3516, 1.3887, 1.1304, 1.2899, 1.1539, 1.0565, 1.3118, 0.6882, 1.318, 1.127, 1.1481, 1.0982, 0.9747, 0.9487, 1.1872, 0.7785, 0.859, 0.9016, 1.0916, 1.1116, 0.4471, 0.7665, 0.6628, 0.2752, 0.6973, 0.108, 0.7668, 0.3525, 0.1358, 0.4432]}, \"token.table\": {\"Topic\": [1, 4, 1, 4, 1, 1, 3, 1, 1, 4, 1, 4, 1, 2, 4, 5, 1, 3, 4, 5, 1, 2, 3, 4, 1, 3, 4, 1, 5, 1, 4, 1, 4, 1, 3, 1, 3, 1, 1, 3, 4, 5, 1, 4, 1, 4, 1, 3, 1, 2, 3, 4, 5, 1, 3, 1, 4, 1, 5, 1, 4, 5, 1, 4, 5, 1, 4, 5, 1, 5, 1, 4, 5, 1, 2, 1, 3, 4, 5, 1, 3, 4, 5, 1, 4, 1, 2, 1, 5, 1, 2, 3, 4, 1, 4, 1, 2, 4, 1, 5, 1, 5, 1, 3, 4, 1, 4, 5, 1, 3, 4, 5, 1, 4, 5, 1, 3, 1, 3, 4, 5, 1, 2, 3, 4, 5, 1, 2, 1, 2, 1, 2, 3, 4, 5, 1, 3, 4, 1, 4, 1, 2, 4, 5, 1, 2, 4, 5, 1, 2, 3, 4, 5, 1, 4, 1, 2, 1, 3, 4, 5, 1, 3, 4, 5, 1, 2, 3, 4, 5, 1, 3, 4, 5, 1, 2, 1, 4, 5, 1, 3, 4, 5, 1, 4, 5, 1, 4, 1, 2, 3, 4, 5, 1, 2, 1, 4, 5, 1, 3, 5, 1, 2, 3, 4, 5, 1, 3, 4, 5, 1, 3, 4, 5, 1, 4, 1, 4, 5, 1, 1, 3, 4, 5, 1, 3, 1, 1, 4, 5, 1, 4, 1, 3, 5, 1, 4, 1, 4, 1, 4, 1, 1, 3, 4, 5, 1, 1, 2, 3, 4, 5, 1, 2, 1, 1, 4, 5, 1, 5, 1, 5, 1, 2, 3, 4, 5, 1, 3, 1, 3, 1, 3, 4, 5, 1, 4, 1, 2, 3, 4, 5, 1, 4, 1, 4, 1, 3, 4, 5, 1, 4, 5, 1, 2, 4, 5, 1, 4, 5, 1, 5, 1, 2, 3, 4, 5, 1, 3, 1, 4, 5, 1, 3, 5, 1, 2, 3, 4, 5, 1, 3, 4, 5, 1, 2, 1, 3, 4, 5, 1, 3, 4, 5, 1, 1, 2, 4, 5, 1, 3, 4, 5, 1, 5, 1, 2, 1, 3, 4, 5, 1, 2, 3, 4, 5, 1, 4, 5, 1, 2, 3, 4, 5, 1, 4, 1, 2, 3, 4, 5, 1, 2, 3, 4, 5, 1, 2, 4, 1, 3, 4, 1, 5, 1, 2, 4, 5, 1, 5, 1, 1, 3, 5, 1, 3, 5, 1, 2, 1, 4, 5, 1, 3, 4, 5, 1, 3, 4, 1, 2, 3, 4, 1, 2, 4, 1, 4, 1, 2, 3, 4, 5, 1, 4, 5, 1, 2, 3, 4, 5, 1, 2, 1, 3, 1, 4, 1, 2, 3, 4, 5, 1, 4, 1, 4, 5, 1, 3, 1, 4, 5, 1, 1, 3, 1, 4, 5, 1, 2, 3, 4, 5, 1, 4, 5, 1, 3, 4, 5, 1, 3, 4, 5, 1, 4, 5, 1, 5, 1, 3, 4, 5, 1, 2, 3, 4, 5, 1, 3, 5, 1, 4, 1, 2, 3, 4, 5, 1, 5, 1, 5, 1, 4, 5, 1, 2, 3, 4, 5, 1, 2, 3, 4, 5, 1, 2, 1, 3, 1, 2, 3, 4, 5, 1, 3, 1, 3, 4, 5, 1, 4, 5, 1, 3, 4, 5, 1, 2, 3, 4, 5, 1, 2, 3, 4, 5, 1, 2, 3, 4, 5, 1, 2, 3, 4, 5, 1, 3, 4, 5, 1, 2, 4, 1, 2, 3, 4, 5, 1, 2, 3, 4, 5, 1, 3, 4, 5, 1, 4, 5, 1, 3, 4, 5, 1, 2, 4, 1, 2, 3, 4, 5, 1, 3, 4, 5, 1, 2, 4, 5, 1, 2, 4, 5, 1, 4, 1, 4, 5, 1, 3, 4, 5, 1, 4, 5, 1, 2, 1, 2, 3, 4, 1, 2, 4, 5, 1, 1, 5, 1, 2, 3, 4, 5, 1, 2, 1, 3, 4, 5, 1, 2, 3, 4, 5, 1, 2, 3, 4, 5, 1, 2, 3, 4, 5, 1, 4, 5, 1, 3, 4, 5, 1, 3, 5, 1, 3, 4, 1, 4, 5, 1, 2, 4, 5, 1, 5, 1, 2, 3, 4, 5, 1, 4, 5, 1, 3, 4, 5, 1, 4, 1, 3, 4, 5, 1, 2, 3, 4, 5, 1, 3, 4, 5, 1, 1, 3, 4, 5, 1, 5, 1, 3, 4, 5, 1, 2, 3, 4, 5, 1, 4, 5, 1, 5, 1, 3, 4, 5, 1, 4, 1, 2, 3, 4, 5, 1, 3, 1, 2, 3, 4, 5, 1, 2, 1, 4, 5, 1, 4, 5, 1, 4, 1, 1, 2, 3, 4, 5, 1, 4, 1, 3, 4, 5, 1, 3, 4, 5, 1, 4, 1, 3, 1, 2, 3, 4, 5, 1, 2, 3, 4, 1, 4, 5, 1, 4, 1, 3, 4, 5, 1, 5, 1, 2, 3, 4, 5, 1, 2, 3, 4, 5, 1, 2, 3, 4, 5, 1, 4, 5, 1, 2, 1, 2, 4, 1, 2, 3, 4, 1, 2, 3, 4, 5, 1, 3, 4, 5, 1, 2, 3, 4, 5, 1, 3, 5, 1, 2, 4, 5, 1, 4, 1, 4, 1, 2, 3, 4, 5, 1, 3, 4, 5, 1, 3, 5, 1, 4, 1, 4, 1, 4, 1, 2, 3, 4, 1, 2, 1, 3, 1, 2, 5, 1, 2, 3, 4, 5, 1, 2, 1, 4, 5, 1, 2, 4, 5, 1, 2, 1, 4, 1, 4, 1, 4, 1, 2, 3, 4, 1, 2, 1, 3, 4, 5, 1, 2, 3, 4, 1, 5, 1, 2, 4, 5, 1, 4, 5, 1, 2, 3, 4, 5, 1, 3, 4, 5, 1, 2, 3, 4, 5, 1, 4, 1, 2, 4, 1, 3, 5, 1, 1, 2, 3, 4, 5, 1, 1, 2, 1, 4, 5, 1, 4, 1, 1, 2, 3, 4, 5, 1, 2, 1, 3, 5, 1, 4, 1, 4, 1, 3, 4, 1, 5, 1, 2, 4, 1, 4, 5, 1, 4, 1, 1, 2, 5, 1, 4, 5, 1, 2, 4, 5, 1, 2, 3, 4, 5, 1, 4, 5, 1, 2, 3, 4, 1, 3, 1, 2, 3, 4, 5, 1, 3, 4, 5], \"Freq\": [0.9986964610416892, 0.0023554161817020973, 0.005642119216997389, 0.9930129821915404, 0.9942602200187932, 0.03933984642957049, 0.9441563143096917, 0.9945516138636803, 0.08413403021417158, 0.9145003284149085, 0.019640759878943946, 0.9820379939471973, 0.005942551089727069, 0.9864634808946934, 0.005942551089727069, 0.005942551089727069, 0.4819241101288834, 0.08580600009611826, 0.2750493701711188, 0.15633147962717436, 0.03350818381284675, 0.025131137859635062, 0.9298521008064974, 0.008377045953211688, 0.02033583090547179, 0.976119883462646, 0.02033583090547179, 0.015808629460500642, 0.9801350265510397, 0.0173120983891985, 0.9867896081843146, 0.08078714934512377, 0.9135162272102456, 0.07515882094399119, 0.9019058513278944, 0.048248616233212895, 0.9649723246642579, 0.992076423308544, 0.026885904648067855, 0.040328856972101784, 0.020164428486050892, 0.914120758034307, 0.06372792996637437, 0.9363103556598081, 0.028619174035172112, 0.9730519171958518, 0.06898479750879653, 0.896802367614355, 0.11278221267764624, 0.005935905930402434, 0.13454720108912183, 0.5144451806348775, 0.23150033128569492, 0.030510062720062178, 0.9458119443219275, 0.010774064535196097, 0.9888197006746641, 0.993598469929118, 0.006249046980686277, 0.912264823282444, 0.007071820335522821, 0.07779002369075103, 0.005199715212497106, 0.005199715212497106, 0.98794589037445, 0.0067637337089954145, 0.054109869671963316, 0.9401589855503627, 0.010787508032315343, 0.9924507389730115, 0.004037740124342951, 0.9892463304640229, 0.008075480248685901, 0.02419741129892209, 0.9678964519568836, 0.5717487998902945, 0.01666532376361845, 0.04743207532722174, 0.3640732268359723, 0.018855706893412046, 0.82965110331013, 0.056567120680236144, 0.09427853446706023, 0.028015861902027046, 0.9805551665709465, 0.011528175029333372, 0.99142305252267, 0.015809938972694063, 0.9802162163070319, 0.07747240805839108, 0.7747240805839107, 0.045192238034061465, 0.10329654407785477, 0.015655859447528987, 0.9863191451943262, 0.03611973654489277, 0.9442731125307681, 0.020639849454224438, 0.011107788269799926, 0.9885931560121933, 0.012735053006966276, 0.9805990815364033, 0.029865806466908514, 0.9258400004741639, 0.029865806466908514, 0.17964889862617225, 0.8157031072755929, 0.004855375638545196, 0.6188131431384127, 0.016132931106029383, 0.27886923768993643, 0.08642641663944312, 0.9769468317841632, 0.013084109354252187, 0.004361369784750728, 0.07512672470265022, 0.9015206964318027, 0.9324337704140286, 0.03393135991317426, 0.023073324740958495, 0.009500780775688793, 0.30093594731512635, 0.0053420582363631905, 0.053420582363631904, 0.1371128280666552, 0.5021534742181398, 0.013776928293202947, 0.9781619088174093, 0.013759442291866968, 0.9769204027225548, 0.41117162156257825, 0.351292259199096, 0.12375068221786337, 0.07983914981797637, 0.035927617418089364, 0.06558907679752965, 0.8526579983678854, 0.06558907679752965, 0.007046219707186738, 0.9935169787133301, 0.12857525965262487, 0.7338197746027858, 0.07839954856867369, 0.05958365691219201, 0.310670227829138, 0.5482415785220083, 0.018274719284066942, 0.12335435516745186, 0.18027985489032383, 0.2543674664890871, 0.02963504463950529, 0.48650864949854516, 0.04939174106584215, 0.9874882535793074, 0.010286335974784452, 0.026312748058592534, 0.9735716781679238, 0.8917598623847462, 0.0045930579282891055, 0.056883255881118915, 0.04699051572788084, 0.24190146187422354, 0.47647257641892515, 0.040316910312370585, 0.23823628820946258, 0.9322737617310295, 0.017928341571750567, 0.01075700494305034, 0.008964170785875284, 0.028685346514800907, 0.1357155603913963, 0.1900017845479548, 0.2640284538523528, 0.4096142368176688, 0.027733961185027245, 0.9706886414759536, 0.014275647912682665, 0.014275647912682665, 0.9850197059751039, 0.18278214718540164, 0.046591527713925905, 0.1505264741526837, 0.6191297240446693, 0.21466026690710066, 0.08882493803052441, 0.6957953479057745, 0.9915324451820516, 0.004466362365684917, 0.16645554988929726, 0.3012052807520617, 0.5072931044245249, 0.023779364269899607, 0.007926454756633202, 0.016909613254946044, 0.9638479555319245, 0.010051323404869045, 0.02010264680973809, 0.9749783702722974, 0.015094317227360916, 0.724527226913324, 0.25660339286513556, 0.15267001956859322, 0.024853258999538434, 0.2556335211381096, 0.4899642488480434, 0.07811024256997794, 0.005128392037171635, 0.08205427259474617, 0.9128537826165511, 0.005128392037171635, 0.0773151317261845, 0.12634423965010635, 0.6392641379311352, 0.15651599837251984, 0.0114075237842054, 0.9924545692258698, 0.9847717762594864, 0.011517798552742532, 0.005758899276371266, 0.997462003606561, 0.08964106086858911, 0.038844459709721946, 0.10458123768002063, 0.7649370527452938, 0.03843499578825801, 0.9608748947064503, 0.9929113275879169, 0.058434007520205195, 0.047809642516531525, 0.8937747059340477, 0.031177704934495305, 0.9665088529693544, 0.011193251083320196, 0.8171073290823743, 0.16789876624980293, 0.020840376686017886, 0.9794977042428407, 0.02323798057279817, 0.9759951840575231, 0.02985570271217484, 0.9852381895017698, 0.9981047763766263, 0.04548456558730445, 0.0030323043724869636, 0.10613065303704372, 0.8490452242963498, 0.9972118636328317, 0.3526294987726528, 0.024699830763509213, 0.04782307658466678, 0.2091602690186525, 0.36524217831146605, 0.029947316811271142, 0.9583141379606765, 0.9921106984116013, 0.07045026898379964, 0.061643985360824674, 0.867418936863033, 0.010605889682633995, 0.9863477404849614, 0.01607830984884152, 0.9807769007793328, 0.11158741204247014, 0.06953998141777125, 0.0792432346388556, 0.5708747311737965, 0.16980693136897632, 0.0506595102759969, 0.962530695243941, 0.07070914560988896, 0.9192188929285564, 0.8669454368969722, 0.014801507459216599, 0.09374288057503846, 0.02466917909869433, 0.01753056261891013, 0.9817115066589673, 0.8149930775537674, 0.005940182781004136, 0.019008584899213234, 0.011286347283907858, 0.1490985878032038, 0.007038577553606195, 0.9924394350584734, 0.012780141906620792, 0.9840709268098011, 0.45555516922247996, 0.008230445695076421, 0.07119335526241105, 0.46491730120062935, 0.003915420644933582, 0.003915420644933582, 0.9945168438131299, 0.040287665795851656, 0.03021574934688874, 0.916544396855625, 0.010071916448962914, 0.006663099308962487, 0.02665239723584995, 0.9728124991085231, 0.015908610729879237, 0.9863338652525127, 0.031580557957976915, 0.007895139489494229, 0.003947569744747114, 0.9434691689945605, 0.007895139489494229, 0.06541299596225386, 0.9157819434715541, 0.8917708102490334, 0.05335380916019858, 0.055894466739255654, 0.020723863727978624, 0.8082306853911663, 0.165790909823829, 0.620767789815195, 0.1546316877156984, 0.017928311619211407, 0.12998025923928272, 0.07619532438164849, 0.19889241189557305, 0.6497152121922053, 0.1060759530109723, 0.05303797650548615, 0.04184900482783932, 0.9625271110403044, 0.05677424174369163, 0.23655934059871514, 0.1766309743137073, 0.5298929229411219, 0.7869446688764223, 0.012961441605023428, 0.03888432481507028, 0.16109220280529116, 0.9946811437310026, 0.05211722011329965, 0.9250806570110689, 0.013029305028324913, 0.013029305028324913, 0.025914738875390128, 0.0025914738875390127, 0.06737832107601432, 0.9044243867511155, 0.015425767533517924, 0.9872491221451472, 0.033141415257191, 0.9279596272013481, 0.009597429090949832, 0.8829634763673846, 0.05758457454569899, 0.05758457454569899, 0.16819639041641926, 0.03526698508731372, 0.054256900134328795, 0.029841295073880836, 0.7107653917597072, 0.9168222386595446, 0.022265682938874654, 0.06155806459571228, 0.012842648488208683, 0.02140441414701447, 0.017123531317611577, 0.04280882829402894, 0.9032662770040106, 0.9887843767687172, 0.009789944324442745, 0.42738425840162064, 0.001158222922497617, 0.12277162978474739, 0.11698051517225931, 0.33240997875681605, 0.32714052559456247, 0.018097135458422606, 0.04176262028866755, 0.30904339013613985, 0.3048671281072731, 0.15705535242977048, 0.8394337802280836, 0.00541570180792312, 0.11379993445570862, 0.8762594953089563, 0.011379993445570861, 0.013532577269934478, 0.987878140705217, 0.002236028797022596, 0.006708086391067789, 0.004472057594045192, 0.986088699486965, 0.01607830984884152, 0.9807769007793328, 0.9974965458996805, 0.02633264529926165, 0.9479752307734193, 0.02633264529926165, 0.010484909107110224, 0.010484909107110224, 0.9750965469612508, 0.019188746412049044, 0.9786260670145013, 0.01805256259603073, 0.011734165687419975, 0.9703252395366517, 0.30169087028989144, 0.48873920986962416, 0.18704833957973271, 0.02413526962319132, 0.01881600176160861, 0.9408000880804305, 0.03763200352321722, 0.042271068219007696, 0.9017827886721641, 0.014090356073002564, 0.042271068219007696, 0.013460111885155251, 0.9825881676163333, 0.006730055942577626, 0.994615085747585, 0.005991657143057741, 0.18874093100195152, 0.021570392114508747, 0.39365965608978465, 0.3235558817176312, 0.07549637240078061, 0.008158581398920763, 0.024475744196762284, 0.9627126050726499, 0.3285891296593991, 0.6642701110380658, 0.002363950573089202, 0.004727901146178404, 0.001181975286544601, 0.006117047226859064, 0.9909616507511684, 0.02912161328426769, 0.9318916250965661, 0.021239385903005534, 0.9770117515382545, 0.36997318025044496, 0.013356432500016063, 0.05476137325006586, 0.27514250950033087, 0.28716329875034535, 0.015658011584499126, 0.986454729823445, 0.028919854050599932, 0.5310736834746532, 0.4390559660409262, 0.049870327096989985, 0.9475362148428097, 0.9152084490172737, 0.07924989362998738, 0.002556448181612496, 0.9828290337200897, 0.07071448050588534, 0.9192882465765094, 0.21917536731533632, 0.4401472540348967, 0.34133868680257295, 0.17860887593004204, 0.009742302323456839, 0.24031012397860202, 0.0422166434016463, 0.5293317595744882, 0.011749984460465263, 0.011749984460465263, 0.9869986946790821, 0.11651628655174522, 0.05519192520872142, 0.0919865420145357, 0.7358923361162856, 0.13173887772623077, 0.04391295924207692, 0.6147814293890769, 0.2101548763727967, 0.944103010476868, 0.0035096766188731153, 0.04913547266422361, 0.012478016413564446, 0.9857632966715912, 0.004250214299466164, 0.30176521526209765, 0.004250214299466164, 0.6885347165135185, 0.12296053213533616, 0.001007873214224067, 0.03426768928361827, 0.23886595177110384, 0.6037160553202161, 0.03722370651697843, 0.8933689564074823, 0.07444741303395686, 0.014054916480541248, 0.9838441536378874, 0.7113975796651306, 0.017094581396759147, 0.02629935599501407, 0.08415793918404503, 0.16042607156958583, 0.010263423426248823, 0.985288648919887, 0.01549886252872369, 0.9764283393095925, 0.9656214549522031, 0.024187049931365393, 0.009302711512063614, 0.08456315656547822, 0.0015955312559524193, 0.0335061563750008, 0.1802950319226234, 0.7004382213631121, 0.3054039667416935, 0.03600832795644421, 0.020004626642469006, 0.18537620688687945, 0.4534382038959641, 0.03364423892118185, 0.9756829287142738, 0.048690278762307436, 0.9251152964838413, 0.028077866528051956, 0.22462293222441565, 0.659829863409221, 0.08423359958415587, 0.014038933264025978, 0.04940451497277078, 0.9386857844826447, 0.25047303905861945, 0.5144851613095967, 0.14216037351975697, 0.08800404075032574, 0.9675682026045727, 0.02480944109242494, 0.00413490684873749, 0.030925646321247884, 0.628821475198707, 0.02061709754749859, 0.31956501198622816, 0.8130184131451894, 0.003746628632005481, 0.02372864800270138, 0.0786792012721151, 0.08117695369345208, 0.07817548820580657, 0.007600394686675639, 0.059717386823880024, 0.3018442461279754, 0.5515715001187463, 0.04191453855941203, 0.01257436156782361, 0.009780058997196141, 0.8131420480525935, 0.12434646439292237, 0.3603400994050178, 0.016304981873530217, 0.04076245468382555, 0.4402345105853159, 0.1418533422997129, 0.4142947556893975, 0.20227332189541172, 0.21202143379398578, 0.17059195822504603, 0.02953917265445758, 0.9452535249426426, 0.02953917265445758, 0.1710467282436277, 0.0035267366648170663, 0.029977261650945063, 0.07582483829356693, 0.72121764795509, 0.5817355157241714, 0.012666092099748677, 0.12394675840468347, 0.1420411756900387, 0.1402317339615032, 0.07943222677557733, 0.026477408925192444, 0.7375849629160752, 0.15508196656184148, 0.00742778242162383, 0.9433283675462265, 0.051994476951366816, 0.42410022347161674, 0.021580321105856604, 0.28617382336027236, 0.267408326746484, 0.04536036374657691, 0.027216218247946147, 0.9162793476808535, 0.03704627505480838, 0.011398853863017961, 0.0883411174383892, 0.19093080220555084, 0.671819949551621, 0.05473510380643757, 0.0049759185278579615, 0.06966285939001146, 0.8707857423751432, 0.953501028948648, 0.002750483737351869, 0.04125725606027804, 0.001833655824901246, 0.4227920860482471, 0.5444172066922633, 0.005791672411619824, 0.026062525852289204, 0.016474558701738657, 0.9719989634025809, 0.9805447516473739, 0.013928192494991106, 0.0055712769979964424, 0.05794535521145531, 0.036874316952744284, 0.7796284155723078, 0.12115846998758836, 0.022318835638016555, 0.04782607636717833, 0.9278258815232596, 0.008097103660924686, 0.979749542971887, 0.23869230780278017, 0.7160769234083405, 0.014466200472895768, 0.028932400945791536, 0.10849940248933589, 0.5371390172620208, 0.14466586998578118, 0.20896181220168392, 0.9940607122121171, 0.012911556290122483, 0.9812782780493088, 0.6665406144146543, 0.01838263185821825, 0.03948861658432068, 0.18791134788400876, 0.08782812998926497, 0.029947316811271142, 0.9583141379606765, 0.2673386480065324, 0.018760606877651395, 0.5229519167145327, 0.18760606877651395, 0.6245003930042012, 0.010305287013270647, 0.014427401818578905, 0.2246552568893001, 0.12675503026322896, 0.42592249346985883, 0.0018201815960250378, 0.09282926139727693, 0.41864176708575873, 0.06006599266882625, 0.012097350748604114, 0.0009305654422003165, 0.057695057416419615, 0.12841803102364366, 0.8012168457344725, 0.018732172946076844, 0.009366086473038422, 0.9740729931959958, 0.005094117223711416, 0.6673293563061955, 0.005094117223711416, 0.32602350231753063, 0.020579383029107938, 0.9672310023680731, 0.020579383029107938, 0.03913476508993102, 0.9392343621583445, 0.03913476508993102, 0.9722949234153889, 0.019762091939337173, 0.00790483677573487, 0.8308920100630416, 0.0190135471410307, 0.0760541885641228, 0.07415283385001974, 0.015925241904007487, 0.9873649980484642, 0.09490207108598898, 0.06901968806253744, 0.5003927384533965, 0.25882383023451544, 0.06901968806253744, 0.011387058624636848, 0.011387058624636848, 0.9792870417187688, 0.02622736761327282, 0.9441852340778215, 0.02622736761327282, 0.02622736761327282, 0.029820982698435056, 0.9840924290483568, 0.8122356621790187, 0.009957354877851368, 0.0825037975593399, 0.09672859024198471, 0.21055665420551092, 0.025796676177496373, 0.09830625246018888, 0.15617447199349155, 0.5089614489073608, 0.01914692840554303, 0.12365724595246541, 0.13323071015523694, 0.7235943359928138, 0.9922114586521783, 0.6123844576157925, 0.056990093348339405, 0.0746052131105534, 0.25593732830981514, 0.015707188165098016, 0.9895528544011749, 0.20931316314007395, 0.6923435396171677, 0.08050506274618228, 0.016101012549236456, 0.6118722030526255, 0.027561810948316463, 0.04685507861213798, 0.08819779503461267, 0.22462875922877915, 0.9884891814041391, 0.009722844407253827, 0.0032409481357512757, 0.010562896360517863, 0.9929122578886791, 0.014840626030623626, 0.9498000659599121, 0.014840626030623626, 0.014840626030623626, 0.07362028256950093, 0.9255121237308688, 0.3071922299224387, 0.010915459946482593, 0.02962767699759561, 0.184003467669278, 0.4693647776987515, 0.03886915707988515, 0.9328597699172435, 0.13774815077688457, 0.022424117568330047, 0.07047579807189443, 0.6406890733808585, 0.13134126004307597, 0.027733961185027245, 0.9706886414759536, 0.00937243959361694, 0.00937243959361694, 0.9747337177361617, 0.01025052702046212, 0.01025052702046212, 0.9840505939643636, 0.9891341749087552, 0.00603130594456558, 0.9940111115837312, 0.3909892923632604, 0.01492325543371223, 0.0014923255433712229, 0.0910318581456446, 0.5029137081161021, 0.95296981757956, 0.043983222349825844, 0.05992465587499003, 0.1821709538599697, 0.3811208113649366, 0.3763268388949374, 0.15389765811130227, 0.0665503386427253, 0.6655033864272532, 0.1164630926247693, 0.9915475022110192, 0.008426749310575235, 0.050046642603004315, 0.950886209457082, 0.5570297107752501, 0.15191719384779548, 0.025319532307965915, 0.18892266414405334, 0.07790625325527974, 0.0854761138536791, 0.8974991954636306, 0.014246018975613183, 0.014246018975613183, 0.9192306819444915, 0.04434884869030442, 0.03547907895224353, 0.008154625705568913, 0.9948643360794075, 0.00941334687081635, 0.7813077902777572, 0.0376533874832654, 0.17885359054551067, 0.010518516173550641, 0.9887405203137603, 0.8394219080052219, 0.001805208404312305, 0.00361041680862461, 0.05596146053368146, 0.09928646223717677, 0.10004192486420077, 0.01429170355202868, 0.595487648001195, 0.06669461657613385, 0.21913945446443978, 0.12958162477096102, 0.01943724371564415, 0.758052504910122, 0.04535356866983636, 0.05183264990838441, 0.9940359229445744, 0.006454778720419315, 0.006454778720419315, 0.009604062993502175, 0.9796144253372218, 0.0058861618347944965, 0.9771028645758865, 0.01765848550438349, 0.3598889910604704, 0.6055275087684105, 0.005712523667626514, 0.028562618338132572, 0.197742321762189, 0.06692817044258705, 0.045632843483582076, 0.5430308374546267, 0.14602509914746264, 0.03698907197514226, 0.9062322633909853, 0.03698907197514226, 0.01849453598757113, 0.3634405986798585, 0.033508707679703265, 0.10954769818364529, 0.23069456441026479, 0.2629144756407487, 0.019906169571334974, 0.9554961394240787, 0.019906169571334974, 0.8971593429221527, 0.005607245893263454, 0.08971593429221526, 0.005607245893263454, 0.01703987446718484, 0.9883127190967207, 0.029197532193601567, 0.9635185623888517, 0.019409384609015454, 0.03881876921803091, 0.9122410766237263, 0.019409384609015454, 0.019409384609015454, 0.015000900563925071, 0.015000900563925071, 0.9600576360912045, 0.015000900563925071, 0.045516666489525646, 0.910333329790513, 0.045516666489525646, 0.9658877119429885, 0.031157668127193176, 0.03188596506018087, 0.988464916865607, 0.03115045397628446, 0.9656640732648183, 0.0961643594161037, 0.8654792347449333, 0.017484428984746128, 0.026226643477119192, 0.022726168893461754, 0.9772252624188554, 0.06684997043185469, 0.9358995860459657, 0.00839333902064529, 0.025180017061935872, 0.9652339873742085, 0.7967648398601823, 0.005742449296289602, 0.01866296021294121, 0.13925439543502285, 0.04019714507402722, 0.029947316811271142, 0.9583141379606765, 0.01365748119114983, 0.01365748119114983, 0.9833386457627877, 0.9594278791979839, 0.004884360112280645, 0.023026269100751614, 0.012559783145864516, 0.02773273958513769, 0.9706458854798192, 0.008979165614097827, 0.987708217550761, 0.008979165614097827, 0.987708217550761, 0.032613267709284306, 0.9783980312785292, 0.08135391140309334, 0.8677750549663289, 0.013558985233848889, 0.027117970467697778, 0.016909613254946044, 0.9638479555319245, 0.27847601990486504, 0.291368428233794, 0.15728738161293304, 0.2733190565732935, 0.08091503983455181, 0.881074878198453, 0.004495279990808434, 0.03146695993565904, 0.012909592934483592, 0.981129063020753, 0.003584829055946448, 0.9929976484971661, 0.001792414527973224, 0.001792414527973224, 0.037684536516470746, 0.38724109937614765, 0.5756637819585013, 0.013864246338191007, 0.005041544122978548, 0.11721590085925124, 0.12225744498222979, 0.7411069860778465, 0.00791660390901041, 0.7758271830830201, 0.00791660390901041, 0.21374830554328106, 0.5630530461342566, 0.014290686450108033, 0.06859529496051855, 0.09431853057071302, 0.2600904933919662, 0.016068821219816343, 0.9801980944087969, 0.03738127430584098, 0.9585626768426364, 0.0026700910218457837, 0.007999302880950663, 0.007999302880950663, 0.9839142543569316, 0.9868725370427703, 0.29617710445593465, 0.02108022095771777, 0.02213423200560366, 0.5407076675654608, 0.12015725945899129, 0.9915554458909638, 0.04945786635877243, 0.9396994608166762, 0.08115533036859476, 0.8115533036859476, 0.1061262012512393, 0.9868443589589718, 0.00583931573348504, 0.9954839201772263, 0.19829329513984878, 0.006132782323912849, 0.04701799781666517, 0.4333832842231746, 0.3148161592941929, 0.021554753251314254, 0.9699638963091415, 0.026892595543700038, 0.8605630573984012, 0.10757038217480015, 0.027961836500693723, 0.9786642775242803, 0.016640550327098994, 0.9817924692988407, 0.039126010676729356, 0.9390242562415045, 0.039126010676729356, 0.004601652414778405, 0.9939569215921354, 0.006123206219799336, 0.9919594076074923, 0.003061603109899668, 0.02757909996005041, 0.010342162485018904, 0.961821111106758, 0.09322778666134308, 0.9012019377263165, 0.9932932560203105, 0.00280666055632789, 0.01122664222531156, 0.9879445158274173, 0.004679932518280872, 0.6973099452238499, 0.2995156811699758, 0.962502043950793, 0.013065638605666874, 0.021776064342778123, 0.004355212868555625, 0.48499921093841314, 0.021555520486151693, 0.048914450333959615, 0.13679464923903958, 0.30758069616777994, 0.9841046760820144, 0.005754998105742774, 0.005754998105742774, 0.12122526006329984, 0.857901840447968, 0.009325020004869218, 0.009325020004869218, 0.050569524909043255, 0.9608209732718218, 0.8039876940642591, 0.007848036059195587, 0.0069760320526182995, 0.11510452886820194, 0.06627230449987384, 0.8826544626145892, 0.014960245129060835, 0.09617300440110536, 0.006411533626740358], \"Term\": [\"aaaaaaaaaaaaaaaaaaaaaaaaaaaaaaaaaaaaaaaaaaaaaaaaaaaaaaaaaaaaaaaaaaaaaaaaaaaa\", \"aaaaaaaaaaaaaaaaaaaaaaaaaaaaaaaaaaaaaaaaaaaaaaaaaaaaaaaaaaaaaaaaaaaaaaaaaaaa\", \"adult\", \"adult\", \"afford\", \"agave\", \"agave\", \"aggressively\", \"alert\", \"alert\", \"alias\", \"alias\", \"align\", \"align\", \"align\", \"align\", \"also\", \"also\", \"also\", \"also\", \"amazon\", \"amazon\", \"amazon\", \"amazon\", \"ancillary\", \"ancillary\", \"ancillary\", \"apse\", \"apse\", \"archer\", \"archer\", \"army\", \"army\", \"asarco\", \"asarco\", \"assign\", \"assign\", \"astronomical\", \"attached\", \"attached\", \"attached\", \"attached\", \"attack\", \"attack\", \"attempting\", \"attempting\", \"audrey\", \"audrey\", \"available\", \"available\", \"available\", \"available\", \"available\", \"backout\", \"backout\", \"bakernet\", \"bakernet\", \"bankrupt\", \"bankrupt\", \"bankruptcy\", \"bankruptcy\", \"bankruptcy\", \"barry\", \"barry\", \"barry\", \"ben\", \"ben\", \"ben\", \"bergfelt\", \"bergfelt\", \"beth\", \"beth\", \"beth\", \"bgcolor\", \"bgcolor\", \"bill\", \"bill\", \"bill\", \"bill\", \"blair\", \"blair\", \"blair\", \"blair\", \"blood\", \"blood\", \"bodydefault\", \"bodydefault\", \"bolt\", \"bolt\", \"border\", \"border\", \"border\", \"border\", \"borland\", \"borland\", \"br\", \"br\", \"br\", \"bradford\", \"bradford\", \"breese\", \"breese\", \"brochure\", \"brochure\", \"brochure\", \"build\", \"build\", \"build\", \"business\", \"business\", \"business\", \"business\", \"buying\", \"buying\", \"buying\", \"bwoertz\", \"bwoertz\", \"california\", \"california\", \"california\", \"california\", \"call\", \"call\", \"call\", \"call\", \"call\", \"cellpadding\", \"cellpadding\", \"cellspacing\", \"cellspacing\", \"center\", \"center\", \"center\", \"center\", \"center\", \"certificate\", \"certificate\", \"certificate\", \"cherry\", \"cherry\", \"class\", \"class\", \"class\", \"class\", \"clear\", \"clear\", \"clear\", \"clear\", \"click\", \"click\", \"click\", \"click\", \"click\", \"collapse\", \"collapse\", \"colspan\", \"colspan\", \"company\", \"company\", \"company\", \"company\", \"conference\", \"conference\", \"conference\", \"conference\", \"consumer\", \"consumer\", \"consumer\", \"consumer\", \"consumer\", \"contact\", \"contact\", \"contact\", \"contact\", \"coords\", \"coords\", \"coral\", \"coral\", \"coral\", \"corp\", \"corp\", \"corp\", \"corp\", \"credit\", \"credit\", \"credit\", \"crisis\", \"crisis\", \"ct\", \"ct\", \"ct\", \"ct\", \"ct\", \"ctr\", \"ctr\", \"curve\", \"curve\", \"curve\", \"darrell\", \"darrell\", \"darrell\", \"data\", \"data\", \"data\", \"data\", \"data\", \"database\", \"database\", \"database\", \"database\", \"date\", \"date\", \"date\", \"date\", \"dbcaps\", \"dbcaps\", \"dealing\", \"dealing\", \"dealing\", \"declared\", \"desk\", \"desk\", \"desk\", \"desk\", \"detected\", \"detected\", \"devastated\", \"development\", \"development\", \"development\", \"devil\", \"devil\", \"devon\", \"devon\", \"devon\", \"digital\", \"digital\", \"discrimination\", \"discrimination\", \"disregard\", \"disregard\", \"div\", \"doc\", \"doc\", \"doc\", \"doc\", \"donate\", \"e\", \"e\", \"e\", \"e\", \"e\", \"ecar\", \"ecar\", \"edgar\", \"ee\", \"ee\", \"ee\", \"eei\", \"eei\", \"eix\", \"eix\", \"email\", \"email\", \"email\", \"email\", \"email\", \"emailed\", \"emailed\", \"emaillink\", \"emaillink\", \"employee\", \"employee\", \"employee\", \"employee\", \"enemy\", \"enemy\", \"energy\", \"energy\", \"energy\", \"energy\", \"energy\", \"enform\", \"enform\", \"engine\", \"engine\", \"enron\", \"enron\", \"enron\", \"enron\", \"enronxgate\", \"enronxgate\", \"enronxgate\", \"enter\", \"enter\", \"enter\", \"enter\", \"eol\", \"eol\", \"eol\", \"epenergy\", \"epenergy\", \"error\", \"error\", \"error\", \"error\", \"error\", \"euci\", \"euci\", \"executive\", \"executive\", \"executive\", \"exotica\", \"exotica\", \"exotica\", \"f\", \"f\", \"f\", \"f\", \"f\", \"feedback\", \"feedback\", \"feedback\", \"feedback\", \"ffffff\", \"ffffff\", \"file\", \"file\", \"file\", \"file\", \"financial\", \"financial\", \"financial\", \"financial\", \"financially\", \"font\", \"font\", \"font\", \"font\", \"forwarded\", \"forwarded\", \"forwarded\", \"forwarded\", \"fran\", \"fran\", \"frcc\", \"frcc\", \"fri\", \"fri\", \"fri\", \"fri\", \"friday\", \"friday\", \"friday\", \"friday\", \"friday\", \"fund\", \"fund\", \"fund\", \"fw\", \"fw\", \"fw\", \"fw\", \"fw\", \"fx\", \"fx\", \"gas\", \"gas\", \"gas\", \"gas\", \"gas\", \"get\", \"get\", \"get\", \"get\", \"get\", \"gif\", \"gif\", \"gif\", \"gift\", \"gift\", \"gift\", \"gossett\", \"gossett\", \"greg\", \"greg\", \"greg\", \"greg\", \"gregwhalley\", \"gregwhalley\", \"gt\", \"hanagriff\", \"hanagriff\", \"hanagriff\", \"harrison\", \"harrison\", \"harrison\", \"height\", \"height\", \"hou\", \"hou\", \"hou\", \"hour\", \"hour\", \"hour\", \"hour\", \"hourahead\", \"hourahead\", \"hourahead\", \"hp\", \"hp\", \"hp\", \"hp\", \"href\", \"href\", \"href\", \"hurt\", \"hurt\", \"id\", \"id\", \"id\", \"id\", \"id\", \"iii\", \"iii\", \"iii\", \"image\", \"image\", \"image\", \"image\", \"image\", \"img\", \"img\", \"impacted\", \"impacted\", \"implemented\", \"implemented\", \"information\", \"information\", \"information\", \"information\", \"information\", \"initialize\", \"initialize\", \"intended\", \"intended\", \"intended\", \"interchange\", \"interchange\", \"investor\", \"investor\", \"investor\", \"issuealert\", \"itcapps\", \"itcapps\", \"j\", \"j\", \"j\", \"january\", \"january\", \"january\", \"january\", \"january\", \"jerry\", \"jerry\", \"jerry\", \"john\", \"john\", \"john\", \"john\", \"june\", \"june\", \"june\", \"june\", \"ken\", \"ken\", \"ken\", \"kern\", \"kern\", \"kim\", \"kim\", \"kim\", \"kim\", \"know\", \"know\", \"know\", \"know\", \"know\", \"kowalke\", \"kowalke\", \"kowalke\", \"labour\", \"labour\", \"last\", \"last\", \"last\", \"last\", \"last\", \"laurel\", \"laurel\", \"lavorato\", \"lavorato\", \"lay\", \"lay\", \"lay\", \"let\", \"let\", \"let\", \"let\", \"let\", \"like\", \"like\", \"like\", \"like\", \"like\", \"linkbarseperator\", \"linkbarseperator\", \"locate\", \"locate\", \"log\", \"log\", \"log\", \"log\", \"log\", \"lokay\", \"lokay\", \"london\", \"london\", \"london\", \"london\", \"lost\", \"lost\", \"lost\", \"lynn\", \"lynn\", \"lynn\", \"lynn\", \"made\", \"made\", \"made\", \"made\", \"made\", \"mail\", \"mail\", \"mail\", \"mail\", \"mail\", \"mailto\", \"mailto\", \"mailto\", \"mailto\", \"mailto\", \"make\", \"make\", \"make\", \"make\", \"make\", \"management\", \"management\", \"management\", \"management\", \"mapp\", \"mapp\", \"mapp\", \"mark\", \"mark\", \"mark\", \"mark\", \"mark\", \"market\", \"market\", \"market\", \"market\", \"market\", \"material\", \"material\", \"material\", \"material\", \"matt\", \"matt\", \"matt\", \"may\", \"may\", \"may\", \"may\", \"membership\", \"membership\", \"membership\", \"message\", \"message\", \"message\", \"message\", \"message\", \"mike\", \"mike\", \"mike\", \"mike\", \"million\", \"million\", \"million\", \"million\", \"money\", \"money\", \"money\", \"money\", \"monk\", \"monk\", \"mr\", \"mr\", \"mr\", \"mw\", \"mw\", \"mw\", \"mw\", \"na\", \"na\", \"na\", \"nbsp\", \"nbsp\", \"ne\", \"ne\", \"ne\", \"ne\", \"net\", \"net\", \"net\", \"net\", \"netted\", \"neumin\", \"neumin\", \"new\", \"new\", \"new\", \"new\", \"new\", \"npcc\", \"npcc\", \"offer\", \"offer\", \"offer\", \"offer\", \"one\", \"one\", \"one\", \"one\", \"one\", \"option\", \"option\", \"option\", \"option\", \"option\", \"original\", \"original\", \"original\", \"original\", \"original\", \"origination\", \"origination\", \"origination\", \"outage\", \"outage\", \"outage\", \"outage\", \"pager\", \"pager\", \"pager\", \"parsing\", \"parsing\", \"parsing\", \"partnership\", \"partnership\", \"partnership\", \"pay\", \"pay\", \"pay\", \"pay\", \"pcg\", \"pcg\", \"pdf\", \"pdf\", \"pdf\", \"pdf\", \"pdf\", \"pdx\", \"pdx\", \"pdx\", \"pep\", \"pep\", \"pep\", \"pep\", \"perimeter\", \"perimeter\", \"plan\", \"plan\", \"plan\", \"plan\", \"please\", \"please\", \"please\", \"please\", \"please\", \"pm\", \"pm\", \"pm\", \"pm\", \"pocketbook\", \"power\", \"power\", \"power\", \"power\", \"powersrc\", \"powersrc\", \"preferred\", \"preferred\", \"preferred\", \"preferred\", \"price\", \"price\", \"price\", \"price\", \"price\", \"profit\", \"profit\", \"profit\", \"pseg\", \"pseg\", \"pt\", \"pt\", \"pt\", \"pt\", \"pv\", \"pv\", \"question\", \"question\", \"question\", \"question\", \"question\", \"raquel\", \"raquel\", \"receive\", \"receive\", \"receive\", \"receive\", \"receive\", \"rect\", \"rect\", \"ref\", \"ref\", \"ref\", \"reliantenergy\", \"reliantenergy\", \"reliantenergy\", \"relief\", \"relief\", \"repair\", \"report\", \"report\", \"report\", \"report\", \"report\", \"reported\", \"reported\", \"request\", \"request\", \"request\", \"request\", \"resource\", \"resource\", \"resource\", \"resource\", \"retirement\", \"retirement\", \"revert\", \"revert\", \"right\", \"right\", \"right\", \"right\", \"right\", \"rk\", \"rk\", \"rk\", \"rk\", \"said\", \"said\", \"said\", \"sample\", \"sample\", \"sat\", \"sat\", \"sat\", \"sat\", \"savita\", \"savita\", \"say\", \"say\", \"say\", \"say\", \"say\", \"schedule\", \"schedule\", \"schedule\", \"schedule\", \"schedule\", \"scheduled\", \"scheduled\", \"scheduled\", \"scheduled\", \"scheduled\", \"scientech\", \"scientech\", \"scientech\", \"scoop\", \"scoop\", \"script\", \"script\", \"script\", \"se\", \"se\", \"se\", \"se\", \"see\", \"see\", \"see\", \"see\", \"see\", \"server\", \"server\", \"server\", \"server\", \"service\", \"service\", \"service\", \"service\", \"service\", \"sfs\", \"sfs\", \"sfs\", \"share\", \"share\", \"share\", \"share\", \"siege\", \"siege\", \"sight\", \"sight\", \"simulation\", \"simulation\", \"simulation\", \"simulation\", \"simulation\", \"skadden\", \"skadden\", \"skadden\", \"skadden\", \"socal\", \"socal\", \"socal\", \"sold\", \"sold\", \"soldier\", \"soldier\", \"solidarity\", \"solidarity\", \"sp\", \"sp\", \"sp\", \"sp\", \"src\", \"src\", \"srrs\", \"srrs\", \"stacey\", \"stacey\", \"stacey\", \"state\", \"state\", \"state\", \"state\", \"state\", \"std\", \"std\", \"stephanie\", \"stephanie\", \"stephanie\", \"stock\", \"stock\", \"stock\", \"stock\", \"stocklookup\", \"stocklookup\", \"stsw\", \"stsw\", \"stwbom\", \"stwbom\", \"suck\", \"suck\", \"sw\", \"sw\", \"sw\", \"sw\", \"syncrasy\", \"syncrasy\", \"system\", \"system\", \"system\", \"system\", \"table\", \"table\", \"table\", \"table\", \"tagline\", \"tagline\", \"td\", \"td\", \"td\", \"td\", \"team\", \"team\", \"team\", \"thanks\", \"thanks\", \"thanks\", \"thanks\", \"thanks\", \"thru\", \"thru\", \"thru\", \"thru\", \"time\", \"time\", \"time\", \"time\", \"time\", \"tower\", \"tower\", \"tr\", \"tr\", \"tr\", \"tycholiz\", \"tycholiz\", \"tycholiz\", \"tyco\", \"u\", \"u\", \"u\", \"u\", \"u\", \"underhanded\", \"underscore\", \"underscore\", \"union\", \"union\", \"union\", \"urge\", \"urge\", \"urging\", \"use\", \"use\", \"use\", \"use\", \"use\", \"valign\", \"valign\", \"variance\", \"variance\", \"variance\", \"venturewire\", \"venturewire\", \"weapon\", \"weapon\", \"westdesk\", \"westdesk\", \"westdesk\", \"whalley\", \"whalley\", \"width\", \"width\", \"width\", \"williams\", \"williams\", \"williams\", \"win\", \"win\", \"wiped\", \"wj\", \"wj\", \"wj\", \"wolfe\", \"wolfe\", \"wolfe\", \"worth\", \"worth\", \"worth\", \"worth\", \"would\", \"would\", \"would\", \"would\", \"would\", \"writing\", \"writing\", \"writing\", \"wscc\", \"wscc\", \"wscc\", \"wscc\", \"wyndham\", \"wyndham\", \"year\", \"year\", \"year\", \"year\", \"year\", \"york\", \"york\", \"york\", \"york\"]}, \"R\": 30, \"lambda.step\": 0.01, \"plot.opts\": {\"xlab\": \"PC1\", \"ylab\": \"PC2\"}, \"topic.order\": [1, 2, 3, 4, 5]};\n",
              "\n",
              "function LDAvis_load_lib(url, callback){\n",
              "  var s = document.createElement('script');\n",
              "  s.src = url;\n",
              "  s.async = true;\n",
              "  s.onreadystatechange = s.onload = callback;\n",
              "  s.onerror = function(){console.warn(\"failed to load library \" + url);};\n",
              "  document.getElementsByTagName(\"head\")[0].appendChild(s);\n",
              "}\n",
              "\n",
              "if(typeof(LDAvis) !== \"undefined\"){\n",
              "   // already loaded: just create the visualization\n",
              "   !function(LDAvis){\n",
              "       new LDAvis(\"#\" + \"ldavis_el3293111935864487508181479\", ldavis_el3293111935864487508181479_data);\n",
              "   }(LDAvis);\n",
              "}else if(typeof define === \"function\" && define.amd){\n",
              "   // require.js is available: use it to load d3/LDAvis\n",
              "   require.config({paths: {d3: \"https://d3js.org/d3.v5\"}});\n",
              "   require([\"d3\"], function(d3){\n",
              "      window.d3 = d3;\n",
              "      LDAvis_load_lib(\"https://cdn.jsdelivr.net/gh/bmabey/pyLDAvis@3.4.0/pyLDAvis/js/ldavis.v3.0.0.js\", function(){\n",
              "        new LDAvis(\"#\" + \"ldavis_el3293111935864487508181479\", ldavis_el3293111935864487508181479_data);\n",
              "      });\n",
              "    });\n",
              "}else{\n",
              "    // require.js not available: dynamically load d3 & LDAvis\n",
              "    LDAvis_load_lib(\"https://d3js.org/d3.v5.js\", function(){\n",
              "         LDAvis_load_lib(\"https://cdn.jsdelivr.net/gh/bmabey/pyLDAvis@3.4.0/pyLDAvis/js/ldavis.v3.0.0.js\", function(){\n",
              "                 new LDAvis(\"#\" + \"ldavis_el3293111935864487508181479\", ldavis_el3293111935864487508181479_data);\n",
              "            })\n",
              "         });\n",
              "}\n",
              "</script>"
            ],
            "text/plain": [
              "<IPython.core.display.HTML object>"
            ]
          },
          "execution_count": 535,
          "metadata": {},
          "output_type": "execute_result"
        }
      ],
      "source": [
        "lda_display = pyLDAvis.gensim.prepare(ldamodel, corpus, dictionary, sort_topics=False)\n",
        "\n",
        "#please note that the pyLDAvis will not be displayed by GitHub. An image of the display is included in the README in the Text Mining section\n",
        "pyLDAvis.display(lda_display)"
      ]
    },
    {
      "cell_type": "markdown",
      "id": "eff121db",
      "metadata": {
        "id": "eff121db"
      },
      "source": [
        "#### Findings from above:\n",
        "It's important to remember our models are 0-indexed (Python convention) and pyLDAvis is 1-indexed. So the topics need to be interpreted as:\n",
        "\n",
        "-`1` in our visual = `0` in our topics list\n",
        "\n",
        "-`4` in the visual = `3` in our topics list\n",
        "\n",
        "In our visual, topic 1(0), which is the suspicious topic we identified earlier, encompasses topic 4(3). This may mean that certain subtopics within our suspicious topic are not suspicious."
      ]
    },
    {
      "cell_type": "markdown",
      "id": "7e366126",
      "metadata": {
        "id": "7e366126"
      },
      "source": [
        "### Add original text to topic details in a dataframe\n",
        "Here, I'm using the get_topic_details() function to append the topic details to my original dataframe so we can compare the topic keywords and original cleaned text side by side."
      ]
    },
    {
      "cell_type": "code",
      "execution_count": null,
      "id": "5980915d",
      "metadata": {
        "id": "5980915d",
        "outputId": "4cc4747c-c4aa-46d8-ab38-859370a2598d"
      },
      "outputs": [
        {
          "name": "stdout",
          "output_type": "stream",
          "text": [
            "  Dominant_Topic  % Score                                     Topic_Keywords   \n",
            "0              3   0.5921  bakernet, enron, mailto, u, e, see, email, dat...  \\\n",
            "1              3   0.7847  bakernet, enron, mailto, u, e, see, email, dat...   \n",
            "2              4   0.8974  enron, hou, message, pm, original, please, e, ...   \n",
            "3              0   0.9935  enron, company, stock, energy, employee, said,...   \n",
            "4              0   0.9934  enron, company, stock, energy, employee, said,...   \n",
            "\n",
            "                                       Original text  \n",
            "0  [investools, advisory, free, digest, trusted, ...  \n",
            "1  [forwarded, richard, b, sander, hou, pm, justi...  \n",
            "2  [hey, wearing, target, purple, shirt, today, m...  \n",
            "3  [leslie, milosevich, santa, clara, avenue, ala...  \n",
            "4  [rini, twait, e, th, ave, longmont, co, rtwait...  \n"
          ]
        }
      ],
      "source": [
        "contents = pd.DataFrame({'Original text': text_clean})\n",
        "topic_details = pd.concat([get_topic_details(ldamodel, corpus), contents], axis=1)\n",
        "print(topic_details.head())"
      ]
    },
    {
      "cell_type": "markdown",
      "id": "363a0213",
      "metadata": {
        "id": "363a0213"
      },
      "source": [
        "### Create a flag for all content that has topic 0 as dominant topic\n",
        "Here I'm creating a new column `flag` that shows 1 when the topic is 0 and 0 when the topic is any other topic. This is quick and easy way to indicate that these emails may be suspicious."
      ]
    },
    {
      "cell_type": "code",
      "execution_count": null,
      "id": "b65f709a",
      "metadata": {
        "id": "b65f709a",
        "outputId": "53888a99-2059-47b7-9ff2-a07f527ace82"
      },
      "outputs": [
        {
          "name": "stdout",
          "output_type": "stream",
          "text": [
            "  Dominant_Topic  % Score                                     Topic_Keywords   \n",
            "0              3   0.5921  bakernet, enron, mailto, u, e, see, email, dat...  \\\n",
            "1              3   0.7847  bakernet, enron, mailto, u, e, see, email, dat...   \n",
            "2              4   0.8974  enron, hou, message, pm, original, please, e, ...   \n",
            "3              0   0.9935  enron, company, stock, energy, employee, said,...   \n",
            "4              0   0.9934  enron, company, stock, energy, employee, said,...   \n",
            "\n",
            "                                       Original text  flag  \n",
            "0  [investools, advisory, free, digest, trusted, ...     0  \n",
            "1  [forwarded, richard, b, sander, hou, pm, justi...     0  \n",
            "2  [hey, wearing, target, purple, shirt, today, m...     0  \n",
            "3  [leslie, milosevich, santa, clara, avenue, ala...     1  \n",
            "4  [rini, twait, e, th, ave, longmont, co, rtwait...     1  \n"
          ]
        }
      ],
      "source": [
        "# Create flag for text highest associated with topic 0\n",
        "topic_details['flag'] = np.where((topic_details['Dominant_Topic'] == 0), 1, 0)\n",
        "print(topic_details.head())"
      ]
    },
    {
      "cell_type": "markdown",
      "id": "98fc4200",
      "metadata": {
        "id": "98fc4200"
      },
      "source": [
        "Fantastic! We have now flagged all data that is highest associated with topic 0, that seems to cover internal conversation about enron stock options.\n",
        "\n",
        "In this project, I have demonstrated a variety of ways to conduct fraud analysis in Python. "
      ]
    }
  ],
  "metadata": {
    "colab": {
      "include_colab_link": true,
      "provenance": []
    },
    "kernelspec": {
      "display_name": "Python 3 (ipykernel)",
      "language": "python",
      "name": "python3"
    },
    "language_info": {
      "codemirror_mode": {
        "name": "ipython",
        "version": 3
      },
      "file_extension": ".py",
      "mimetype": "text/x-python",
      "name": "python",
      "nbconvert_exporter": "python",
      "pygments_lexer": "ipython3",
      "version": "3.11.5"
    }
  },
  "nbformat": 4,
  "nbformat_minor": 5
}
